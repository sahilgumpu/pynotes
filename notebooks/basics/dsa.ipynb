{
 "cells": [
  {
   "cell_type": "code",
   "execution_count": 1,
   "id": "0c674477-8457-4a49-b242-b45a8feefc06",
   "metadata": {},
   "outputs": [
    {
     "name": "stdout",
     "output_type": "stream",
     "text": [
      "30\n",
      "[10, 20]\n"
     ]
    }
   ],
   "source": [
    "stack = []\n",
    "\n",
    "# Push\n",
    "stack.append(10)\n",
    "stack.append(20)\n",
    "stack.append(30)\n",
    "\n",
    "# Pop\n",
    "print(stack.pop())  # 30\n",
    "print(stack)        # [10, 20]\n"
   ]
  },
  {
   "cell_type": "code",
   "execution_count": 2,
   "id": "9afa891c-9ef6-43e9-8c1c-c0ec471a8146",
   "metadata": {},
   "outputs": [
    {
     "name": "stdout",
     "output_type": "stream",
     "text": [
      "1\n",
      "deque([2, 3])\n"
     ]
    }
   ],
   "source": [
    "from collections import deque\n",
    "\n",
    "queue = deque()\n",
    "\n",
    "# Enqueue\n",
    "queue.append(1)\n",
    "queue.append(2)\n",
    "queue.append(3)\n",
    "\n",
    "# Dequeue\n",
    "print(queue.popleft())  # 1\n",
    "print(queue)            # deque([2, 3])\n"
   ]
  },
  {
   "cell_type": "code",
   "execution_count": 3,
   "id": "58ac42f0-cb96-48fb-84d3-3b271e4f4ef8",
   "metadata": {},
   "outputs": [
    {
     "name": "stdout",
     "output_type": "stream",
     "text": [
      "3\n"
     ]
    }
   ],
   "source": [
    "def binary_search(arr, target):\n",
    "    low, high = 0, len(arr) - 1\n",
    "    \n",
    "    while low <= high:\n",
    "        mid = (low + high) // 2\n",
    "        \n",
    "        if arr[mid] == target:\n",
    "            return mid\n",
    "        elif arr[mid] < target:\n",
    "            low = mid + 1\n",
    "        else:\n",
    "            high = mid - 1\n",
    "            \n",
    "    return -1\n",
    "\n",
    "arr = [1, 3, 5, 7, 9]\n",
    "print(binary_search(arr, 7))  # Output: 3\n"
   ]
  },
  {
   "cell_type": "code",
   "execution_count": 4,
   "id": "4e2ec294-831e-4163-ac7b-f7e83490285d",
   "metadata": {},
   "outputs": [
    {
     "name": "stdout",
     "output_type": "stream",
     "text": [
      "30 -> 20 -> 10 -> None\n"
     ]
    }
   ],
   "source": [
    "class Node:\n",
    "    def __init__(self, data):\n",
    "        self.data = data\n",
    "        self.next = None\n",
    "\n",
    "class LinkedList:\n",
    "    def __init__(self):\n",
    "        self.head = None\n",
    "    \n",
    "    def insert(self, data):\n",
    "        new_node = Node(data)\n",
    "        new_node.next = self.head\n",
    "        self.head = new_node\n",
    "    \n",
    "    def display(self):\n",
    "        curr = self.head\n",
    "        while curr:\n",
    "            print(curr.data, end=' -> ')\n",
    "            curr = curr.next\n",
    "        print(\"None\")\n",
    "\n",
    "ll = LinkedList()\n",
    "ll.insert(10)\n",
    "ll.insert(20)\n",
    "ll.insert(30)\n",
    "ll.display()\n"
   ]
  },
  {
   "cell_type": "code",
   "execution_count": 5,
   "id": "2d0c5e62-62b3-4fd8-ad3f-32220971361d",
   "metadata": {},
   "outputs": [
    {
     "name": "stdout",
     "output_type": "stream",
     "text": [
      "2\n"
     ]
    }
   ],
   "source": [
    "def linear_search(arr, target):\n",
    "    for i in range(len(arr)):\n",
    "        if arr[i] == target:\n",
    "            return i\n",
    "    return -1\n",
    "\n",
    "print(linear_search([10, 20, 30, 40], 30))  # Output: 2\n"
   ]
  },
  {
   "cell_type": "code",
   "execution_count": 6,
   "id": "57d3e8c6-5f66-4730-b88b-860a3dd0e307",
   "metadata": {},
   "outputs": [
    {
     "name": "stdout",
     "output_type": "stream",
     "text": [
      "Sorted array: [11, 12, 22, 25, 64]\n"
     ]
    }
   ],
   "source": [
    "def bubble_sort(arr):\n",
    "    n = len(arr)\n",
    "    for i in range(n):\n",
    "        for j in range(0, n-i-1):\n",
    "            if arr[j] > arr[j+1]:\n",
    "                arr[j], arr[j+1] = arr[j+1], arr[j]\n",
    "\n",
    "arr = [64, 25, 12, 22, 11]\n",
    "bubble_sort(arr)\n",
    "print(\"Sorted array:\", arr)\n"
   ]
  },
  {
   "cell_type": "code",
   "execution_count": 7,
   "id": "bc634298-ac07-4dc5-9b39-3831ebb865f8",
   "metadata": {},
   "outputs": [
    {
     "name": "stdout",
     "output_type": "stream",
     "text": [
      "120\n"
     ]
    }
   ],
   "source": [
    "def factorial(n):\n",
    "    if n == 0 or n == 1:\n",
    "        return 1\n",
    "    return n * factorial(n-1)\n",
    "\n",
    "print(factorial(5))  # Output: 120\n"
   ]
  },
  {
   "cell_type": "code",
   "execution_count": 8,
   "id": "eb96dfd1-7922-4ffc-ad6b-a5a99713e65e",
   "metadata": {},
   "outputs": [
    {
     "name": "stdout",
     "output_type": "stream",
     "text": [
      "55\n"
     ]
    }
   ],
   "source": [
    "def fib(n, memo={}):\n",
    "    if n <= 1:\n",
    "        return n\n",
    "    if n not in memo:\n",
    "        memo[n] = fib(n-1, memo) + fib(n-2, memo)\n",
    "    return memo[n]\n",
    "\n",
    "print(fib(10))  # Output: 55\n"
   ]
  },
  {
   "cell_type": "code",
   "execution_count": 9,
   "id": "5ad89cd9-3126-4912-bd99-d4f727d2ec9e",
   "metadata": {},
   "outputs": [
    {
     "name": "stdout",
     "output_type": "stream",
     "text": [
      "20\n"
     ]
    }
   ],
   "source": [
    "class Stack:\n",
    "    def __init__(self):\n",
    "        self.stack = []\n",
    "\n",
    "    def push(self, data):\n",
    "        self.stack.append(data)\n",
    "\n",
    "    def pop(self):\n",
    "        if not self.is_empty():\n",
    "            return self.stack.pop()\n",
    "\n",
    "    def peek(self):\n",
    "        return self.stack[-1] if not self.is_empty() else None\n",
    "\n",
    "    def is_empty(self):\n",
    "        return len(self.stack) == 0\n",
    "\n",
    "s = Stack()\n",
    "s.push(10)\n",
    "s.push(20)\n",
    "print(s.pop())  # Output: 20\n"
   ]
  },
  {
   "cell_type": "code",
   "execution_count": 10,
   "id": "17c2fd5e-f0d9-4bf0-8e48-474d7dca6c93",
   "metadata": {},
   "outputs": [
    {
     "name": "stdout",
     "output_type": "stream",
     "text": [
      "5\n"
     ]
    }
   ],
   "source": [
    "class Queue:\n",
    "    def __init__(self):\n",
    "        self.queue = []\n",
    "\n",
    "    def enqueue(self, data):\n",
    "        self.queue.append(data)\n",
    "\n",
    "    def dequeue(self):\n",
    "        if not self.is_empty():\n",
    "            return self.queue.pop(0)\n",
    "\n",
    "    def is_empty(self):\n",
    "        return len(self.queue) == 0\n",
    "\n",
    "q = Queue()\n",
    "q.enqueue(5)\n",
    "q.enqueue(10)\n",
    "print(q.dequeue())  # Output: 5\n"
   ]
  },
  {
   "cell_type": "code",
   "execution_count": 11,
   "id": "b049fe5b-bceb-4aae-87f3-4eb5c3796661",
   "metadata": {},
   "outputs": [
    {
     "name": "stdout",
     "output_type": "stream",
     "text": [
      "4 2 1 3 "
     ]
    }
   ],
   "source": [
    "class Node:\n",
    "    def __init__(self, key):\n",
    "        self.left = None\n",
    "        self.right = None\n",
    "        self.val = key\n",
    "\n",
    "def inorder(root):\n",
    "    if root:\n",
    "        inorder(root.left)\n",
    "        print(root.val, end=' ')\n",
    "        inorder(root.right)\n",
    "\n",
    "# Example tree\n",
    "root = Node(1)\n",
    "root.left = Node(2)\n",
    "root.right = Node(3)\n",
    "root.left.left = Node(4)\n",
    "\n",
    "inorder(root)  # Output: 4 2 1 3\n"
   ]
  },
  {
   "cell_type": "code",
   "execution_count": 12,
   "id": "38d79b15-ae65-49d9-aad3-3a2bddf732a2",
   "metadata": {},
   "outputs": [
    {
     "name": "stdout",
     "output_type": "stream",
     "text": [
      "BFS:\n",
      "0 1 2 3 4 \n",
      "DFS:\n",
      "0 1 3 2 4 "
     ]
    }
   ],
   "source": [
    "from collections import defaultdict, deque\n",
    "\n",
    "class Graph:\n",
    "    def __init__(self):\n",
    "        self.graph = defaultdict(list)\n",
    "\n",
    "    def add_edge(self, u, v):\n",
    "        self.graph[u].append(v)\n",
    "\n",
    "    def bfs(self, start):\n",
    "        visited = set()\n",
    "        queue = deque([start])\n",
    "        while queue:\n",
    "            node = queue.popleft()\n",
    "            if node not in visited:\n",
    "                print(node, end=' ')\n",
    "                visited.add(node)\n",
    "                queue.extend(self.graph[node])\n",
    "\n",
    "    def dfs(self, node, visited=set()):\n",
    "        if node not in visited:\n",
    "            print(node, end=' ')\n",
    "            visited.add(node)\n",
    "            for neighbour in self.graph[node]:\n",
    "                self.dfs(neighbour, visited)\n",
    "\n",
    "g = Graph()\n",
    "g.add_edge(0, 1)\n",
    "g.add_edge(0, 2)\n",
    "g.add_edge(1, 3)\n",
    "g.add_edge(2, 4)\n",
    "\n",
    "print(\"BFS:\")\n",
    "g.bfs(0)  # Output: 0 1 2 3 4\n",
    "print(\"\\nDFS:\")\n",
    "g.dfs(0)  # Output: 0 1 3 2 4\n"
   ]
  },
  {
   "cell_type": "code",
   "execution_count": 13,
   "id": "8fdc851f-84ca-4ef1-9959-a33a9f52e6ee",
   "metadata": {},
   "outputs": [
    {
     "name": "stdout",
     "output_type": "stream",
     "text": [
      "9\n"
     ]
    }
   ],
   "source": [
    "def knapsack(weights, values, W, n):\n",
    "    if n == 0 or W == 0:\n",
    "        return 0\n",
    "    if weights[n-1] <= W:\n",
    "        return max(\n",
    "            values[n-1] + knapsack(weights, values, W - weights[n-1], n - 1),\n",
    "            knapsack(weights, values, W, n - 1)\n",
    "        )\n",
    "    else:\n",
    "        return knapsack(weights, values, W, n - 1)\n",
    "\n",
    "weights = [1, 3, 4, 5]\n",
    "values = [1, 4, 5, 7]\n",
    "W = 7\n",
    "n = len(weights)\n",
    "print(knapsack(weights, values, W, n))  # Output: 9\n"
   ]
  },
  {
   "cell_type": "code",
   "execution_count": 14,
   "id": "9ceaf56a-6dfb-4474-bb78-24d41b53e3c5",
   "metadata": {},
   "outputs": [
    {
     "name": "stdout",
     "output_type": "stream",
     "text": [
      "Sorted array: [11, 12, 22, 25, 64]\n"
     ]
    }
   ],
   "source": [
    "def selection_sort(arr):\n",
    "    for i in range(len(arr)):\n",
    "        min_idx = i\n",
    "        for j in range(i+1, len(arr)):\n",
    "            if arr[j] < arr[min_idx]:\n",
    "                min_idx = j\n",
    "        arr[i], arr[min_idx] = arr[min_idx], arr[i]\n",
    "\n",
    "arr = [64, 25, 12, 22, 11]\n",
    "selection_sort(arr)\n",
    "print(\"Sorted array:\", arr)\n"
   ]
  },
  {
   "cell_type": "code",
   "execution_count": 15,
   "id": "e20ae021-838b-4ef0-8778-3321775ae8fe",
   "metadata": {},
   "outputs": [
    {
     "name": "stdout",
     "output_type": "stream",
     "text": [
      "Sorted array: [5, 6, 11, 12, 13]\n"
     ]
    }
   ],
   "source": [
    "def insertion_sort(arr):\n",
    "    for i in range(1, len(arr)):\n",
    "        key = arr[i]\n",
    "        j = i - 1\n",
    "        while j >= 0 and arr[j] > key:\n",
    "            arr[j+1] = arr[j]\n",
    "            j -= 1\n",
    "        arr[j+1] = key\n",
    "\n",
    "arr = [12, 11, 13, 5, 6]\n",
    "insertion_sort(arr)\n",
    "print(\"Sorted array:\", arr)\n"
   ]
  },
  {
   "cell_type": "code",
   "execution_count": 16,
   "id": "4523b3d2-49fd-4403-85f3-8ea2cc058285",
   "metadata": {},
   "outputs": [
    {
     "name": "stdout",
     "output_type": "stream",
     "text": [
      "Sorted array: [1, 5, 7, 8, 9, 10]\n"
     ]
    }
   ],
   "source": [
    "def quick_sort(arr):\n",
    "    if len(arr) <= 1:\n",
    "        return arr\n",
    "    pivot = arr[len(arr)//2]\n",
    "    left = [x for x in arr if x < pivot]\n",
    "    middle = [x for x in arr if x == pivot]\n",
    "    right = [x for x in arr if x > pivot]\n",
    "    return quick_sort(left) + middle + quick_sort(right)\n",
    "\n",
    "arr = [10, 7, 8, 9, 1, 5]\n",
    "print(\"Sorted array:\", quick_sort(arr))\n"
   ]
  },
  {
   "cell_type": "code",
   "execution_count": 17,
   "id": "f68915ab-c385-4606-9279-b84fae737288",
   "metadata": {},
   "outputs": [
    {
     "name": "stdout",
     "output_type": "stream",
     "text": [
      "True\n",
      "False\n"
     ]
    }
   ],
   "source": [
    "def is_palindrome(s):\n",
    "    return s == s[::-1]\n",
    "\n",
    "print(is_palindrome(\"radar\"))  # True\n",
    "print(is_palindrome(\"hello\"))  # False\n"
   ]
  },
  {
   "cell_type": "code",
   "execution_count": 18,
   "id": "f8cdadcb-9546-4c11-8cae-b7668ec0ab55",
   "metadata": {},
   "outputs": [
    {
     "name": "stdout",
     "output_type": "stream",
     "text": [
      "True\n",
      "False\n"
     ]
    }
   ],
   "source": [
    "def is_anagram(str1, str2):\n",
    "    return sorted(str1) == sorted(str2)\n",
    "\n",
    "print(is_anagram(\"listen\", \"silent\"))  # True\n",
    "print(is_anagram(\"hello\", \"world\"))    # False\n"
   ]
  },
  {
   "cell_type": "code",
   "execution_count": 19,
   "id": "920be872-0d23-4aeb-8326-372081fb530e",
   "metadata": {},
   "outputs": [
    {
     "name": "stdout",
     "output_type": "stream",
     "text": [
      "4\n"
     ]
    }
   ],
   "source": [
    "def lcs(X, Y):\n",
    "    m = len(X)\n",
    "    n = len(Y)\n",
    "    L = [[None]*(n+1) for i in range(m+1)]\n",
    "\n",
    "    for i in range(m+1):\n",
    "        for j in range(n+1):\n",
    "            if i == 0 or j == 0:\n",
    "                L[i][j] = 0\n",
    "            elif X[i-1] == Y[j-1]:\n",
    "                L[i][j] = L[i-1][j-1] + 1\n",
    "            else:\n",
    "                L[i][j] = max(L[i-1][j], L[i][j-1])\n",
    "\n",
    "    return L[m][n]\n",
    "\n",
    "print(lcs(\"AGGTAB\", \"GXTXAYB\"))  # Output: 4\n"
   ]
  },
  {
   "cell_type": "code",
   "execution_count": 20,
   "id": "acf9d53a-1e0f-41e7-9f12-0e4006fa14b2",
   "metadata": {},
   "outputs": [
    {
     "name": "stdout",
     "output_type": "stream",
     "text": [
      "1 2 3 4 "
     ]
    }
   ],
   "source": [
    "from collections import deque\n",
    "\n",
    "class Node:\n",
    "    def __init__(self, val):\n",
    "        self.left = None\n",
    "        self.right = None\n",
    "        self.val = val\n",
    "\n",
    "def level_order(root):\n",
    "    if not root:\n",
    "        return\n",
    "    queue = deque([root])\n",
    "    while queue:\n",
    "        node = queue.popleft()\n",
    "        print(node.val, end=' ')\n",
    "        if node.left:\n",
    "            queue.append(node.left)\n",
    "        if node.right:\n",
    "            queue.append(node.right)\n",
    "\n",
    "root = Node(1)\n",
    "root.left = Node(2)\n",
    "root.right = Node(3)\n",
    "root.left.left = Node(4)\n",
    "\n",
    "level_order(root)  # Output: 1 2 3 4\n"
   ]
  },
  {
   "cell_type": "code",
   "execution_count": 21,
   "id": "2ad8cda3-4b86-4bb7-bbc4-1528e29c9b68",
   "metadata": {},
   "outputs": [
    {
     "name": "stdout",
     "output_type": "stream",
     "text": [
      "No Cycle\n"
     ]
    }
   ],
   "source": [
    "def has_cycle(graph, node, visited, parent):\n",
    "    visited.add(node)\n",
    "    for neighbor in graph[node]:\n",
    "        if neighbor not in visited:\n",
    "            if has_cycle(graph, neighbor, visited, node):\n",
    "                return True\n",
    "        elif neighbor != parent:\n",
    "            return True\n",
    "    return False\n",
    "\n",
    "graph = {\n",
    "    0: [1, 2],\n",
    "    1: [0, 3],\n",
    "    2: [0],\n",
    "    3: [1]\n",
    "}\n",
    "\n",
    "visited = set()\n",
    "print(\"Cycle Detected\" if has_cycle(graph, 0, visited, -1) else \"No Cycle\")\n"
   ]
  },
  {
   "cell_type": "code",
   "execution_count": 22,
   "id": "4afc36c6-248a-4c03-b4bc-197d12d195e6",
   "metadata": {},
   "outputs": [
    {
     "name": "stdout",
     "output_type": "stream",
     "text": [
      "[[1, 4], [2, 5], [3, 6]]\n"
     ]
    }
   ],
   "source": [
    "def transpose(matrix):\n",
    "    return [[matrix[j][i] for j in range(len(matrix))] for i in range(len(matrix[0]))]\n",
    "\n",
    "matrix = [\n",
    "    [1, 2, 3],\n",
    "    [4, 5, 6]\n",
    "]\n",
    "print(transpose(matrix))  # Output: [[1, 4], [2, 5], [3, 6]]\n"
   ]
  },
  {
   "cell_type": "code",
   "execution_count": 23,
   "id": "b0b3c16a-9ee3-4600-8ad7-b48cfba8fab1",
   "metadata": {},
   "outputs": [
    {
     "name": "stdout",
     "output_type": "stream",
     "text": [
      "3\n"
     ]
    }
   ],
   "source": [
    "def find_missing(arr, n):\n",
    "    total = n * (n + 1) // 2\n",
    "    return total - sum(arr)\n",
    "\n",
    "arr = [1, 2, 4, 5, 6]\n",
    "print(find_missing(arr, 6))  # Output: 3\n"
   ]
  },
  {
   "cell_type": "code",
   "execution_count": 24,
   "id": "b2881903-5116-4549-adc8-bd16e6505b86",
   "metadata": {},
   "outputs": [
    {
     "name": "stdout",
     "output_type": "stream",
     "text": [
      "1\n",
      "2\n",
      "3\n",
      "3\n",
      "2\n",
      "1\n"
     ]
    }
   ],
   "source": [
    "# Head recursion\n",
    "def head_rec(n):\n",
    "    if n == 0:\n",
    "        return\n",
    "    head_rec(n - 1)\n",
    "    print(n)\n",
    "\n",
    "# Tail recursion\n",
    "def tail_rec(n):\n",
    "    if n == 0:\n",
    "        return\n",
    "    print(n)\n",
    "    tail_rec(n - 1)\n",
    "\n",
    "head_rec(3)  # Output: 1 2 3\n",
    "tail_rec(3)  # Output: 3 2 1\n"
   ]
  },
  {
   "cell_type": "code",
   "execution_count": 25,
   "id": "223c8aa1-eb2e-4fec-a697-43feb6da93c9",
   "metadata": {},
   "outputs": [
    {
     "name": "stdout",
     "output_type": "stream",
     "text": [
      "9\n"
     ]
    }
   ],
   "source": [
    "def max_sum_subarray(arr, k):\n",
    "    max_sum = cur_sum = sum(arr[:k])\n",
    "    for i in range(k, len(arr)):\n",
    "        cur_sum += arr[i] - arr[i - k]\n",
    "        max_sum = max(max_sum, cur_sum)\n",
    "    return max_sum\n",
    "\n",
    "print(max_sum_subarray([2, 1, 5, 1, 3, 2], 3))  # Output: 9\n"
   ]
  },
  {
   "cell_type": "code",
   "execution_count": 26,
   "id": "19e5fcc6-bf5e-4821-9369-6b13c90bed96",
   "metadata": {},
   "outputs": [
    {
     "name": "stdout",
     "output_type": "stream",
     "text": [
      "6\n"
     ]
    }
   ],
   "source": [
    "def max_subarray_sum(nums):\n",
    "    max_sum = curr = nums[0]\n",
    "    for num in nums[1:]:\n",
    "        curr = max(num, curr + num)\n",
    "        max_sum = max(max_sum, curr)\n",
    "    return max_sum\n",
    "\n",
    "print(max_subarray_sum([-2,1,-3,4,-1,2,1,-5,4]))  # Output: 6\n"
   ]
  },
  {
   "cell_type": "code",
   "execution_count": 27,
   "id": "9fcb9a35-1a17-4ea4-be83-b7acbd6fb966",
   "metadata": {},
   "outputs": [
    {
     "name": "stdout",
     "output_type": "stream",
     "text": [
      "Counter({2: 3, 1: 2, 3: 1, 4: 1})\n"
     ]
    }
   ],
   "source": [
    "from collections import Counter\n",
    "\n",
    "arr = [1, 2, 2, 3, 4, 1, 2]\n",
    "freq = Counter(arr)\n",
    "print(freq)  # Output: {1:2, 2:3, 3:1, 4:1}\n",
    "\n"
   ]
  },
  {
   "cell_type": "code",
   "execution_count": 28,
   "id": "c95f804a-b1be-4730-988b-8a738e667add",
   "metadata": {},
   "outputs": [
    {
     "name": "stdout",
     "output_type": "stream",
     "text": [
      "1\n"
     ]
    }
   ],
   "source": [
    "import heapq\n",
    "\n",
    "nums = [4, 1, 7, 3, 8, 5]\n",
    "heapq.heapify(nums)\n",
    "print(heapq.heappop(nums))  # 1 (min value)\n"
   ]
  },
  {
   "cell_type": "code",
   "execution_count": 29,
   "id": "f4543346-f52b-4aed-84ec-916f7ca76311",
   "metadata": {},
   "outputs": [
    {
     "name": "stdout",
     "output_type": "stream",
     "text": [
      "True\n",
      "False\n"
     ]
    }
   ],
   "source": [
    "class TrieNode:\n",
    "    def __init__(self):\n",
    "        self.children = {}\n",
    "        self.end = False\n",
    "\n",
    "class Trie:\n",
    "    def __init__(self):\n",
    "        self.root = TrieNode()\n",
    "    \n",
    "    def insert(self, word):\n",
    "        node = self.root\n",
    "        for ch in word:\n",
    "            if ch not in node.children:\n",
    "                node.children[ch] = TrieNode()\n",
    "            node = node.children[ch]\n",
    "        node.end = True\n",
    "\n",
    "    def search(self, word):\n",
    "        node = self.root\n",
    "        for ch in word:\n",
    "            if ch not in node.children:\n",
    "                return False\n",
    "            node = node.children[ch]\n",
    "        return node.end\n",
    "\n",
    "t = Trie()\n",
    "t.insert(\"apple\")\n",
    "print(t.search(\"apple\"))  # True\n",
    "print(t.search(\"app\"))    # False\n"
   ]
  },
  {
   "cell_type": "code",
   "execution_count": 30,
   "id": "98f44398-764f-499c-97eb-70cb11fa47dc",
   "metadata": {},
   "outputs": [
    {
     "name": "stdout",
     "output_type": "stream",
     "text": [
      "[4, 5, 0, 2, 3, 1]\n"
     ]
    }
   ],
   "source": [
    "def topo_sort(graph):\n",
    "    visited = set()\n",
    "    stack = []\n",
    "\n",
    "    def dfs(node):\n",
    "        visited.add(node)\n",
    "        for neighbor in graph.get(node, []):\n",
    "            if neighbor not in visited:\n",
    "                dfs(neighbor)\n",
    "        stack.append(node)\n",
    "\n",
    "    for node in graph:\n",
    "        if node not in visited:\n",
    "            dfs(node)\n",
    "\n",
    "    return stack[::-1]\n",
    "\n",
    "graph = {\n",
    "    5: [2, 0],\n",
    "    4: [0, 1],\n",
    "    2: [3],\n",
    "    3: [1],\n",
    "    1: [],\n",
    "    0: []\n",
    "}\n",
    "print(topo_sort(graph))  # One valid output: [4, 5, 2, 3, 1, 0]\n"
   ]
  },
  {
   "cell_type": "code",
   "execution_count": 31,
   "id": "5c90af86-e754-47b1-890a-7ce8440418bf",
   "metadata": {},
   "outputs": [
    {
     "name": "stdout",
     "output_type": "stream",
     "text": [
      "[0, 1, 0, 0]\n",
      "[0, 0, 0, 1]\n",
      "[1, 0, 0, 0]\n",
      "[0, 0, 1, 0]\n",
      "\n",
      "[0, 0, 1, 0]\n",
      "[1, 0, 0, 0]\n",
      "[0, 0, 0, 1]\n",
      "[0, 1, 0, 0]\n",
      "\n"
     ]
    }
   ],
   "source": [
    "def is_safe(board, row, col, n):\n",
    "    for i in range(row):\n",
    "        if board[i][col] == 1:\n",
    "            return False\n",
    "        if col - (row - i) >= 0 and board[i][col - (row - i)] == 1:\n",
    "            return False\n",
    "        if col + (row - i) < n and board[i][col + (row - i)] == 1:\n",
    "            return False\n",
    "    return True\n",
    "\n",
    "def solve_n_queens(n):\n",
    "    def solve(board, row):\n",
    "        if row == n:\n",
    "            result.append([row[:] for row in board])\n",
    "            return\n",
    "        for col in range(n):\n",
    "            if is_safe(board, row, col, n):\n",
    "                board[row][col] = 1\n",
    "                solve(board, row + 1)\n",
    "                board[row][col] = 0\n",
    "\n",
    "    board = [[0]*n for _ in range(n)]\n",
    "    result = []\n",
    "    solve(board, 0)\n",
    "    return result\n",
    "\n",
    "solutions = solve_n_queens(4)\n",
    "for sol in solutions:\n",
    "    for row in sol:\n",
    "        print(row)\n",
    "    print()\n"
   ]
  },
  {
   "cell_type": "code",
   "execution_count": 32,
   "id": "af9235bd-7647-488b-a786-40002eae7d49",
   "metadata": {},
   "outputs": [
    {
     "name": "stdout",
     "output_type": "stream",
     "text": [
      "4\n"
     ]
    }
   ],
   "source": [
    "def ternary_search(l, r, key, arr):\n",
    "    while r >= l:\n",
    "        mid1 = l + (r - l) // 3\n",
    "        mid2 = r - (r - l) // 3\n",
    "\n",
    "        if arr[mid1] == key:\n",
    "            return mid1\n",
    "        if arr[mid2] == key:\n",
    "            return mid2\n",
    "\n",
    "        if key < arr[mid1]:\n",
    "            r = mid1 - 1\n",
    "        elif key > arr[mid2]:\n",
    "            l = mid2 + 1\n",
    "        else:\n",
    "            l = mid1 + 1\n",
    "            r = mid2 - 1\n",
    "    return -1\n",
    "\n",
    "arr = [1, 2, 3, 4, 5, 6, 7]\n",
    "print(ternary_search(0, len(arr)-1, 5, arr))  # Output: 4\n"
   ]
  },
  {
   "cell_type": "code",
   "execution_count": 34,
   "id": "e510022e-156d-444e-ba1c-0020118b7a10",
   "metadata": {},
   "outputs": [
    {
     "name": "stdout",
     "output_type": "stream",
     "text": [
      "5\n"
     ]
    }
   ],
   "source": [
    "def count_inversions(arr):\n",
    "    def merge_sort(arr):\n",
    "        if len(arr) <= 1:\n",
    "            return arr, 0\n",
    "        mid = len(arr) // 2\n",
    "        left, inv_left = merge_sort(arr[:mid])\n",
    "        right, inv_right = merge_sort(arr[mid:])\n",
    "        merged, inv_split = merge(left, right)\n",
    "        return merged, inv_left + inv_right + inv_split\n",
    "\n",
    "    def merge(left, right):\n",
    "        merged = []\n",
    "        i = j = inv_count = 0\n",
    "        while i < len(left) and j < len(right):\n",
    "            if left[i] <= right[j]:\n",
    "                merged.append(left[i])\n",
    "                i += 1\n",
    "            else:\n",
    "                merged.append(right[j])\n",
    "                inv_count += len(left) - i\n",
    "                j += 1\n",
    "        merged += left[i:]\n",
    "        merged += right[j:]\n",
    "        return merged, inv_count\n",
    "\n",
    "    _, inv_count = merge_sort(arr)\n",
    "    return inv_count\n",
    "\n",
    "print(count_inversions([1, 20, 6, 4, 5]))  # Output: 5\n",
    "\n"
   ]
  },
  {
   "cell_type": "code",
   "execution_count": 35,
   "id": "57cce892-3fa9-4779-810d-6c5c2dd98790",
   "metadata": {},
   "outputs": [
    {
     "name": "stdout",
     "output_type": "stream",
     "text": [
      "True\n"
     ]
    }
   ],
   "source": [
    "class DSU:\n",
    "    def __init__(self, n):\n",
    "        self.parent = list(range(n))\n",
    "\n",
    "    def find(self, x):\n",
    "        if self.parent[x] != x:\n",
    "            self.parent[x] = self.find(self.parent[x])\n",
    "        return self.parent[x]\n",
    "\n",
    "    def union(self, x, y):\n",
    "        self.parent[self.find(x)] = self.find(y)\n",
    "\n",
    "dsu = DSU(5)\n",
    "dsu.union(0, 1)\n",
    "dsu.union(1, 2)\n",
    "print(dsu.find(0) == dsu.find(2))  # True\n"
   ]
  },
  {
   "cell_type": "code",
   "execution_count": 36,
   "id": "0b8b9432-0495-4ca2-b7e2-e7e09af954c2",
   "metadata": {},
   "outputs": [
    {
     "name": "stdout",
     "output_type": "stream",
     "text": [
      "3\n"
     ]
    }
   ],
   "source": [
    "def binary_search(arr, l, r, x):\n",
    "    if r >= l:\n",
    "        mid = (l + r) // 2\n",
    "        if arr[mid] == x:\n",
    "            return mid\n",
    "        elif arr[mid] > x:\n",
    "            return binary_search(arr, l, mid - 1, x)\n",
    "        else:\n",
    "            return binary_search(arr, mid + 1, r, x)\n",
    "    return -1\n",
    "\n",
    "arr = [2, 3, 4, 10, 40]\n",
    "print(binary_search(arr, 0, len(arr) - 1, 10))  # Output: 3\n"
   ]
  },
  {
   "cell_type": "code",
   "execution_count": 37,
   "id": "534eb754-f7c2-4fb2-b6d5-cec7b21d2537",
   "metadata": {},
   "outputs": [
    {
     "name": "stdout",
     "output_type": "stream",
     "text": [
      "True\n"
     ]
    }
   ],
   "source": [
    "def search_matrix(matrix, target):\n",
    "    if not matrix:\n",
    "        return False\n",
    "    row, col = 0, len(matrix[0]) - 1\n",
    "    while row < len(matrix) and col >= 0:\n",
    "        if matrix[row][col] == target:\n",
    "            return True\n",
    "        elif matrix[row][col] > target:\n",
    "            col -= 1\n",
    "        else:\n",
    "            row += 1\n",
    "    return False\n",
    "\n",
    "matrix = [[1, 4, 7], [8, 11, 15], [17, 20, 23]]\n",
    "print(search_matrix(matrix, 11))  # True\n"
   ]
  },
  {
   "cell_type": "code",
   "execution_count": 38,
   "id": "af342b2c-c895-49b9-9d6d-61234d070820",
   "metadata": {},
   "outputs": [
    {
     "name": "stdout",
     "output_type": "stream",
     "text": [
      "[[2, 2, 2], [2, 2, 0], [2, 0, 1]]\n"
     ]
    }
   ],
   "source": [
    "def flood_fill(image, sr, sc, newColor):\n",
    "    original = image[sr][sc]\n",
    "    if original == newColor:\n",
    "        return image\n",
    "\n",
    "    def dfs(r, c):\n",
    "        if 0 <= r < len(image) and 0 <= c < len(image[0]) and image[r][c] == original:\n",
    "            image[r][c] = newColor\n",
    "            dfs(r+1, c)\n",
    "            dfs(r-1, c)\n",
    "            dfs(r, c+1)\n",
    "            dfs(r, c-1)\n",
    "\n",
    "    dfs(sr, sc)\n",
    "    return image\n",
    "\n",
    "image = [[1,1,1],[1,1,0],[1,0,1]]\n",
    "print(flood_fill(image, 1, 1, 2))\n"
   ]
  },
  {
   "cell_type": "code",
   "execution_count": 39,
   "id": "afb58d43-1129-4cc2-991f-1b57cce8c10f",
   "metadata": {},
   "outputs": [
    {
     "name": "stdout",
     "output_type": "stream",
     "text": [
      "{'A': 0, 'B': 1, 'C': 3, 'D': 4}\n"
     ]
    }
   ],
   "source": [
    "import heapq\n",
    "\n",
    "def dijkstra(graph, start):\n",
    "    heap = [(0, start)]\n",
    "    distances = {node: float('inf') for node in graph}\n",
    "    distances[start] = 0\n",
    "\n",
    "    while heap:\n",
    "        current_dist, current_node = heapq.heappop(heap)\n",
    "        if current_dist > distances[current_node]:\n",
    "            continue\n",
    "        for neighbor, weight in graph[current_node]:\n",
    "            distance = current_dist + weight\n",
    "            if distance < distances[neighbor]:\n",
    "                distances[neighbor] = distance\n",
    "                heapq.heappush(heap, (distance, neighbor))\n",
    "    return distances\n",
    "\n",
    "graph = {\n",
    "    'A': [('B', 1), ('C', 4)],\n",
    "    'B': [('C', 2), ('D', 5)],\n",
    "    'C': [('D', 1)],\n",
    "    'D': []\n",
    "}\n",
    "print(dijkstra(graph, 'A'))  # {'A': 0, 'B': 1, 'C': 3, 'D': 4}\n"
   ]
  },
  {
   "cell_type": "code",
   "execution_count": 40,
   "id": "8b4aada5-a9d0-496c-a70d-41c8d857dd8c",
   "metadata": {},
   "outputs": [
    {
     "name": "stdout",
     "output_type": "stream",
     "text": [
      "[[1, 2, 3], [1, 3, 2], [2, 1, 3], [2, 3, 1], [3, 1, 2], [3, 2, 1]]\n"
     ]
    }
   ],
   "source": [
    "def permute(nums):\n",
    "    res = []\n",
    "    def backtrack(path, options):\n",
    "        if not options:\n",
    "            res.append(path)\n",
    "            return\n",
    "        for i in range(len(options)):\n",
    "            backtrack(path + [options[i]], options[:i] + options[i+1:])\n",
    "    backtrack([], nums)\n",
    "    return res\n",
    "\n",
    "print(permute([1, 2, 3]))\n"
   ]
  },
  {
   "cell_type": "code",
   "execution_count": 41,
   "id": "4182fde8-ecd2-4020-bf62-6e14be69b785",
   "metadata": {},
   "outputs": [
    {
     "name": "stdout",
     "output_type": "stream",
     "text": [
      "bab\n"
     ]
    }
   ],
   "source": [
    "def longest_palindrome(s):\n",
    "    n = len(s)\n",
    "    dp = [[False]*n for _ in range(n)]\n",
    "    start = 0\n",
    "    max_len = 1\n",
    "\n",
    "    for i in range(n):\n",
    "        dp[i][i] = True\n",
    "\n",
    "    for length in range(2, n+1):\n",
    "        for i in range(n-length+1):\n",
    "            j = i+length-1\n",
    "            if s[i] == s[j] and (length == 2 or dp[i+1][j-1]):\n",
    "                dp[i][j] = True\n",
    "                if length > max_len:\n",
    "                    start = i\n",
    "                    max_len = length\n",
    "\n",
    "    return s[start:start+max_len]\n",
    "\n",
    "print(longest_palindrome(\"babad\"))  # Output: \"bab\" or \"aba\"\n"
   ]
  },
  {
   "cell_type": "code",
   "execution_count": 42,
   "id": "c2aae7d4-d8d9-4641-9307-6d194587ee38",
   "metadata": {},
   "outputs": [
    {
     "name": "stdout",
     "output_type": "stream",
     "text": [
      "2\n"
     ]
    }
   ],
   "source": [
    "def find_duplicate(nums):\n",
    "    slow = fast = nums[0]\n",
    "    while True:\n",
    "        slow = nums[slow]\n",
    "        fast = nums[nums[fast]]\n",
    "        if slow == fast:\n",
    "            break\n",
    "\n",
    "    slow = nums[0]\n",
    "    while slow != fast:\n",
    "        slow = nums[slow]\n",
    "        fast = nums[fast]\n",
    "\n",
    "    return slow\n",
    "\n",
    "print(find_duplicate([1,3,4,2,2]))  # Output: 2\n"
   ]
  },
  {
   "cell_type": "code",
   "execution_count": 43,
   "id": "e437a969-ee37-4b60-b10e-2c9580f34d97",
   "metadata": {},
   "outputs": [
    {
     "name": "stdout",
     "output_type": "stream",
     "text": [
      "2\n"
     ]
    }
   ],
   "source": [
    "def find_duplicate(nums):\n",
    "    slow = fast = nums[0]\n",
    "    while True:\n",
    "        slow = nums[slow]\n",
    "        fast = nums[nums[fast]]\n",
    "        if slow == fast:\n",
    "            break\n",
    "\n",
    "    slow = nums[0]\n",
    "    while slow != fast:\n",
    "        slow = nums[slow]\n",
    "        fast = nums[fast]\n",
    "\n",
    "    return slow\n",
    "\n",
    "print(find_duplicate([1,3,4,2,2]))  # Output: 2\n"
   ]
  },
  {
   "cell_type": "code",
   "execution_count": 44,
   "id": "efbb1bfc-8d6a-4851-bd46-e98128c55ad7",
   "metadata": {},
   "outputs": [
    {
     "name": "stdout",
     "output_type": "stream",
     "text": [
      "49\n"
     ]
    }
   ],
   "source": [
    "def max_area(height):\n",
    "    l, r = 0, len(height) - 1\n",
    "    max_area = 0\n",
    "    while l < r:\n",
    "        area = min(height[l], height[r]) * (r - l)\n",
    "        max_area = max(max_area, area)\n",
    "        if height[l] < height[r]:\n",
    "            l += 1\n",
    "        else:\n",
    "            r -= 1\n",
    "    return max_area\n",
    "\n",
    "print(max_area([1,8,6,2,5,4,8,3,7]))  # Output: 49\n"
   ]
  },
  {
   "cell_type": "code",
   "execution_count": 45,
   "id": "3a36a13c-df2b-422f-9e94-652e7fbd760e",
   "metadata": {},
   "outputs": [
    {
     "name": "stdout",
     "output_type": "stream",
     "text": [
      "5\n"
     ]
    }
   ],
   "source": [
    "import heapq\n",
    "\n",
    "def kth_largest(nums, k):\n",
    "    return heapq.nlargest(k, nums)[-1]\n",
    "\n",
    "print(kth_largest([3, 2, 1, 5, 6, 4], 2))  # Output: 5\n"
   ]
  },
  {
   "cell_type": "code",
   "execution_count": 46,
   "id": "ead0b3ab-7f12-4d4b-bc5a-0434495c894f",
   "metadata": {},
   "outputs": [
    {
     "name": "stdout",
     "output_type": "stream",
     "text": [
      "[4, 2, 4, -1, -1]\n"
     ]
    }
   ],
   "source": [
    "def next_greater(nums):\n",
    "    res = [-1] * len(nums)\n",
    "    stack = []\n",
    "    for i in range(len(nums)):\n",
    "        while stack and nums[i] > nums[stack[-1]]:\n",
    "            res[stack.pop()] = nums[i]\n",
    "        stack.append(i)\n",
    "    return res\n",
    "\n",
    "print(next_greater([2, 1, 2, 4, 3]))  # Output: [4, 2, 4, -1, -1]\n"
   ]
  },
  {
   "cell_type": "code",
   "execution_count": 47,
   "id": "ac0195e7-241a-4142-befb-84c773160113",
   "metadata": {},
   "outputs": [
    {
     "name": "stdout",
     "output_type": "stream",
     "text": [
      "[[], [1], [1, 2], [1, 2, 3], [1, 3], [2], [2, 3], [3]]\n"
     ]
    }
   ],
   "source": [
    "def subsets(nums):\n",
    "    res = []\n",
    "    def backtrack(start, path):\n",
    "        res.append(path)\n",
    "        for i in range(start, len(nums)):\n",
    "            backtrack(i + 1, path + [nums[i]])\n",
    "    backtrack(0, [])\n",
    "    return res\n",
    "\n",
    "print(subsets([1, 2, 3]))\n"
   ]
  },
  {
   "cell_type": "code",
   "execution_count": 48,
   "id": "e94027b5-b30f-443c-8ddb-b5de06652c27",
   "metadata": {},
   "outputs": [
    {
     "name": "stdout",
     "output_type": "stream",
     "text": [
      "3\n"
     ]
    }
   ],
   "source": [
    "def count_bits(n):\n",
    "    count = 0\n",
    "    while n:\n",
    "        count += n & 1\n",
    "        n >>= 1\n",
    "    return count\n",
    "\n",
    "print(count_bits(13))  # Output: 3 (1101 has 3 bits set)\n"
   ]
  },
  {
   "cell_type": "code",
   "execution_count": 49,
   "id": "bea04878-8cd1-4c6d-8347-0e54bc9a799f",
   "metadata": {},
   "outputs": [
    {
     "name": "stdout",
     "output_type": "stream",
     "text": [
      "4\n"
     ]
    }
   ],
   "source": [
    "def lis(nums):\n",
    "    dp = [1] * len(nums)\n",
    "    for i in range(len(nums)):\n",
    "        for j in range(i):\n",
    "            if nums[i] > nums[j]:\n",
    "                dp[i] = max(dp[i], dp[j] + 1)\n",
    "    return max(dp)\n",
    "\n",
    "print(lis([10, 9, 2, 5, 3, 7, 101, 18]))  # Output: 4\n"
   ]
  },
  {
   "cell_type": "code",
   "execution_count": 50,
   "id": "ce3f0caa-3d45-461d-8d69-a3f42c8b3ff6",
   "metadata": {},
   "outputs": [
    {
     "name": "stdout",
     "output_type": "stream",
     "text": [
      "1\n",
      "-1\n"
     ]
    }
   ],
   "source": [
    "from collections import OrderedDict\n",
    "\n",
    "class LRUCache:\n",
    "    def __init__(self, capacity: int):\n",
    "        self.cache = OrderedDict()\n",
    "        self.cap = capacity\n",
    "\n",
    "    def get(self, key: int) -> int:\n",
    "        if key not in self.cache:\n",
    "            return -1\n",
    "        self.cache.move_to_end(key)\n",
    "        return self.cache[key]\n",
    "\n",
    "    def put(self, key: int, value: int):\n",
    "        if key in self.cache:\n",
    "            self.cache.move_to_end(key)\n",
    "        self.cache[key] = value\n",
    "        if len(self.cache) > self.cap:\n",
    "            self.cache.popitem(last=False)\n",
    "\n",
    "lru = LRUCache(2)\n",
    "lru.put(1, 1)\n",
    "lru.put(2, 2)\n",
    "print(lru.get(1))  # Output: 1\n",
    "lru.put(3, 3)  # Evicts key 2\n",
    "print(lru.get(2))  # Output: -1\n"
   ]
  },
  {
   "cell_type": "code",
   "execution_count": 51,
   "id": "5a823523-9227-43c5-93f8-5592ac6d0fdb",
   "metadata": {},
   "outputs": [
    {
     "name": "stdout",
     "output_type": "stream",
     "text": [
      "28\n"
     ]
    }
   ],
   "source": [
    "def unique_paths(m, n):\n",
    "    dp = [[1]*n for _ in range(m)]\n",
    "    for i in range(1, m):\n",
    "        for j in range(1, n):\n",
    "            dp[i][j] = dp[i-1][j] + dp[i][j-1]\n",
    "    return dp[-1][-1]\n",
    "\n",
    "print(unique_paths(3, 7))  # Output: 28\n"
   ]
  },
  {
   "cell_type": "code",
   "execution_count": 52,
   "id": "5d77224c-4d34-48a4-a96d-e863db9cdb37",
   "metadata": {},
   "outputs": [
    {
     "name": "stdout",
     "output_type": "stream",
     "text": [
      "[[7, 4, 1], [8, 5, 2], [9, 6, 3]]\n"
     ]
    }
   ],
   "source": [
    "def rotate(matrix):\n",
    "    n = len(matrix)\n",
    "    for i in range(n):\n",
    "        for j in range(i):\n",
    "            matrix[i][j], matrix[j][i] = matrix[j][i], matrix[i][j]\n",
    "    for row in matrix:\n",
    "        row.reverse()\n",
    "\n",
    "mat = [[1,2,3],[4,5,6],[7,8,9]]\n",
    "rotate(mat)\n",
    "print(mat)  # Output: Rotated matrix\n"
   ]
  },
  {
   "cell_type": "code",
   "execution_count": 53,
   "id": "4bd7f652-228a-4e2f-bfbb-1e5addba16ac",
   "metadata": {},
   "outputs": [
    {
     "name": "stdout",
     "output_type": "stream",
     "text": [
      "True\n"
     ]
    }
   ],
   "source": [
    "from collections import deque\n",
    "\n",
    "def is_bipartite(graph):\n",
    "    color = {}\n",
    "    for node in graph:\n",
    "        if node not in color:\n",
    "            queue = deque([node])\n",
    "            color[node] = 0\n",
    "            while queue:\n",
    "                current = queue.popleft()\n",
    "                for neighbor in graph[current]:\n",
    "                    if neighbor in color:\n",
    "                        if color[neighbor] == color[current]:\n",
    "                            return False\n",
    "                    else:\n",
    "                        color[neighbor] = 1 - color[current]\n",
    "                        queue.append(neighbor)\n",
    "    return True\n",
    "\n",
    "graph = {\n",
    "    0: [1, 3],\n",
    "    1: [0, 2],\n",
    "    2: [1, 3],\n",
    "    3: [0, 2]\n",
    "}\n",
    "print(is_bipartite(graph))  # Output: True\n"
   ]
  },
  {
   "cell_type": "code",
   "execution_count": 54,
   "id": "0fda1d52-5936-4868-8847-e2bb82f782d7",
   "metadata": {},
   "outputs": [
    {
     "name": "stdout",
     "output_type": "stream",
     "text": [
      "3\n"
     ]
    }
   ],
   "source": [
    "class BIT:\n",
    "    def __init__(self, n):\n",
    "        self.tree = [0]*(n+1)\n",
    "\n",
    "    def update(self, i, val):\n",
    "        while i < len(self.tree):\n",
    "            self.tree[i] += val\n",
    "            i += i & -i\n",
    "\n",
    "    def query(self, i):\n",
    "        res = 0\n",
    "        while i > 0:\n",
    "            res += self.tree[i]\n",
    "            i -= i & -i\n",
    "        return res\n",
    "\n",
    "bit = BIT(10)\n",
    "bit.update(3, 1)\n",
    "bit.update(5, 2)\n",
    "print(bit.query(5))  # Output: 3\n"
   ]
  },
  {
   "cell_type": "code",
   "execution_count": 55,
   "id": "1b2412d7-e3d2-4bfb-9b25-da6ea6820f57",
   "metadata": {},
   "outputs": [
    {
     "name": "stdout",
     "output_type": "stream",
     "text": [
      "1024\n"
     ]
    }
   ],
   "source": [
    "def power(x, n):\n",
    "    res = 1\n",
    "    while n:\n",
    "        if n % 2:\n",
    "            res *= x\n",
    "        x *= x\n",
    "        n //= 2\n",
    "    return res\n",
    "\n",
    "print(power(2, 10))  # Output: 1024\n"
   ]
  },
  {
   "cell_type": "code",
   "execution_count": 56,
   "id": "e8cae896-7202-45f1-ab28-d9622424601a",
   "metadata": {},
   "outputs": [
    {
     "name": "stdout",
     "output_type": "stream",
     "text": [
      "3\n"
     ]
    }
   ],
   "source": [
    "def edit_distance(s1, s2):\n",
    "    dp = [[0]*(len(s2)+1) for _ in range(len(s1)+1)]\n",
    "    for i in range(len(s1)+1):\n",
    "        for j in range(len(s2)+1):\n",
    "            if i == 0:\n",
    "                dp[i][j] = j\n",
    "            elif j == 0:\n",
    "                dp[i][j] = i\n",
    "            elif s1[i-1] == s2[j-1]:\n",
    "                dp[i][j] = dp[i-1][j-1]\n",
    "            else:\n",
    "                dp[i][j] = 1 + min(dp[i-1][j], dp[i][j-1], dp[i-1][j-1])\n",
    "    return dp[-1][-1]\n",
    "\n",
    "print(edit_distance(\"horse\", \"ros\"))  # Output: 3\n"
   ]
  },
  {
   "cell_type": "code",
   "execution_count": 57,
   "id": "a09694ed-d377-4392-b9ef-087362796367",
   "metadata": {},
   "outputs": [
    {
     "name": "stdout",
     "output_type": "stream",
     "text": [
      "142\n"
     ]
    }
   ],
   "source": [
    "def job_scheduling(jobs):\n",
    "    jobs.sort(key=lambda x: x[1], reverse=True)\n",
    "    max_deadline = max(job[0] for job in jobs)\n",
    "    slot = [-1] * (max_deadline + 1)\n",
    "    count = 0\n",
    "\n",
    "    for deadline, profit in jobs:\n",
    "        for j in range(deadline, 0, -1):\n",
    "            if slot[j] == -1:\n",
    "                slot[j] = profit\n",
    "                count += profit\n",
    "                break\n",
    "\n",
    "    return count\n",
    "\n",
    "jobs = [(2, 100), (1, 19), (2, 27), (1, 25), (3, 15)]\n",
    "print(job_scheduling(jobs))  # Output: max profit\n"
   ]
  },
  {
   "cell_type": "code",
   "execution_count": 58,
   "id": "b1675da2-ea57-4e27-8724-52c913a1cfcf",
   "metadata": {},
   "outputs": [
    {
     "name": "stdout",
     "output_type": "stream",
     "text": [
      "6\n"
     ]
    }
   ],
   "source": [
    "def compute_lps(pattern):\n",
    "    lps = [0] * len(pattern)\n",
    "    length = 0\n",
    "    i = 1\n",
    "    while i < len(pattern):\n",
    "        if pattern[i] == pattern[length]:\n",
    "            length += 1\n",
    "            lps[i] = length\n",
    "            i += 1\n",
    "        else:\n",
    "            if length:\n",
    "                length = lps[length - 1]\n",
    "            else:\n",
    "                i += 1\n",
    "    return lps\n",
    "\n",
    "def kmp(text, pattern):\n",
    "    lps = compute_lps(pattern)\n",
    "    i = j = 0\n",
    "    while i < len(text):\n",
    "        if text[i] == pattern[j]:\n",
    "            i += 1\n",
    "            j += 1\n",
    "        if j == len(pattern):\n",
    "            return i - j\n",
    "        elif i < len(text) and text[i] != pattern[j]:\n",
    "            if j:\n",
    "                j = lps[j - 1]\n",
    "            else:\n",
    "                i += 1\n",
    "    return -1\n",
    "\n",
    "print(kmp(\"abxabcabcaby\", \"abcaby\"))  # Output: 6\n"
   ]
  },
  {
   "cell_type": "code",
   "execution_count": null,
   "id": "1de674f2-2422-460e-b3f0-6d2edf227d5c",
   "metadata": {},
   "outputs": [],
   "source": []
  }
 ],
 "metadata": {
  "kernelspec": {
   "display_name": "Python 3 (ipykernel)",
   "language": "python",
   "name": "python3"
  },
  "language_info": {
   "codemirror_mode": {
    "name": "ipython",
    "version": 3
   },
   "file_extension": ".py",
   "mimetype": "text/x-python",
   "name": "python",
   "nbconvert_exporter": "python",
   "pygments_lexer": "ipython3",
   "version": "3.13.5"
  }
 },
 "nbformat": 4,
 "nbformat_minor": 5
}
