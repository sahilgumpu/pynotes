{
 "cells": [
  {
   "cell_type": "markdown",
   "id": "5243b5c9-c6eb-4d24-8a46-10d6dce165f7",
   "metadata": {},
   "source": [
    "<style>\n",
    "  .card {\n",
    "    width: 350px;\n",
    "    padding: 20px;\n",
    "    background: #f0f8ff;\n",
    "    border: 2px solid #4b9cd3;\n",
    "    border-radius: 15px;\n",
    "    font-family: 'Segoe UI', sans-serif;\n",
    "    box-shadow: 4px 4px 10px rgba(0, 0, 0, 0.1);\n",
    "  }\n",
    "\n",
    "  .card h2 {\n",
    "    color: #4b9cd3;\n",
    "  }\n",
    "\n",
    "  .card p {\n",
    "    color: #333;\n",
    "    line-height: 1.5;\n",
    "  }\n",
    "\n",
    "  .btn {\n",
    "    background-color: #4b9cd3;\n",
    "    color: white;\n",
    "    padding: 10px 20px;\n",
    "    border: none;\n",
    "    border-radius: 8px;\n",
    "    text-decoration: none;\n",
    "    display: inline-block;\n",
    "    margin-top: 10px;\n",
    "    cursor: pointer;\n",
    "  }\n",
    "\n",
    "  .btn:hover {\n",
    "    background-color: #357ca5;\n",
    "  }\n",
    "</style>\n",
    "\n",
    "<div class=\"card\">\n",
    "  <h2>Welcome to My Web Component</h2>\n",
    "  <p>This is an embedded HTML + CSS card inside a Jupyter Notebook. You can style it however you like!</p>\n",
    "  <a href=\"https://github.com/\" target=\"_blank\" class=\"btn\">Visit GitHub</a>\n",
    "</div>\n"
   ]
  },
  {
   "cell_type": "code",
   "execution_count": null,
   "id": "2e347cf1-31f2-418c-a870-656540f603c1",
   "metadata": {},
   "outputs": [],
   "source": []
  },
  {
   "cell_type": "code",
   "execution_count": null,
   "id": "9b04fd29-ee8c-4a1a-8a6e-b30e996ab8ad",
   "metadata": {},
   "outputs": [],
   "source": []
  },
  {
   "cell_type": "code",
   "execution_count": null,
   "id": "feb2b53e-b1b7-4dbb-bfbd-501954cc7e2a",
   "metadata": {},
   "outputs": [],
   "source": []
  },
  {
   "cell_type": "code",
   "execution_count": null,
   "id": "943ebc75-a528-4059-b892-ecb88acd5039",
   "metadata": {},
   "outputs": [],
   "source": []
  }
 ],
 "metadata": {
  "kernelspec": {
   "display_name": "Python 3 (ipykernel)",
   "language": "python",
   "name": "python3"
  },
  "language_info": {
   "codemirror_mode": {
    "name": "ipython",
    "version": 3
   },
   "file_extension": ".py",
   "mimetype": "text/x-python",
   "name": "python",
   "nbconvert_exporter": "python",
   "pygments_lexer": "ipython3",
   "version": "3.13.5"
  }
 },
 "nbformat": 4,
 "nbformat_minor": 5
}
