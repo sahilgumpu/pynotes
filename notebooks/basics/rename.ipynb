{
 "cells": [
  {
   "cell_type": "code",
   "execution_count": 1,
   "id": "b430c8da-0edf-48a8-96f5-83d8a8fca0b6",
   "metadata": {},
   "outputs": [
    {
     "name": "stdout",
     "output_type": "stream",
     "text": [
      "[{'name': 'Alice', 'age': 25}, {'name': 'Bob', 'age': 30}, {'name': 'Charlie', 'age': 22}]\n"
     ]
    }
   ],
   "source": [
    "data = [\n",
    "    {\"name\": \"Alice\", \"age\": 25},\n",
    "    {\"name\": \"Bob\", \"age\": 30},\n",
    "    {\"name\": \"Charlie\", \"age\": 22}\n",
    "]\n",
    "print(data)\n"
   ]
  },
  {
   "cell_type": "code",
   "execution_count": 2,
   "id": "784ae697-ab3f-4dc5-afde-59520e1c95a2",
   "metadata": {},
   "outputs": [
    {
     "name": "stdout",
     "output_type": "stream",
     "text": [
      "[\n",
      "  {\n",
      "    \"emp_id\": \"E01\",\n",
      "    \"name\": \"Alice\",\n",
      "    \"dept\": \"HR\"\n",
      "  },\n",
      "  {\n",
      "    \"emp_id\": \"E02\",\n",
      "    \"name\": \"Bob\",\n",
      "    \"dept\": \"IT\"\n",
      "  },\n",
      "  {\n",
      "    \"emp_id\": \"E03\",\n",
      "    \"name\": \"Carol\",\n",
      "    \"dept\": \"Finance\"\n",
      "  }\n",
      "]\n"
     ]
    }
   ],
   "source": [
    "employees = [\n",
    "    {\"emp_id\": \"E01\", \"name\": \"Alice\", \"dept\": \"HR\"},\n",
    "    {\"emp_id\": \"E02\", \"name\": \"Bob\", \"dept\": \"IT\"},\n",
    "    {\"emp_id\": \"E03\", \"name\": \"Carol\", \"dept\": \"Finance\"}\n",
    "]\n",
    "import json\n",
    "print(json.dumps(employees, indent=2))\n"
   ]
  },
  {
   "cell_type": "code",
   "execution_count": 3,
   "id": "98159f54-40a5-4290-8590-7e14848024d2",
   "metadata": {},
   "outputs": [
    {
     "name": "stdout",
     "output_type": "stream",
     "text": [
      "Laptop - ₹50000 - Available\n",
      "Mouse - ₹700 - Out of stock\n",
      "Keyboard - ₹1200 - Available\n"
     ]
    }
   ],
   "source": [
    "products = [\n",
    "    {\"product\": \"Laptop\", \"price\": 50000, \"in_stock\": True},\n",
    "    {\"product\": \"Mouse\", \"price\": 700, \"in_stock\": False},\n",
    "    {\"product\": \"Keyboard\", \"price\": 1200, \"in_stock\": True}\n",
    "]\n",
    "for p in products:\n",
    "    print(f\"{p['product']} - ₹{p['price']} - {'Available' if p['in_stock'] else 'Out of stock'}\")\n"
   ]
  },
  {
   "cell_type": "code",
   "execution_count": 5,
   "id": "ca6fc8c7-d013-4987-a979-c03d8da3193f",
   "metadata": {},
   "outputs": [
    {
     "name": "stdout",
     "output_type": "stream",
     "text": [
      "[\n",
      "  {\n",
      "    \"name\": \"Sita\",\n",
      "    \"contact\": {\n",
      "      \"email\": \"sita@example.com\",\n",
      "      \"phone\": \"9876543210\"\n",
      "    }\n",
      "  },\n",
      "  {\n",
      "    \"name\": \"Geeta\",\n",
      "    \"contact\": {\n",
      "      \"email\": \"geeta@example.com\",\n",
      "      \"phone\": \"8765432109\"\n",
      "    }\n",
      "  }\n",
      "]\n"
     ]
    }
   ],
   "source": [
    "people = [\n",
    "    {\"name\": \"Sita\", \"contact\": {\"email\": \"sita@example.com\", \"phone\": \"9876543210\"}},\n",
    "    {\"name\": \"Geeta\", \"contact\": {\"email\": \"geeta@example.com\", \"phone\": \"8765432109\"}}\n",
    "]\n",
    "print(json.dumps(people, indent=2))\n",
    "\n"
   ]
  },
  {
   "cell_type": "code",
   "execution_count": 6,
   "id": "5ddf60d1-69cd-4a96-a209-685895e166e2",
   "metadata": {},
   "outputs": [
    {
     "data": {
      "text/html": [
       "<div>\n",
       "<style scoped>\n",
       "    .dataframe tbody tr th:only-of-type {\n",
       "        vertical-align: middle;\n",
       "    }\n",
       "\n",
       "    .dataframe tbody tr th {\n",
       "        vertical-align: top;\n",
       "    }\n",
       "\n",
       "    .dataframe thead th {\n",
       "        text-align: right;\n",
       "    }\n",
       "</style>\n",
       "<table border=\"1\" class=\"dataframe\">\n",
       "  <thead>\n",
       "    <tr style=\"text-align: right;\">\n",
       "      <th></th>\n",
       "      <th>title</th>\n",
       "      <th>author</th>\n",
       "      <th>year</th>\n",
       "    </tr>\n",
       "  </thead>\n",
       "  <tbody>\n",
       "    <tr>\n",
       "      <th>0</th>\n",
       "      <td>The Alchemist</td>\n",
       "      <td>Paulo Coelho</td>\n",
       "      <td>1988</td>\n",
       "    </tr>\n",
       "    <tr>\n",
       "      <th>1</th>\n",
       "      <td>To Kill a Mockingbird</td>\n",
       "      <td>Harper Lee</td>\n",
       "      <td>1960</td>\n",
       "    </tr>\n",
       "    <tr>\n",
       "      <th>2</th>\n",
       "      <td>1984</td>\n",
       "      <td>George Orwell</td>\n",
       "      <td>1949</td>\n",
       "    </tr>\n",
       "  </tbody>\n",
       "</table>\n",
       "</div>"
      ],
      "text/plain": [
       "                   title         author  year\n",
       "0          The Alchemist   Paulo Coelho  1988\n",
       "1  To Kill a Mockingbird     Harper Lee  1960\n",
       "2                   1984  George Orwell  1949"
      ]
     },
     "execution_count": 6,
     "metadata": {},
     "output_type": "execute_result"
    }
   ],
   "source": [
    "library = [\n",
    "    {\"title\": \"The Alchemist\", \"author\": \"Paulo Coelho\", \"year\": 1988},\n",
    "    {\"title\": \"To Kill a Mockingbird\", \"author\": \"Harper Lee\", \"year\": 1960},\n",
    "    {\"title\": \"1984\", \"author\": \"George Orwell\", \"year\": 1949}\n",
    "]\n",
    "import pandas as pd\n",
    "pd.DataFrame(library)\n"
   ]
  },
  {
   "cell_type": "code",
   "execution_count": 7,
   "id": "68741b57-e3fa-4aef-936c-c4979235b93e",
   "metadata": {},
   "outputs": [
    {
     "name": "stdout",
     "output_type": "stream",
     "text": [
      "2025-07-21 → Temp: 34°C, Humidity: 60%\n",
      "2025-07-20 → Temp: 33°C, Humidity: 65%\n",
      "2025-07-19 → Temp: 32°C, Humidity: 70%\n"
     ]
    }
   ],
   "source": [
    "weather_data = [\n",
    "    {\"date\": \"2025-07-21\", \"temp\": 34, \"humidity\": 60},\n",
    "    {\"date\": \"2025-07-20\", \"temp\": 33, \"humidity\": 65},\n",
    "    {\"date\": \"2025-07-19\", \"temp\": 32, \"humidity\": 70}\n",
    "]\n",
    "for entry in weather_data:\n",
    "    print(f\"{entry['date']} → Temp: {entry['temp']}°C, Humidity: {entry['humidity']}%\")\n"
   ]
  },
  {
   "cell_type": "code",
   "execution_count": 8,
   "id": "6f634c2d-3778-4da3-b305-06145da499d7",
   "metadata": {},
   "outputs": [
    {
     "name": "stdout",
     "output_type": "stream",
     "text": [
      "[\n",
      "    {\n",
      "        \"movie\": \"Inception\",\n",
      "        \"rating\": 8.8,\n",
      "        \"year\": 2010\n",
      "    },\n",
      "    {\n",
      "        \"movie\": \"Interstellar\",\n",
      "        \"rating\": 8.6,\n",
      "        \"year\": 2014\n",
      "    },\n",
      "    {\n",
      "        \"movie\": \"The Dark Knight\",\n",
      "        \"rating\": 9.0,\n",
      "        \"year\": 2008\n",
      "    }\n",
      "]\n"
     ]
    }
   ],
   "source": [
    "movies = [\n",
    "    {\"movie\": \"Inception\", \"rating\": 8.8, \"year\": 2010},\n",
    "    {\"movie\": \"Interstellar\", \"rating\": 8.6, \"year\": 2014},\n",
    "    {\"movie\": \"The Dark Knight\", \"rating\": 9.0, \"year\": 2008}\n",
    "]\n",
    "import json\n",
    "print(json.dumps(movies, indent=4))\n"
   ]
  },
  {
   "cell_type": "code",
   "execution_count": 9,
   "id": "89a47adc-3acf-4124-8e59-5dc8b397e406",
   "metadata": {},
   "outputs": [
    {
     "data": {
      "text/html": [
       "<div>\n",
       "<style scoped>\n",
       "    .dataframe tbody tr th:only-of-type {\n",
       "        vertical-align: middle;\n",
       "    }\n",
       "\n",
       "    .dataframe tbody tr th {\n",
       "        vertical-align: top;\n",
       "    }\n",
       "\n",
       "    .dataframe thead th {\n",
       "        text-align: right;\n",
       "    }\n",
       "</style>\n",
       "<table border=\"1\" class=\"dataframe\">\n",
       "  <thead>\n",
       "    <tr style=\"text-align: right;\">\n",
       "      <th></th>\n",
       "      <th>roll_no</th>\n",
       "      <th>name</th>\n",
       "      <th>math</th>\n",
       "      <th>science</th>\n",
       "    </tr>\n",
       "  </thead>\n",
       "  <tbody>\n",
       "    <tr>\n",
       "      <th>0</th>\n",
       "      <td>1</td>\n",
       "      <td>Ajay</td>\n",
       "      <td>89</td>\n",
       "      <td>92</td>\n",
       "    </tr>\n",
       "    <tr>\n",
       "      <th>1</th>\n",
       "      <td>2</td>\n",
       "      <td>Neha</td>\n",
       "      <td>95</td>\n",
       "      <td>96</td>\n",
       "    </tr>\n",
       "    <tr>\n",
       "      <th>2</th>\n",
       "      <td>3</td>\n",
       "      <td>Rohit</td>\n",
       "      <td>78</td>\n",
       "      <td>85</td>\n",
       "    </tr>\n",
       "  </tbody>\n",
       "</table>\n",
       "</div>"
      ],
      "text/plain": [
       "   roll_no   name  math  science\n",
       "0        1   Ajay    89       92\n",
       "1        2   Neha    95       96\n",
       "2        3  Rohit    78       85"
      ]
     },
     "execution_count": 9,
     "metadata": {},
     "output_type": "execute_result"
    }
   ],
   "source": [
    "results = [\n",
    "    {\"roll_no\": 1, \"name\": \"Ajay\", \"math\": 89, \"science\": 92},\n",
    "    {\"roll_no\": 2, \"name\": \"Neha\", \"math\": 95, \"science\": 96},\n",
    "    {\"roll_no\": 3, \"name\": \"Rohit\", \"math\": 78, \"science\": 85}\n",
    "]\n",
    "pd.DataFrame(results)\n"
   ]
  },
  {
   "cell_type": "code",
   "execution_count": 10,
   "id": "12bab8bc-ef46-4cd3-9da7-c40c6d9c7043",
   "metadata": {},
   "outputs": [
    {
     "name": "stdout",
     "output_type": "stream",
     "text": [
      "Kumar has ₹20000 in account 123456\n",
      "Radha has ₹55000 in account 654321\n",
      "Divya has ₹15000 in account 789012\n"
     ]
    }
   ],
   "source": [
    "accounts = [\n",
    "    {\"account_no\": \"123456\", \"name\": \"Kumar\", \"balance\": 20000},\n",
    "    {\"account_no\": \"654321\", \"name\": \"Radha\", \"balance\": 55000},\n",
    "    {\"account_no\": \"789012\", \"name\": \"Divya\", \"balance\": 15000}\n",
    "]\n",
    "for acc in accounts:\n",
    "    print(f\"{acc['name']} has ₹{acc['balance']} in account {acc['account_no']}\")\n"
   ]
  },
  {
   "cell_type": "code",
   "execution_count": 11,
   "id": "e55060f1-c9fa-4807-b06b-fe9930a4d9e1",
   "metadata": {},
   "outputs": [
    {
     "name": "stdout",
     "output_type": "stream",
     "text": [
      "[0, 1, 2, 3, 4, 5, 6, 7, 8, 9, 10, 11, 12, 13, 14, 15, 16, 17, 18, 19]\n"
     ]
    }
   ],
   "source": [
    "arr = list(range(20))\n",
    "print(arr)"
   ]
  },
  {
   "cell_type": "code",
   "execution_count": 12,
   "id": "84160002-ba39-451a-a42f-867eb4252317",
   "metadata": {},
   "outputs": [
    {
     "name": "stdout",
     "output_type": "stream",
     "text": [
      "[0, 1, 2, 3, 4, 5, 6, 7, 8, 9, 10, 11, 12, 13, 14, 15]\n"
     ]
    }
   ],
   "source": [
    "arr = list(range(16))\n",
    "print(arr)"
   ]
  },
  {
   "cell_type": "code",
   "execution_count": 13,
   "id": "2df906cc-7c01-4299-93d6-b3366502ef25",
   "metadata": {},
   "outputs": [
    {
     "name": "stdout",
     "output_type": "stream",
     "text": [
      "[0, 1, 2, 3, 4, 5, 6, 7, 8, 9, 10, 11, 12, 13, 14, 15, 16, 17, 18, 19, 20, 21, 22, 23, 24, 25, 26, 27, 28, 29]\n"
     ]
    }
   ],
   "source": [
    "arr = list(range(30))\n",
    "print(arr)"
   ]
  },
  {
   "cell_type": "code",
   "execution_count": 14,
   "id": "21a8d12b-2770-4aed-a0d9-16c95ea1656d",
   "metadata": {},
   "outputs": [
    {
     "name": "stdout",
     "output_type": "stream",
     "text": [
      "[0, 1, 2, 3, 4, 5, 6, 7, 8, 9, 10, 11, 12, 13, 14, 15, 16, 17, 18, 19, 20, 21, 22, 23, 24, 25, 26, 27, 28, 29, 30, 31, 32, 33, 34, 35, 36, 37, 38, 39, 40, 41, 42, 43, 44, 45]\n"
     ]
    }
   ],
   "source": [
    "arr = list(range(46))\n",
    "print(arr)"
   ]
  },
  {
   "cell_type": "code",
   "execution_count": 15,
   "id": "cef29298-fddb-4e90-a357-e1dd5402a573",
   "metadata": {},
   "outputs": [
    {
     "name": "stdout",
     "output_type": "stream",
     "text": [
      "[0, 1, 2, 3, 4, 5, 6, 7, 8, 9, 10, 11, 12, 13, 14, 15, 16, 17, 18, 19, 20, 21, 22, 23, 24, 25, 26, 27, 28, 29, 30, 31, 32, 33, 34, 35, 36, 37, 38, 39, 40, 41, 42, 43, 44, 45, 46, 47, 48, 49, 50, 51, 52, 53, 54]\n"
     ]
    }
   ],
   "source": [
    "arr = list(range(55))\n",
    "print(arr)"
   ]
  },
  {
   "cell_type": "code",
   "execution_count": 16,
   "id": "35c8808f-cab6-4632-ba41-6112c51d1f3e",
   "metadata": {},
   "outputs": [
    {
     "name": "stdout",
     "output_type": "stream",
     "text": [
      "[0, 1, 4, 9, 16, 25, 36, 49, 64, 81, 100, 121, 144, 169, 196, 225, 256]\n"
     ]
    }
   ],
   "source": [
    "arr = [x**2 for x in range(17)]\n",
    "print(arr)"
   ]
  },
  {
   "cell_type": "code",
   "execution_count": 17,
   "id": "656e6e9b-d8be-4eed-b800-856bbcad4302",
   "metadata": {},
   "outputs": [
    {
     "name": "stdout",
     "output_type": "stream",
     "text": [
      "[0, 1, 4, 9, 16, 25, 36, 49, 64, 81]\n"
     ]
    }
   ],
   "source": [
    "arr = [x**2 for x in range(10)]\n",
    "print(arr)"
   ]
  },
  {
   "cell_type": "code",
   "execution_count": 18,
   "id": "7015dace-8f6c-41a5-ba91-20e4c78025b4",
   "metadata": {},
   "outputs": [
    {
     "name": "stdout",
     "output_type": "stream",
     "text": [
      "[0, 1, 4, 9, 16, 25, 36, 49, 64, 81, 100, 121, 144, 169, 196, 225, 256, 289, 324, 361, 400, 441, 484, 529, 576, 625, 676, 729, 784, 841, 900, 961, 1024, 1089, 1156, 1225, 1296, 1369, 1444, 1521, 1600, 1681, 1764, 1849, 1936, 2025, 2116, 2209, 2304, 2401, 2500, 2601, 2704, 2809, 2916, 3025, 3136, 3249, 3364, 3481, 3600, 3721, 3844, 3969, 4096, 4225, 4356, 4489, 4624, 4761, 4900, 5041, 5184, 5329, 5476, 5625, 5776, 5929, 6084, 6241, 6400, 6561, 6724, 6889, 7056, 7225, 7396, 7569, 7744, 7921, 8100, 8281, 8464, 8649, 8836, 9025, 9216, 9409, 9604, 9801, 10000, 10201, 10404, 10609, 10816, 11025, 11236, 11449, 11664, 11881, 12100, 12321, 12544, 12769, 12996, 13225, 13456, 13689, 13924, 14161, 14400, 14641, 14884, 15129, 15376, 15625, 15876, 16129, 16384, 16641, 16900, 17161, 17424, 17689, 17956, 18225, 18496, 18769, 19044, 19321, 19600, 19881, 20164, 20449, 20736, 21025, 21316, 21609, 21904, 22201, 22500, 22801, 23104, 23409, 23716, 24025, 24336, 24649, 24964, 25281, 25600, 25921, 26244, 26569, 26896, 27225, 27556, 27889, 28224, 28561, 28900, 29241, 29584, 29929, 30276, 30625, 30976, 31329, 31684, 32041, 32400, 32761, 33124, 33489, 33856, 34225, 34596, 34969, 35344, 35721, 36100, 36481, 36864, 37249, 37636, 38025, 38416, 38809, 39204, 39601, 40000, 40401, 40804, 41209, 41616, 42025, 42436, 42849, 43264, 43681, 44100, 44521, 44944, 45369, 45796, 46225, 46656, 47089, 47524, 47961, 48400, 48841, 49284, 49729, 50176, 50625, 51076, 51529, 51984, 52441, 52900, 53361, 53824, 54289, 54756, 55225, 55696, 56169, 56644, 57121, 57600, 58081, 58564, 59049, 59536, 60025, 60516, 61009, 61504, 62001, 62500, 63001, 63504, 64009, 64516, 65025, 65536, 66049, 66564, 67081, 67600, 68121, 68644, 69169, 69696, 70225, 70756, 71289, 71824, 72361, 72900, 73441, 73984, 74529, 75076, 75625, 76176, 76729, 77284, 77841, 78400, 78961, 79524, 80089, 80656, 81225, 81796, 82369, 82944, 83521, 84100, 84681, 85264, 85849, 86436, 87025, 87616, 88209, 88804, 89401, 90000, 90601, 91204, 91809, 92416, 93025, 93636, 94249, 94864, 95481, 96100, 96721, 97344, 97969, 98596, 99225, 99856, 100489, 101124, 101761, 102400, 103041, 103684, 104329, 104976, 105625, 106276, 106929, 107584, 108241, 108900, 109561, 110224, 110889, 111556, 112225, 112896, 113569, 114244, 114921, 115600, 116281, 116964, 117649, 118336, 119025, 119716, 120409, 121104, 121801, 122500, 123201, 123904, 124609, 125316, 126025, 126736, 127449, 128164, 128881, 129600, 130321, 131044, 131769, 132496, 133225, 133956, 134689, 135424, 136161, 136900, 137641, 138384, 139129, 139876, 140625, 141376, 142129, 142884, 143641, 144400, 145161, 145924, 146689, 147456, 148225, 148996, 149769, 150544, 151321, 152100, 152881, 153664, 154449, 155236, 156025, 156816, 157609, 158404, 159201, 160000, 160801, 161604, 162409, 163216, 164025, 164836, 165649, 166464, 167281, 168100, 168921, 169744, 170569, 171396, 172225, 173056, 173889, 174724, 175561, 176400, 177241, 178084, 178929, 179776, 180625, 181476, 182329, 183184, 184041, 184900, 185761, 186624, 187489, 188356, 189225, 190096, 190969, 191844, 192721, 193600, 194481, 195364, 196249, 197136, 198025, 198916, 199809, 200704, 201601, 202500, 203401, 204304, 205209, 206116, 207025, 207936, 208849, 209764, 210681, 211600, 212521, 213444, 214369, 215296, 216225, 217156, 218089, 219024, 219961, 220900, 221841, 222784, 223729, 224676, 225625, 226576, 227529, 228484, 229441, 230400, 231361, 232324, 233289, 234256, 235225, 236196, 237169, 238144, 239121, 240100, 241081, 242064, 243049, 244036, 245025, 246016, 247009, 248004, 249001]\n"
     ]
    }
   ],
   "source": [
    "arr = [x**2 for x in range(500)]\n",
    "print(arr)"
   ]
  },
  {
   "cell_type": "code",
   "execution_count": 19,
   "id": "97ed38f0-149f-485e-837c-39cc753d1ac4",
   "metadata": {},
   "outputs": [
    {
     "name": "stdout",
     "output_type": "stream",
     "text": [
      "[0, 1, 4, 9, 16, 25, 36, 49, 64, 81, 100, 121, 144, 169, 196, 225, 256, 289, 324, 361, 400, 441, 484, 529, 576, 625, 676, 729, 784, 841, 900, 961, 1024, 1089, 1156, 1225, 1296, 1369, 1444, 1521, 1600, 1681, 1764, 1849, 1936, 2025, 2116, 2209, 2304, 2401]\n"
     ]
    }
   ],
   "source": [
    "arr = [x**2 for x in range(50)]\n",
    "print(arr)"
   ]
  },
  {
   "cell_type": "code",
   "execution_count": 20,
   "id": "ad6e4bd8-8e72-4fdd-b990-008ebb51cb01",
   "metadata": {},
   "outputs": [
    {
     "name": "stdout",
     "output_type": "stream",
     "text": [
      "[0, 2, 4, 6, 8, 10, 12, 14, 16, 18, 20]\n"
     ]
    }
   ],
   "source": [
    "\n",
    "arr = [x for x in range(21) if x % 2 == 0]\n",
    "print(arr)"
   ]
  },
  {
   "cell_type": "code",
   "execution_count": 21,
   "id": "ab299982-9d13-4aa4-9680-77450a171240",
   "metadata": {},
   "outputs": [
    {
     "name": "stdout",
     "output_type": "stream",
     "text": [
      "[0, 2, 4, 6, 8, 10, 12, 14, 16, 18, 20]\n"
     ]
    }
   ],
   "source": [
    "\n",
    "arr = [x for x in range(22) if x % 2 == 0]\n",
    "print(arr)"
   ]
  },
  {
   "cell_type": "code",
   "execution_count": 22,
   "id": "393af762-132a-499e-8418-82e297d7154f",
   "metadata": {},
   "outputs": [
    {
     "name": "stdout",
     "output_type": "stream",
     "text": [
      "[0, 2, 4, 6, 8, 10, 12, 14, 16, 18, 20, 22]\n"
     ]
    }
   ],
   "source": [
    "\n",
    "arr = [x for x in range(24) if x % 2 == 0]\n",
    "print(arr)"
   ]
  },
  {
   "cell_type": "code",
   "execution_count": 23,
   "id": "302d3853-8f8c-49de-b8dd-e390490e0859",
   "metadata": {},
   "outputs": [
    {
     "name": "stdout",
     "output_type": "stream",
     "text": [
      "[0, 2, 4, 6, 8, 10, 12, 14, 16, 18, 20, 22, 24, 26, 28, 30, 32, 34, 36, 38, 40, 42, 44, 46, 48]\n"
     ]
    }
   ],
   "source": [
    "\n",
    "arr = [x for x in range(50) if x % 2 == 0]\n",
    "print(arr)"
   ]
  },
  {
   "cell_type": "code",
   "execution_count": 24,
   "id": "786d4993-23d0-474c-99da-5ac62254e23c",
   "metadata": {},
   "outputs": [
    {
     "name": "stdout",
     "output_type": "stream",
     "text": [
      "[0, 2, 4, 6, 8, 10, 12, 14, 16, 18, 20, 22, 24, 26, 28, 30, 32, 34, 36, 38, 40, 42, 44, 46, 48, 50, 52, 54, 56, 58]\n"
     ]
    }
   ],
   "source": [
    "\n",
    "arr = [x for x in range(60) if x % 2 == 0]\n",
    "print(arr)"
   ]
  },
  {
   "cell_type": "code",
   "execution_count": 25,
   "id": "60cd81a2-91ec-4ac0-a994-89e69eca1ab1",
   "metadata": {},
   "outputs": [
    {
     "name": "stdout",
     "output_type": "stream",
     "text": [
      "a\n",
      "d\n"
     ]
    }
   ],
   "source": [
    "arr = ['a', 'b', 'c', 'd']\n",
    "print(arr[0])\n",
    "print(arr[-1])"
   ]
  },
  {
   "cell_type": "code",
   "execution_count": 26,
   "id": "4f6fe44e-b9c1-4f70-8a7c-a52278820f63",
   "metadata": {},
   "outputs": [
    {
     "name": "stdout",
     "output_type": "stream",
     "text": [
      "a\n",
      "d\n"
     ]
    }
   ],
   "source": [
    "arr = ['a', 'b', 'c', 'd']\n",
    "print(arr[0])\n",
    "print(arr[-1])"
   ]
  },
  {
   "cell_type": "code",
   "execution_count": 27,
   "id": "3b226f59-88c8-401b-a3c6-056e6a98a165",
   "metadata": {},
   "outputs": [
    {
     "name": "stdout",
     "output_type": "stream",
     "text": [
      "[1, 2, 3, 4, 5, 6]\n"
     ]
    }
   ],
   "source": [
    "arr = [1, 2, 3, 4, 5]\n",
    "arr.append(6)\n",
    "print(arr)"
   ]
  },
  {
   "cell_type": "code",
   "execution_count": 28,
   "id": "94982d6f-ab92-49b5-b5b2-05d0898f7dc0",
   "metadata": {},
   "outputs": [
    {
     "name": "stdout",
     "output_type": "stream",
     "text": [
      "[10, 20, 30]\n"
     ]
    }
   ],
   "source": [
    "arr = [10, 20, 30, 40]\n",
    "arr.pop()\n",
    "print(arr)"
   ]
  },
  {
   "cell_type": "code",
   "execution_count": 29,
   "id": "ac448496-f3c2-4825-ad39-7c1ce0f44c19",
   "metadata": {},
   "outputs": [
    {
     "name": "stdout",
     "output_type": "stream",
     "text": [
      "[10, 20, 30, 40]\n"
     ]
    }
   ],
   "source": [
    "arr = [10, 20, 30, 40,50]\n",
    "arr.pop()\n",
    "print(arr)"
   ]
  },
  {
   "cell_type": "code",
   "execution_count": 30,
   "id": "a8a67f63-18fe-4fdf-9e25-23e235267891",
   "metadata": {},
   "outputs": [
    {
     "name": "stdout",
     "output_type": "stream",
     "text": [
      "[10, 20, 30, 40]\n"
     ]
    }
   ],
   "source": [
    "arr = [10, 20, 30, 40 ,50]\n",
    "arr.pop()\n",
    "print(arr)"
   ]
  },
  {
   "cell_type": "code",
   "execution_count": 31,
   "id": "fb42b5ac-2838-4000-b335-306330dc7def",
   "metadata": {},
   "outputs": [
    {
     "name": "stdout",
     "output_type": "stream",
     "text": [
      "[10, 20, 30]\n"
     ]
    }
   ],
   "source": [
    "arr = [10, 20, 30, 40]\n",
    "arr.pop()\n",
    "print(arr)"
   ]
  },
  {
   "cell_type": "code",
   "execution_count": 32,
   "id": "3ecaf27c-182f-4448-8553-ba870582b7f1",
   "metadata": {},
   "outputs": [
    {
     "name": "stdout",
     "output_type": "stream",
     "text": [
      "[10, 20, 30]\n"
     ]
    }
   ],
   "source": [
    "arr = [10, 20, 30, 40]\n",
    "arr.pop()\n",
    "print(arr)"
   ]
  },
  {
   "cell_type": "code",
   "execution_count": 33,
   "id": "9dd6481f-c337-4a95-93c8-4dfa7e5a4ac5",
   "metadata": {},
   "outputs": [
    {
     "name": "stdout",
     "output_type": "stream",
     "text": [
      "[10, 20, 30]\n"
     ]
    }
   ],
   "source": [
    "arr = [10, 20, 30, 40]\n",
    "arr.pop()\n",
    "print(arr)"
   ]
  },
  {
   "cell_type": "code",
   "execution_count": 34,
   "id": "22068014-b0ac-43a7-9244-f3775d10587d",
   "metadata": {},
   "outputs": [
    {
     "name": "stdout",
     "output_type": "stream",
     "text": [
      "[10, 20, 30]\n"
     ]
    }
   ],
   "source": [
    "arr = [10, 20, 30, 40]\n",
    "arr.pop()\n",
    "print(arr)"
   ]
  },
  {
   "cell_type": "code",
   "execution_count": 35,
   "id": "50fee00f-0c2d-4c4b-b98a-3d506b602257",
   "metadata": {},
   "outputs": [
    {
     "name": "stdout",
     "output_type": "stream",
     "text": [
      "[10, 20, 30]\n"
     ]
    }
   ],
   "source": [
    "arr = [10, 20, 30, 40]\n",
    "arr.pop()\n",
    "print(arr)"
   ]
  },
  {
   "cell_type": "code",
   "execution_count": 36,
   "id": "ff4018eb-4f9b-4a6e-83fb-5a1dbba60f55",
   "metadata": {},
   "outputs": [
    {
     "name": "stdout",
     "output_type": "stream",
     "text": [
      "[1, 100, 2, 3]\n"
     ]
    }
   ],
   "source": [
    "arr = [1, 2, 3]\n",
    "arr.insert(1, 100)\n",
    "print(arr)"
   ]
  },
  {
   "cell_type": "code",
   "execution_count": 37,
   "id": "eb007943-0554-461a-a94b-4b81816fa80b",
   "metadata": {},
   "outputs": [
    {
     "name": "stdout",
     "output_type": "stream",
     "text": [
      "[1, 100, 2, 3, 4]\n"
     ]
    }
   ],
   "source": [
    "arr = [1, 2, 3,4]\n",
    "arr.insert(1, 100)\n",
    "print(arr)"
   ]
  },
  {
   "cell_type": "code",
   "execution_count": 38,
   "id": "01212adc-4c32-4f53-a2a5-1f098d87ec3a",
   "metadata": {},
   "outputs": [
    {
     "name": "stdout",
     "output_type": "stream",
     "text": [
      "[1, 50, 2, 3]\n"
     ]
    }
   ],
   "source": [
    "arr = [1, 2, 3]\n",
    "arr.insert(1, 50)\n",
    "print(arr)"
   ]
  },
  {
   "cell_type": "code",
   "execution_count": 39,
   "id": "6de19921-439d-4e7f-9e78-256f1b2be154",
   "metadata": {},
   "outputs": [
    {
     "name": "stdout",
     "output_type": "stream",
     "text": [
      "[1, 200, 2, 3]\n"
     ]
    }
   ],
   "source": [
    "arr = [1, 2, 3]\n",
    "arr.insert(1, 200)\n",
    "print(arr)"
   ]
  },
  {
   "cell_type": "code",
   "execution_count": 40,
   "id": "87f9df5c-e301-41eb-b9be-eb5a4c33a11c",
   "metadata": {},
   "outputs": [
    {
     "name": "stdout",
     "output_type": "stream",
     "text": [
      "[1, 500, 2, 3]\n"
     ]
    }
   ],
   "source": [
    "arr = [1, 2, 3]\n",
    "arr.insert(1, 500)\n",
    "print(arr)"
   ]
  },
  {
   "cell_type": "code",
   "execution_count": 41,
   "id": "85dd3b3b-f4b5-4713-ba4e-aa82f5db7610",
   "metadata": {},
   "outputs": [
    {
     "name": "stdout",
     "output_type": "stream",
     "text": [
      "[1, 10, 2, 3]\n"
     ]
    }
   ],
   "source": [
    "arr = [1, 2, 3]\n",
    "arr.insert(1, 10)\n",
    "print(arr)"
   ]
  },
  {
   "cell_type": "code",
   "execution_count": 42,
   "id": "e03978d1-61b6-4af0-8634-d5f3afbb79f3",
   "metadata": {},
   "outputs": [
    {
     "name": "stdout",
     "output_type": "stream",
     "text": [
      "[2, 3, 4]\n"
     ]
    }
   ],
   "source": [
    "arr = [1, 2, 3, 4, 5]\n",
    "print(arr[1:4])"
   ]
  },
  {
   "cell_type": "code",
   "execution_count": 43,
   "id": "217d4ae0-97cb-4b92-98c6-3bb013bedd60",
   "metadata": {},
   "outputs": [
    {
     "name": "stdout",
     "output_type": "stream",
     "text": [
      "[2, 3, 4, 5]\n"
     ]
    }
   ],
   "source": [
    "arr = [1, 2, 3, 4, 5]\n",
    "print(arr[1:5])"
   ]
  },
  {
   "cell_type": "code",
   "execution_count": 44,
   "id": "e765c30c-30d6-403e-bc7e-3d9dfa419a07",
   "metadata": {},
   "outputs": [
    {
     "name": "stdout",
     "output_type": "stream",
     "text": [
      "[2, 3, 4, 5]\n"
     ]
    }
   ],
   "source": [
    "arr = [1, 2, 3, 4, 5]\n",
    "print(arr[1:10])"
   ]
  },
  {
   "cell_type": "code",
   "execution_count": 45,
   "id": "042b04e7-a5e5-449a-9a28-06450a5a12f9",
   "metadata": {},
   "outputs": [
    {
     "name": "stdout",
     "output_type": "stream",
     "text": [
      "[2, 3]\n"
     ]
    }
   ],
   "source": [
    "arr = [1, 2, 3, 4, 5]\n",
    "print(arr[1:3])"
   ]
  },
  {
   "cell_type": "code",
   "execution_count": 46,
   "id": "86b4e59e-d995-4552-8a20-2ff26d5bc123",
   "metadata": {},
   "outputs": [
    {
     "name": "stdout",
     "output_type": "stream",
     "text": [
      "[2]\n"
     ]
    }
   ],
   "source": [
    "arr = [1, 2, 3, 4, 5]\n",
    "print(arr[1:2])"
   ]
  },
  {
   "cell_type": "code",
   "execution_count": 47,
   "id": "1707743c-19a8-4364-a01b-c7155e6dacc7",
   "metadata": {},
   "outputs": [
    {
     "name": "stdout",
     "output_type": "stream",
     "text": [
      "[2, 3, 4]\n"
     ]
    }
   ],
   "source": [
    "arr = [1, 2, 3, 4, 5,6,7]\n",
    "print(arr[1:4])"
   ]
  },
  {
   "cell_type": "code",
   "execution_count": 48,
   "id": "3f9c0c96-b68c-4a23-ba94-81f726e477dc",
   "metadata": {},
   "outputs": [
    {
     "name": "stdout",
     "output_type": "stream",
     "text": [
      "[2, 3, 4, 5]\n"
     ]
    }
   ],
   "source": [
    "arr = [1, 2, 3, 4, 5]\n",
    "print(arr[1:5])"
   ]
  },
  {
   "cell_type": "code",
   "execution_count": 49,
   "id": "cf359ba4-f7f3-4315-8b1d-54b13c82cece",
   "metadata": {},
   "outputs": [
    {
     "name": "stdout",
     "output_type": "stream",
     "text": [
      "[2, 3, 4]\n"
     ]
    }
   ],
   "source": [
    "arr = [1, 2, 3, 4, 5,6,7,8,9,10]\n",
    "print(arr[1:4])"
   ]
  },
  {
   "cell_type": "code",
   "execution_count": 55,
   "id": "f8e83425-2457-42a4-9678-5340dae52e81",
   "metadata": {},
   "outputs": [
    {
     "name": "stdout",
     "output_type": "stream",
     "text": [
      "3\n"
     ]
    }
   ],
   "source": [
    "# Cell 86 - Python Arrays\n",
    "arr = [1, [2, 3], [4, 5]]\n",
    "print(arr[1][1])"
   ]
  },
  {
   "cell_type": "code",
   "execution_count": 56,
   "id": "4a6266f3-1594-4757-a455-fffcfcecd694",
   "metadata": {},
   "outputs": [
    {
     "name": "stdout",
     "output_type": "stream",
     "text": [
      "3\n"
     ]
    }
   ],
   "source": [
    "arr = [1, [2, 3], [4, 5]]\n",
    "print(arr[1][1])"
   ]
  },
  {
   "cell_type": "code",
   "execution_count": 57,
   "id": "763a232f-5675-4127-a4a6-447db9c9ab54",
   "metadata": {},
   "outputs": [
    {
     "name": "stdout",
     "output_type": "stream",
     "text": [
      "45\n"
     ]
    }
   ],
   "source": [
    "arr = [x for x in range(10)]\n",
    "print(sum(arr))"
   ]
  },
  {
   "cell_type": "code",
   "execution_count": 58,
   "id": "db351568-ffd2-4d61-b02b-676db952a7d7",
   "metadata": {},
   "outputs": [
    {
     "name": "stdout",
     "output_type": "stream",
     "text": [
      "{'0': 0, '1': 1, '2': 4}\n"
     ]
    }
   ],
   "source": [
    "d = {str(x): x**2 for x in range(3)}\n",
    "print(d)"
   ]
  },
  {
   "cell_type": "code",
   "execution_count": 59,
   "id": "4821291f-4031-4c34-ba65-e03bbf59bc2f",
   "metadata": {},
   "outputs": [
    {
     "name": "stdout",
     "output_type": "stream",
     "text": [
      "{'0': 0, '1': 1, '2': 4, '3': 9}\n"
     ]
    }
   ],
   "source": [
    "d = {str(x): x**2 for x in range(4)}\n",
    "print(d)"
   ]
  },
  {
   "cell_type": "code",
   "execution_count": 60,
   "id": "fce1acf6-de4c-4460-b8c9-5005f054cf0a",
   "metadata": {},
   "outputs": [
    {
     "name": "stdout",
     "output_type": "stream",
     "text": [
      "{'0': 0, '1': 1, '2': 4, '3': 9, '4': 16, '5': 25, '6': 36}\n"
     ]
    }
   ],
   "source": [
    "d = {str(x): x**2 for x in range(7)}\n",
    "print(d)"
   ]
  },
  {
   "cell_type": "code",
   "execution_count": null,
   "id": "b9c8d059-fd74-4921-a689-8598057a8ae7",
   "metadata": {},
   "outputs": [],
   "source": []
  }
 ],
 "metadata": {
  "kernelspec": {
   "display_name": "Python 3 (ipykernel)",
   "language": "python",
   "name": "python3"
  },
  "language_info": {
   "codemirror_mode": {
    "name": "ipython",
    "version": 3
   },
   "file_extension": ".py",
   "mimetype": "text/x-python",
   "name": "python",
   "nbconvert_exporter": "python",
   "pygments_lexer": "ipython3",
   "version": "3.13.5"
  }
 },
 "nbformat": 4,
 "nbformat_minor": 5
}
