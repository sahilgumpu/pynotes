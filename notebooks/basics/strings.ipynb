{
 "cells": [
  {
   "cell_type": "code",
   "execution_count": 4,
   "id": "0f33ecdb-e3c9-4d90-9aef-f17b9d64a961",
   "metadata": {},
   "outputs": [],
   "source": [
    "m= 'HellO World'"
   ]
  },
  {
   "cell_type": "code",
   "execution_count": 2,
   "id": "f2e54c5f-424d-4bce-adb3-8a15db0c963b",
   "metadata": {},
   "outputs": [
    {
     "name": "stdout",
     "output_type": "stream",
     "text": [
      "11\n"
     ]
    }
   ],
   "source": [
    "print(len(m))"
   ]
  },
  {
   "cell_type": "code",
   "execution_count": 3,
   "id": "99c7a025-59d9-4a85-b51c-08f6867486f7",
   "metadata": {},
   "outputs": [
    {
     "name": "stdout",
     "output_type": "stream",
     "text": [
      "HELLO WORLD\n"
     ]
    }
   ],
   "source": [
    "print(s.upper())"
   ]
  },
  {
   "cell_type": "code",
   "execution_count": 5,
   "id": "0d0c9fa7-1e70-4b53-a106-4f5965e59ff5",
   "metadata": {},
   "outputs": [
    {
     "name": "stdout",
     "output_type": "stream",
     "text": [
      "hello world\n"
     ]
    }
   ],
   "source": [
    "print(s.lower())"
   ]
  },
  {
   "cell_type": "code",
   "execution_count": 6,
   "id": "1b954e5f-38d0-4ef3-b90b-c8d5400f2cdf",
   "metadata": {},
   "outputs": [
    {
     "name": "stdout",
     "output_type": "stream",
     "text": [
      "Hello world\n"
     ]
    }
   ],
   "source": [
    "print(s.capitalize())"
   ]
  },
  {
   "cell_type": "code",
   "execution_count": 7,
   "id": "7fac73d6-560f-4955-950e-1a3e30a6a0c1",
   "metadata": {},
   "outputs": [
    {
     "name": "stdout",
     "output_type": "stream",
     "text": [
      "Hello World\n"
     ]
    }
   ],
   "source": [
    "print(s.title())"
   ]
  },
  {
   "cell_type": "code",
   "execution_count": 10,
   "id": "1386fd07-b02a-49a3-8470-49570d27af3b",
   "metadata": {},
   "outputs": [
    {
     "name": "stdout",
     "output_type": "stream",
     "text": [
      "1\n"
     ]
    }
   ],
   "source": [
    "print(s.find('e'))\n",
    "      "
   ]
  },
  {
   "cell_type": "code",
   "execution_count": 11,
   "id": "b021bc9c-9e40-4191-981f-e904a3994e41",
   "metadata": {},
   "outputs": [
    {
     "name": "stdout",
     "output_type": "stream",
     "text": [
      "8\n"
     ]
    }
   ],
   "source": [
    "print(s.find('r'))"
   ]
  },
  {
   "cell_type": "code",
   "execution_count": 13,
   "id": "251b1c74-2441-43e0-bbff-6487d7565703",
   "metadata": {},
   "outputs": [
    {
     "name": "stdout",
     "output_type": "stream",
     "text": [
      "10\n"
     ]
    }
   ],
   "source": [
    "print(s.find('d'))"
   ]
  },
  {
   "cell_type": "code",
   "execution_count": 14,
   "id": "0e4d23eb-2f01-4b52-b0c4-d0afb4892600",
   "metadata": {},
   "outputs": [
    {
     "name": "stdout",
     "output_type": "stream",
     "text": [
      "6\n"
     ]
    }
   ],
   "source": [
    "print(s.find('w'))"
   ]
  },
  {
   "cell_type": "code",
   "execution_count": 17,
   "id": "1a669b19-46ed-486e-a377-bd52414d5725",
   "metadata": {},
   "outputs": [
    {
     "name": "stdout",
     "output_type": "stream",
     "text": [
      "test  \n"
     ]
    }
   ],
   "source": [
    "print('  test  '.lstrip())"
   ]
  },
  {
   "cell_type": "code",
   "execution_count": 18,
   "id": "1af709cc-aaa7-41b7-9b00-dc8f09273fbf",
   "metadata": {},
   "outputs": [
    {
     "name": "stdout",
     "output_type": "stream",
     "text": [
      "True\n"
     ]
    }
   ],
   "source": [
    "print('123'.isdigit())"
   ]
  },
  {
   "cell_type": "code",
   "execution_count": 19,
   "id": "b14e0ad8-49cc-4092-a7a2-5d9f1c94874d",
   "metadata": {},
   "outputs": [
    {
     "name": "stdout",
     "output_type": "stream",
     "text": [
      "True\n"
     ]
    }
   ],
   "source": [
    "print('12345'.isdigit())"
   ]
  },
  {
   "cell_type": "code",
   "execution_count": 20,
   "id": "821c9415-a0fe-4838-9a6b-fb4cdfea1c56",
   "metadata": {},
   "outputs": [
    {
     "name": "stdout",
     "output_type": "stream",
     "text": [
      "onetwo\n"
     ]
    }
   ],
   "source": [
    "print('one1two2'.translate(str.maketrans('', '', '0123456789')))"
   ]
  },
  {
   "cell_type": "code",
   "execution_count": 21,
   "id": "9c11f2b5-eff0-4475-b44e-fbb10fa1147b",
   "metadata": {},
   "outputs": [
    {
     "name": "stdout",
     "output_type": "stream",
     "text": [
      "9\n"
     ]
    }
   ],
   "source": [
    "print('abcdefghijklmno'.find('j', 5))"
   ]
  },
  {
   "cell_type": "code",
   "execution_count": 22,
   "id": "0a0f13b2-1582-4781-af21-2d6eb1d1b41c",
   "metadata": {},
   "outputs": [
    {
     "name": "stdout",
     "output_type": "stream",
     "text": [
      "-1\n"
     ]
    }
   ],
   "source": [
    "print('abcdefghijklmno'.find('a', 5))"
   ]
  },
  {
   "cell_type": "code",
   "execution_count": 23,
   "id": "34c88557-686f-421c-b4ca-a5a8baf72d69",
   "metadata": {},
   "outputs": [
    {
     "name": "stdout",
     "output_type": "stream",
     "text": [
      "10\n"
     ]
    }
   ],
   "source": [
    "print('abcdefghijklmno'.find('k', 5))"
   ]
  },
  {
   "cell_type": "code",
   "execution_count": 24,
   "id": "c58b7a1e-7b00-4ad9-b9f5-9726d66cf2a2",
   "metadata": {},
   "outputs": [
    {
     "name": "stdout",
     "output_type": "stream",
     "text": [
      "13\n"
     ]
    }
   ],
   "source": [
    "print('abcdefghijklmno'.find('n', 5))"
   ]
  },
  {
   "cell_type": "code",
   "execution_count": 25,
   "id": "f25b80d9-4a71-4b3f-bce7-738ecdaeafaf",
   "metadata": {},
   "outputs": [
    {
     "name": "stdout",
     "output_type": "stream",
     "text": [
      "abc123\n"
     ]
    }
   ],
   "source": [
    "print('abc'.__add__('123'))"
   ]
  },
  {
   "cell_type": "code",
   "execution_count": null,
   "id": "262b26e2-6076-41ad-bcbf-4558bd5863cd",
   "metadata": {},
   "outputs": [],
   "source": []
  }
 ],
 "metadata": {
  "kernelspec": {
   "display_name": "Python 3 (ipykernel)",
   "language": "python",
   "name": "python3"
  },
  "language_info": {
   "codemirror_mode": {
    "name": "ipython",
    "version": 3
   },
   "file_extension": ".py",
   "mimetype": "text/x-python",
   "name": "python",
   "nbconvert_exporter": "python",
   "pygments_lexer": "ipython3",
   "version": "3.13.5"
  }
 },
 "nbformat": 4,
 "nbformat_minor": 5
}
