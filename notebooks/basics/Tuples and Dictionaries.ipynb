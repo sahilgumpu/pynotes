{
 "cells": [
  {
   "cell_type": "code",
   "execution_count": 1,
   "id": "b430c8da-0edf-48a8-96f5-83d8a8fca0b6",
   "metadata": {},
   "outputs": [
    {
     "name": "stdout",
     "output_type": "stream",
     "text": [
      "[{'name': 'Alice', 'age': 25}, {'name': 'Bob', 'age': 30}, {'name': 'Charlie', 'age': 22}]\n"
     ]
    }
   ],
   "source": [
    "data = [\n",
    "    {\"name\": \"Alice\", \"age\": 25},\n",
    "    {\"name\": \"Bob\", \"age\": 30},\n",
    "    {\"name\": \"Charlie\", \"age\": 22}\n",
    "]\n",
    "print(data)\n"
   ]
  },
  {
   "cell_type": "code",
   "execution_count": 2,
   "id": "784ae697-ab3f-4dc5-afde-59520e1c95a2",
   "metadata": {},
   "outputs": [
    {
     "name": "stdout",
     "output_type": "stream",
     "text": [
      "[\n",
      "  {\n",
      "    \"emp_id\": \"E01\",\n",
      "    \"name\": \"Alice\",\n",
      "    \"dept\": \"HR\"\n",
      "  },\n",
      "  {\n",
      "    \"emp_id\": \"E02\",\n",
      "    \"name\": \"Bob\",\n",
      "    \"dept\": \"IT\"\n",
      "  },\n",
      "  {\n",
      "    \"emp_id\": \"E03\",\n",
      "    \"name\": \"Carol\",\n",
      "    \"dept\": \"Finance\"\n",
      "  }\n",
      "]\n"
     ]
    }
   ],
   "source": [
    "employees = [\n",
    "    {\"emp_id\": \"E01\", \"name\": \"Alice\", \"dept\": \"HR\"},\n",
    "    {\"emp_id\": \"E02\", \"name\": \"Bob\", \"dept\": \"IT\"},\n",
    "    {\"emp_id\": \"E03\", \"name\": \"Carol\", \"dept\": \"Finance\"}\n",
    "]\n",
    "import json\n",
    "print(json.dumps(employees, indent=2))\n"
   ]
  },
  {
   "cell_type": "code",
   "execution_count": 3,
   "id": "98159f54-40a5-4290-8590-7e14848024d2",
   "metadata": {},
   "outputs": [
    {
     "name": "stdout",
     "output_type": "stream",
     "text": [
      "Laptop - ₹50000 - Available\n",
      "Mouse - ₹700 - Out of stock\n",
      "Keyboard - ₹1200 - Available\n"
     ]
    }
   ],
   "source": [
    "products = [\n",
    "    {\"product\": \"Laptop\", \"price\": 50000, \"in_stock\": True},\n",
    "    {\"product\": \"Mouse\", \"price\": 700, \"in_stock\": False},\n",
    "    {\"product\": \"Keyboard\", \"price\": 1200, \"in_stock\": True}\n",
    "]\n",
    "for p in products:\n",
    "    print(f\"{p['product']} - ₹{p['price']} - {'Available' if p['in_stock'] else 'Out of stock'}\")\n"
   ]
  },
  {
   "cell_type": "code",
   "execution_count": 5,
   "id": "ca6fc8c7-d013-4987-a979-c03d8da3193f",
   "metadata": {},
   "outputs": [
    {
     "name": "stdout",
     "output_type": "stream",
     "text": [
      "[\n",
      "  {\n",
      "    \"name\": \"Sita\",\n",
      "    \"contact\": {\n",
      "      \"email\": \"sita@example.com\",\n",
      "      \"phone\": \"9876543210\"\n",
      "    }\n",
      "  },\n",
      "  {\n",
      "    \"name\": \"Geeta\",\n",
      "    \"contact\": {\n",
      "      \"email\": \"geeta@example.com\",\n",
      "      \"phone\": \"8765432109\"\n",
      "    }\n",
      "  }\n",
      "]\n"
     ]
    }
   ],
   "source": [
    "people = [\n",
    "    {\"name\": \"Sita\", \"contact\": {\"email\": \"sita@example.com\", \"phone\": \"9876543210\"}},\n",
    "    {\"name\": \"Geeta\", \"contact\": {\"email\": \"geeta@example.com\", \"phone\": \"8765432109\"}}\n",
    "]\n",
    "print(json.dumps(people, indent=2))\n",
    "\n"
   ]
  },
  {
   "cell_type": "code",
   "execution_count": 6,
   "id": "5ddf60d1-69cd-4a96-a209-685895e166e2",
   "metadata": {},
   "outputs": [
    {
     "data": {
      "text/html": [
       "<div>\n",
       "<style scoped>\n",
       "    .dataframe tbody tr th:only-of-type {\n",
       "        vertical-align: middle;\n",
       "    }\n",
       "\n",
       "    .dataframe tbody tr th {\n",
       "        vertical-align: top;\n",
       "    }\n",
       "\n",
       "    .dataframe thead th {\n",
       "        text-align: right;\n",
       "    }\n",
       "</style>\n",
       "<table border=\"1\" class=\"dataframe\">\n",
       "  <thead>\n",
       "    <tr style=\"text-align: right;\">\n",
       "      <th></th>\n",
       "      <th>title</th>\n",
       "      <th>author</th>\n",
       "      <th>year</th>\n",
       "    </tr>\n",
       "  </thead>\n",
       "  <tbody>\n",
       "    <tr>\n",
       "      <th>0</th>\n",
       "      <td>The Alchemist</td>\n",
       "      <td>Paulo Coelho</td>\n",
       "      <td>1988</td>\n",
       "    </tr>\n",
       "    <tr>\n",
       "      <th>1</th>\n",
       "      <td>To Kill a Mockingbird</td>\n",
       "      <td>Harper Lee</td>\n",
       "      <td>1960</td>\n",
       "    </tr>\n",
       "    <tr>\n",
       "      <th>2</th>\n",
       "      <td>1984</td>\n",
       "      <td>George Orwell</td>\n",
       "      <td>1949</td>\n",
       "    </tr>\n",
       "  </tbody>\n",
       "</table>\n",
       "</div>"
      ],
      "text/plain": [
       "                   title         author  year\n",
       "0          The Alchemist   Paulo Coelho  1988\n",
       "1  To Kill a Mockingbird     Harper Lee  1960\n",
       "2                   1984  George Orwell  1949"
      ]
     },
     "execution_count": 6,
     "metadata": {},
     "output_type": "execute_result"
    }
   ],
   "source": [
    "library = [\n",
    "    {\"title\": \"The Alchemist\", \"author\": \"Paulo Coelho\", \"year\": 1988},\n",
    "    {\"title\": \"To Kill a Mockingbird\", \"author\": \"Harper Lee\", \"year\": 1960},\n",
    "    {\"title\": \"1984\", \"author\": \"George Orwell\", \"year\": 1949}\n",
    "]\n",
    "import pandas as pd\n",
    "pd.DataFrame(library)\n"
   ]
  },
  {
   "cell_type": "code",
   "execution_count": 7,
   "id": "68741b57-e3fa-4aef-936c-c4979235b93e",
   "metadata": {},
   "outputs": [
    {
     "name": "stdout",
     "output_type": "stream",
     "text": [
      "2025-07-21 → Temp: 34°C, Humidity: 60%\n",
      "2025-07-20 → Temp: 33°C, Humidity: 65%\n",
      "2025-07-19 → Temp: 32°C, Humidity: 70%\n"
     ]
    }
   ],
   "source": [
    "weather_data = [\n",
    "    {\"date\": \"2025-07-21\", \"temp\": 34, \"humidity\": 60},\n",
    "    {\"date\": \"2025-07-20\", \"temp\": 33, \"humidity\": 65},\n",
    "    {\"date\": \"2025-07-19\", \"temp\": 32, \"humidity\": 70}\n",
    "]\n",
    "for entry in weather_data:\n",
    "    print(f\"{entry['date']} → Temp: {entry['temp']}°C, Humidity: {entry['humidity']}%\")\n"
   ]
  },
  {
   "cell_type": "code",
   "execution_count": 8,
   "id": "6f634c2d-3778-4da3-b305-06145da499d7",
   "metadata": {},
   "outputs": [
    {
     "name": "stdout",
     "output_type": "stream",
     "text": [
      "[\n",
      "    {\n",
      "        \"movie\": \"Inception\",\n",
      "        \"rating\": 8.8,\n",
      "        \"year\": 2010\n",
      "    },\n",
      "    {\n",
      "        \"movie\": \"Interstellar\",\n",
      "        \"rating\": 8.6,\n",
      "        \"year\": 2014\n",
      "    },\n",
      "    {\n",
      "        \"movie\": \"The Dark Knight\",\n",
      "        \"rating\": 9.0,\n",
      "        \"year\": 2008\n",
      "    }\n",
      "]\n"
     ]
    }
   ],
   "source": [
    "movies = [\n",
    "    {\"movie\": \"Inception\", \"rating\": 8.8, \"year\": 2010},\n",
    "    {\"movie\": \"Interstellar\", \"rating\": 8.6, \"year\": 2014},\n",
    "    {\"movie\": \"The Dark Knight\", \"rating\": 9.0, \"year\": 2008}\n",
    "]\n",
    "import json\n",
    "print(json.dumps(movies, indent=4))\n"
   ]
  },
  {
   "cell_type": "code",
   "execution_count": 9,
   "id": "89a47adc-3acf-4124-8e59-5dc8b397e406",
   "metadata": {},
   "outputs": [
    {
     "data": {
      "text/html": [
       "<div>\n",
       "<style scoped>\n",
       "    .dataframe tbody tr th:only-of-type {\n",
       "        vertical-align: middle;\n",
       "    }\n",
       "\n",
       "    .dataframe tbody tr th {\n",
       "        vertical-align: top;\n",
       "    }\n",
       "\n",
       "    .dataframe thead th {\n",
       "        text-align: right;\n",
       "    }\n",
       "</style>\n",
       "<table border=\"1\" class=\"dataframe\">\n",
       "  <thead>\n",
       "    <tr style=\"text-align: right;\">\n",
       "      <th></th>\n",
       "      <th>roll_no</th>\n",
       "      <th>name</th>\n",
       "      <th>math</th>\n",
       "      <th>science</th>\n",
       "    </tr>\n",
       "  </thead>\n",
       "  <tbody>\n",
       "    <tr>\n",
       "      <th>0</th>\n",
       "      <td>1</td>\n",
       "      <td>Ajay</td>\n",
       "      <td>89</td>\n",
       "      <td>92</td>\n",
       "    </tr>\n",
       "    <tr>\n",
       "      <th>1</th>\n",
       "      <td>2</td>\n",
       "      <td>Neha</td>\n",
       "      <td>95</td>\n",
       "      <td>96</td>\n",
       "    </tr>\n",
       "    <tr>\n",
       "      <th>2</th>\n",
       "      <td>3</td>\n",
       "      <td>Rohit</td>\n",
       "      <td>78</td>\n",
       "      <td>85</td>\n",
       "    </tr>\n",
       "  </tbody>\n",
       "</table>\n",
       "</div>"
      ],
      "text/plain": [
       "   roll_no   name  math  science\n",
       "0        1   Ajay    89       92\n",
       "1        2   Neha    95       96\n",
       "2        3  Rohit    78       85"
      ]
     },
     "execution_count": 9,
     "metadata": {},
     "output_type": "execute_result"
    }
   ],
   "source": [
    "results = [\n",
    "    {\"roll_no\": 1, \"name\": \"Ajay\", \"math\": 89, \"science\": 92},\n",
    "    {\"roll_no\": 2, \"name\": \"Neha\", \"math\": 95, \"science\": 96},\n",
    "    {\"roll_no\": 3, \"name\": \"Rohit\", \"math\": 78, \"science\": 85}\n",
    "]\n",
    "pd.DataFrame(results)\n"
   ]
  },
  {
   "cell_type": "code",
   "execution_count": 10,
   "id": "12bab8bc-ef46-4cd3-9da7-c40c6d9c7043",
   "metadata": {},
   "outputs": [
    {
     "name": "stdout",
     "output_type": "stream",
     "text": [
      "Kumar has ₹20000 in account 123456\n",
      "Radha has ₹55000 in account 654321\n",
      "Divya has ₹15000 in account 789012\n"
     ]
    }
   ],
   "source": [
    "accounts = [\n",
    "    {\"account_no\": \"123456\", \"name\": \"Kumar\", \"balance\": 20000},\n",
    "    {\"account_no\": \"654321\", \"name\": \"Radha\", \"balance\": 55000},\n",
    "    {\"account_no\": \"789012\", \"name\": \"Divya\", \"balance\": 15000}\n",
    "]\n",
    "for acc in accounts:\n",
    "    print(f\"{acc['name']} has ₹{acc['balance']} in account {acc['account_no']}\")\n"
   ]
  },
  {
   "cell_type": "code",
   "execution_count": 11,
   "id": "e55060f1-c9fa-4807-b06b-fe9930a4d9e1",
   "metadata": {},
   "outputs": [
    {
     "name": "stdout",
     "output_type": "stream",
     "text": [
      "[0, 1, 2, 3, 4, 5, 6, 7, 8, 9, 10, 11, 12, 13, 14, 15, 16, 17, 18, 19]\n"
     ]
    }
   ],
   "source": [
    "arr = list(range(20))\n",
    "print(arr)"
   ]
  },
  {
   "cell_type": "code",
   "execution_count": 12,
   "id": "84160002-ba39-451a-a42f-867eb4252317",
   "metadata": {},
   "outputs": [
    {
     "name": "stdout",
     "output_type": "stream",
     "text": [
      "[0, 1, 2, 3, 4, 5, 6, 7, 8, 9, 10, 11, 12, 13, 14, 15]\n"
     ]
    }
   ],
   "source": [
    "arr = list(range(16))\n",
    "print(arr)"
   ]
  },
  {
   "cell_type": "code",
   "execution_count": 13,
   "id": "2df906cc-7c01-4299-93d6-b3366502ef25",
   "metadata": {},
   "outputs": [
    {
     "name": "stdout",
     "output_type": "stream",
     "text": [
      "[0, 1, 2, 3, 4, 5, 6, 7, 8, 9, 10, 11, 12, 13, 14, 15, 16, 17, 18, 19, 20, 21, 22, 23, 24, 25, 26, 27, 28, 29]\n"
     ]
    }
   ],
   "source": [
    "arr = list(range(30))\n",
    "print(arr)"
   ]
  },
  {
   "cell_type": "code",
   "execution_count": 14,
   "id": "21a8d12b-2770-4aed-a0d9-16c95ea1656d",
   "metadata": {},
   "outputs": [
    {
     "name": "stdout",
     "output_type": "stream",
     "text": [
      "[0, 1, 2, 3, 4, 5, 6, 7, 8, 9, 10, 11, 12, 13, 14, 15, 16, 17, 18, 19, 20, 21, 22, 23, 24, 25, 26, 27, 28, 29, 30, 31, 32, 33, 34, 35, 36, 37, 38, 39, 40, 41, 42, 43, 44, 45]\n"
     ]
    }
   ],
   "source": [
    "arr = list(range(46))\n",
    "print(arr)"
   ]
  },
  {
   "cell_type": "code",
   "execution_count": 15,
   "id": "cef29298-fddb-4e90-a357-e1dd5402a573",
   "metadata": {},
   "outputs": [
    {
     "name": "stdout",
     "output_type": "stream",
     "text": [
      "[0, 1, 2, 3, 4, 5, 6, 7, 8, 9, 10, 11, 12, 13, 14, 15, 16, 17, 18, 19, 20, 21, 22, 23, 24, 25, 26, 27, 28, 29, 30, 31, 32, 33, 34, 35, 36, 37, 38, 39, 40, 41, 42, 43, 44, 45, 46, 47, 48, 49, 50, 51, 52, 53, 54]\n"
     ]
    }
   ],
   "source": [
    "arr = list(range(55))\n",
    "print(arr)"
   ]
  },
  {
   "cell_type": "code",
   "execution_count": 16,
   "id": "35c8808f-cab6-4632-ba41-6112c51d1f3e",
   "metadata": {},
   "outputs": [
    {
     "name": "stdout",
     "output_type": "stream",
     "text": [
      "[0, 1, 4, 9, 16, 25, 36, 49, 64, 81, 100, 121, 144, 169, 196, 225, 256]\n"
     ]
    }
   ],
   "source": [
    "arr = [x**2 for x in range(17)]\n",
    "print(arr)"
   ]
  },
  {
   "cell_type": "code",
   "execution_count": 17,
   "id": "656e6e9b-d8be-4eed-b800-856bbcad4302",
   "metadata": {},
   "outputs": [
    {
     "name": "stdout",
     "output_type": "stream",
     "text": [
      "[0, 1, 4, 9, 16, 25, 36, 49, 64, 81]\n"
     ]
    }
   ],
   "source": [
    "arr = [x**2 for x in range(10)]\n",
    "print(arr)"
   ]
  },
  {
   "cell_type": "code",
   "execution_count": 18,
   "id": "7015dace-8f6c-41a5-ba91-20e4c78025b4",
   "metadata": {},
   "outputs": [
    {
     "name": "stdout",
     "output_type": "stream",
     "text": [
      "[0, 1, 4, 9, 16, 25, 36, 49, 64, 81, 100, 121, 144, 169, 196, 225, 256, 289, 324, 361, 400, 441, 484, 529, 576, 625, 676, 729, 784, 841, 900, 961, 1024, 1089, 1156, 1225, 1296, 1369, 1444, 1521, 1600, 1681, 1764, 1849, 1936, 2025, 2116, 2209, 2304, 2401, 2500, 2601, 2704, 2809, 2916, 3025, 3136, 3249, 3364, 3481, 3600, 3721, 3844, 3969, 4096, 4225, 4356, 4489, 4624, 4761, 4900, 5041, 5184, 5329, 5476, 5625, 5776, 5929, 6084, 6241, 6400, 6561, 6724, 6889, 7056, 7225, 7396, 7569, 7744, 7921, 8100, 8281, 8464, 8649, 8836, 9025, 9216, 9409, 9604, 9801, 10000, 10201, 10404, 10609, 10816, 11025, 11236, 11449, 11664, 11881, 12100, 12321, 12544, 12769, 12996, 13225, 13456, 13689, 13924, 14161, 14400, 14641, 14884, 15129, 15376, 15625, 15876, 16129, 16384, 16641, 16900, 17161, 17424, 17689, 17956, 18225, 18496, 18769, 19044, 19321, 19600, 19881, 20164, 20449, 20736, 21025, 21316, 21609, 21904, 22201, 22500, 22801, 23104, 23409, 23716, 24025, 24336, 24649, 24964, 25281, 25600, 25921, 26244, 26569, 26896, 27225, 27556, 27889, 28224, 28561, 28900, 29241, 29584, 29929, 30276, 30625, 30976, 31329, 31684, 32041, 32400, 32761, 33124, 33489, 33856, 34225, 34596, 34969, 35344, 35721, 36100, 36481, 36864, 37249, 37636, 38025, 38416, 38809, 39204, 39601, 40000, 40401, 40804, 41209, 41616, 42025, 42436, 42849, 43264, 43681, 44100, 44521, 44944, 45369, 45796, 46225, 46656, 47089, 47524, 47961, 48400, 48841, 49284, 49729, 50176, 50625, 51076, 51529, 51984, 52441, 52900, 53361, 53824, 54289, 54756, 55225, 55696, 56169, 56644, 57121, 57600, 58081, 58564, 59049, 59536, 60025, 60516, 61009, 61504, 62001, 62500, 63001, 63504, 64009, 64516, 65025, 65536, 66049, 66564, 67081, 67600, 68121, 68644, 69169, 69696, 70225, 70756, 71289, 71824, 72361, 72900, 73441, 73984, 74529, 75076, 75625, 76176, 76729, 77284, 77841, 78400, 78961, 79524, 80089, 80656, 81225, 81796, 82369, 82944, 83521, 84100, 84681, 85264, 85849, 86436, 87025, 87616, 88209, 88804, 89401, 90000, 90601, 91204, 91809, 92416, 93025, 93636, 94249, 94864, 95481, 96100, 96721, 97344, 97969, 98596, 99225, 99856, 100489, 101124, 101761, 102400, 103041, 103684, 104329, 104976, 105625, 106276, 106929, 107584, 108241, 108900, 109561, 110224, 110889, 111556, 112225, 112896, 113569, 114244, 114921, 115600, 116281, 116964, 117649, 118336, 119025, 119716, 120409, 121104, 121801, 122500, 123201, 123904, 124609, 125316, 126025, 126736, 127449, 128164, 128881, 129600, 130321, 131044, 131769, 132496, 133225, 133956, 134689, 135424, 136161, 136900, 137641, 138384, 139129, 139876, 140625, 141376, 142129, 142884, 143641, 144400, 145161, 145924, 146689, 147456, 148225, 148996, 149769, 150544, 151321, 152100, 152881, 153664, 154449, 155236, 156025, 156816, 157609, 158404, 159201, 160000, 160801, 161604, 162409, 163216, 164025, 164836, 165649, 166464, 167281, 168100, 168921, 169744, 170569, 171396, 172225, 173056, 173889, 174724, 175561, 176400, 177241, 178084, 178929, 179776, 180625, 181476, 182329, 183184, 184041, 184900, 185761, 186624, 187489, 188356, 189225, 190096, 190969, 191844, 192721, 193600, 194481, 195364, 196249, 197136, 198025, 198916, 199809, 200704, 201601, 202500, 203401, 204304, 205209, 206116, 207025, 207936, 208849, 209764, 210681, 211600, 212521, 213444, 214369, 215296, 216225, 217156, 218089, 219024, 219961, 220900, 221841, 222784, 223729, 224676, 225625, 226576, 227529, 228484, 229441, 230400, 231361, 232324, 233289, 234256, 235225, 236196, 237169, 238144, 239121, 240100, 241081, 242064, 243049, 244036, 245025, 246016, 247009, 248004, 249001]\n"
     ]
    }
   ],
   "source": [
    "arr = [x**2 for x in range(500)]\n",
    "print(arr)"
   ]
  },
  {
   "cell_type": "code",
   "execution_count": 19,
   "id": "97ed38f0-149f-485e-837c-39cc753d1ac4",
   "metadata": {},
   "outputs": [
    {
     "name": "stdout",
     "output_type": "stream",
     "text": [
      "[0, 1, 4, 9, 16, 25, 36, 49, 64, 81, 100, 121, 144, 169, 196, 225, 256, 289, 324, 361, 400, 441, 484, 529, 576, 625, 676, 729, 784, 841, 900, 961, 1024, 1089, 1156, 1225, 1296, 1369, 1444, 1521, 1600, 1681, 1764, 1849, 1936, 2025, 2116, 2209, 2304, 2401]\n"
     ]
    }
   ],
   "source": [
    "arr = [x**2 for x in range(50)]\n",
    "print(arr)"
   ]
  },
  {
   "cell_type": "code",
   "execution_count": 20,
   "id": "ad6e4bd8-8e72-4fdd-b990-008ebb51cb01",
   "metadata": {},
   "outputs": [
    {
     "name": "stdout",
     "output_type": "stream",
     "text": [
      "[0, 2, 4, 6, 8, 10, 12, 14, 16, 18, 20]\n"
     ]
    }
   ],
   "source": [
    "\n",
    "arr = [x for x in range(21) if x % 2 == 0]\n",
    "print(arr)"
   ]
  },
  {
   "cell_type": "code",
   "execution_count": 21,
   "id": "ab299982-9d13-4aa4-9680-77450a171240",
   "metadata": {},
   "outputs": [
    {
     "name": "stdout",
     "output_type": "stream",
     "text": [
      "[0, 2, 4, 6, 8, 10, 12, 14, 16, 18, 20]\n"
     ]
    }
   ],
   "source": [
    "\n",
    "arr = [x for x in range(22) if x % 2 == 0]\n",
    "print(arr)"
   ]
  },
  {
   "cell_type": "code",
   "execution_count": 22,
   "id": "393af762-132a-499e-8418-82e297d7154f",
   "metadata": {},
   "outputs": [
    {
     "name": "stdout",
     "output_type": "stream",
     "text": [
      "[0, 2, 4, 6, 8, 10, 12, 14, 16, 18, 20, 22]\n"
     ]
    }
   ],
   "source": [
    "\n",
    "arr = [x for x in range(24) if x % 2 == 0]\n",
    "print(arr)"
   ]
  },
  {
   "cell_type": "code",
   "execution_count": 23,
   "id": "302d3853-8f8c-49de-b8dd-e390490e0859",
   "metadata": {},
   "outputs": [
    {
     "name": "stdout",
     "output_type": "stream",
     "text": [
      "[0, 2, 4, 6, 8, 10, 12, 14, 16, 18, 20, 22, 24, 26, 28, 30, 32, 34, 36, 38, 40, 42, 44, 46, 48]\n"
     ]
    }
   ],
   "source": [
    "\n",
    "arr = [x for x in range(50) if x % 2 == 0]\n",
    "print(arr)"
   ]
  },
  {
   "cell_type": "code",
   "execution_count": 24,
   "id": "786d4993-23d0-474c-99da-5ac62254e23c",
   "metadata": {},
   "outputs": [
    {
     "name": "stdout",
     "output_type": "stream",
     "text": [
      "[0, 2, 4, 6, 8, 10, 12, 14, 16, 18, 20, 22, 24, 26, 28, 30, 32, 34, 36, 38, 40, 42, 44, 46, 48, 50, 52, 54, 56, 58]\n"
     ]
    }
   ],
   "source": [
    "\n",
    "arr = [x for x in range(60) if x % 2 == 0]\n",
    "print(arr)"
   ]
  },
  {
   "cell_type": "code",
   "execution_count": 25,
   "id": "60cd81a2-91ec-4ac0-a994-89e69eca1ab1",
   "metadata": {},
   "outputs": [
    {
     "name": "stdout",
     "output_type": "stream",
     "text": [
      "a\n",
      "d\n"
     ]
    }
   ],
   "source": [
    "arr = ['a', 'b', 'c', 'd']\n",
    "print(arr[0])\n",
    "print(arr[-1])"
   ]
  },
  {
   "cell_type": "code",
   "execution_count": 26,
   "id": "4f6fe44e-b9c1-4f70-8a7c-a52278820f63",
   "metadata": {},
   "outputs": [
    {
     "name": "stdout",
     "output_type": "stream",
     "text": [
      "a\n",
      "d\n"
     ]
    }
   ],
   "source": [
    "arr = ['a', 'b', 'c', 'd']\n",
    "print(arr[0])\n",
    "print(arr[-1])"
   ]
  },
  {
   "cell_type": "code",
   "execution_count": 27,
   "id": "3b226f59-88c8-401b-a3c6-056e6a98a165",
   "metadata": {},
   "outputs": [
    {
     "name": "stdout",
     "output_type": "stream",
     "text": [
      "[1, 2, 3, 4, 5, 6]\n"
     ]
    }
   ],
   "source": [
    "arr = [1, 2, 3, 4, 5]\n",
    "arr.append(6)\n",
    "print(arr)"
   ]
  },
  {
   "cell_type": "code",
   "execution_count": 28,
   "id": "94982d6f-ab92-49b5-b5b2-05d0898f7dc0",
   "metadata": {},
   "outputs": [
    {
     "name": "stdout",
     "output_type": "stream",
     "text": [
      "[10, 20, 30]\n"
     ]
    }
   ],
   "source": [
    "arr = [10, 20, 30, 40]\n",
    "arr.pop()\n",
    "print(arr)"
   ]
  },
  {
   "cell_type": "code",
   "execution_count": 29,
   "id": "ac448496-f3c2-4825-ad39-7c1ce0f44c19",
   "metadata": {},
   "outputs": [
    {
     "name": "stdout",
     "output_type": "stream",
     "text": [
      "[10, 20, 30, 40]\n"
     ]
    }
   ],
   "source": [
    "arr = [10, 20, 30, 40,50]\n",
    "arr.pop()\n",
    "print(arr)"
   ]
  },
  {
   "cell_type": "code",
   "execution_count": 30,
   "id": "a8a67f63-18fe-4fdf-9e25-23e235267891",
   "metadata": {},
   "outputs": [
    {
     "name": "stdout",
     "output_type": "stream",
     "text": [
      "[10, 20, 30, 40]\n"
     ]
    }
   ],
   "source": [
    "arr = [10, 20, 30, 40 ,50]\n",
    "arr.pop()\n",
    "print(arr)"
   ]
  },
  {
   "cell_type": "code",
   "execution_count": 31,
   "id": "fb42b5ac-2838-4000-b335-306330dc7def",
   "metadata": {},
   "outputs": [
    {
     "name": "stdout",
     "output_type": "stream",
     "text": [
      "[10, 20, 30]\n"
     ]
    }
   ],
   "source": [
    "arr = [10, 20, 30, 40]\n",
    "arr.pop()\n",
    "print(arr)"
   ]
  },
  {
   "cell_type": "code",
   "execution_count": 32,
   "id": "3ecaf27c-182f-4448-8553-ba870582b7f1",
   "metadata": {},
   "outputs": [
    {
     "name": "stdout",
     "output_type": "stream",
     "text": [
      "[10, 20, 30]\n"
     ]
    }
   ],
   "source": [
    "arr = [10, 20, 30, 40]\n",
    "arr.pop()\n",
    "print(arr)"
   ]
  },
  {
   "cell_type": "code",
   "execution_count": 33,
   "id": "9dd6481f-c337-4a95-93c8-4dfa7e5a4ac5",
   "metadata": {},
   "outputs": [
    {
     "name": "stdout",
     "output_type": "stream",
     "text": [
      "[10, 20, 30]\n"
     ]
    }
   ],
   "source": [
    "arr = [10, 20, 30, 40]\n",
    "arr.pop()\n",
    "print(arr)"
   ]
  },
  {
   "cell_type": "code",
   "execution_count": 34,
   "id": "22068014-b0ac-43a7-9244-f3775d10587d",
   "metadata": {},
   "outputs": [
    {
     "name": "stdout",
     "output_type": "stream",
     "text": [
      "[10, 20, 30]\n"
     ]
    }
   ],
   "source": [
    "arr = [10, 20, 30, 40]\n",
    "arr.pop()\n",
    "print(arr)"
   ]
  },
  {
   "cell_type": "code",
   "execution_count": 35,
   "id": "50fee00f-0c2d-4c4b-b98a-3d506b602257",
   "metadata": {},
   "outputs": [
    {
     "name": "stdout",
     "output_type": "stream",
     "text": [
      "[10, 20, 30]\n"
     ]
    }
   ],
   "source": [
    "arr = [10, 20, 30, 40]\n",
    "arr.pop()\n",
    "print(arr)"
   ]
  },
  {
   "cell_type": "code",
   "execution_count": 36,
   "id": "ff4018eb-4f9b-4a6e-83fb-5a1dbba60f55",
   "metadata": {},
   "outputs": [
    {
     "name": "stdout",
     "output_type": "stream",
     "text": [
      "[1, 100, 2, 3]\n"
     ]
    }
   ],
   "source": [
    "arr = [1, 2, 3]\n",
    "arr.insert(1, 100)\n",
    "print(arr)"
   ]
  },
  {
   "cell_type": "code",
   "execution_count": 37,
   "id": "eb007943-0554-461a-a94b-4b81816fa80b",
   "metadata": {},
   "outputs": [
    {
     "name": "stdout",
     "output_type": "stream",
     "text": [
      "[1, 100, 2, 3, 4]\n"
     ]
    }
   ],
   "source": [
    "arr = [1, 2, 3,4]\n",
    "arr.insert(1, 100)\n",
    "print(arr)"
   ]
  },
  {
   "cell_type": "code",
   "execution_count": 38,
   "id": "01212adc-4c32-4f53-a2a5-1f098d87ec3a",
   "metadata": {},
   "outputs": [
    {
     "name": "stdout",
     "output_type": "stream",
     "text": [
      "[1, 50, 2, 3]\n"
     ]
    }
   ],
   "source": [
    "arr = [1, 2, 3]\n",
    "arr.insert(1, 50)\n",
    "print(arr)"
   ]
  },
  {
   "cell_type": "code",
   "execution_count": 39,
   "id": "6de19921-439d-4e7f-9e78-256f1b2be154",
   "metadata": {},
   "outputs": [
    {
     "name": "stdout",
     "output_type": "stream",
     "text": [
      "[1, 200, 2, 3]\n"
     ]
    }
   ],
   "source": [
    "arr = [1, 2, 3]\n",
    "arr.insert(1, 200)\n",
    "print(arr)"
   ]
  },
  {
   "cell_type": "code",
   "execution_count": 40,
   "id": "87f9df5c-e301-41eb-b9be-eb5a4c33a11c",
   "metadata": {},
   "outputs": [
    {
     "name": "stdout",
     "output_type": "stream",
     "text": [
      "[1, 500, 2, 3]\n"
     ]
    }
   ],
   "source": [
    "arr = [1, 2, 3]\n",
    "arr.insert(1, 500)\n",
    "print(arr)"
   ]
  },
  {
   "cell_type": "code",
   "execution_count": 41,
   "id": "85dd3b3b-f4b5-4713-ba4e-aa82f5db7610",
   "metadata": {},
   "outputs": [
    {
     "name": "stdout",
     "output_type": "stream",
     "text": [
      "[1, 10, 2, 3]\n"
     ]
    }
   ],
   "source": [
    "arr = [1, 2, 3]\n",
    "arr.insert(1, 10)\n",
    "print(arr)"
   ]
  },
  {
   "cell_type": "code",
   "execution_count": 42,
   "id": "e03978d1-61b6-4af0-8634-d5f3afbb79f3",
   "metadata": {},
   "outputs": [
    {
     "name": "stdout",
     "output_type": "stream",
     "text": [
      "[2, 3, 4]\n"
     ]
    }
   ],
   "source": [
    "arr = [1, 2, 3, 4, 5]\n",
    "print(arr[1:4])"
   ]
  },
  {
   "cell_type": "code",
   "execution_count": 43,
   "id": "217d4ae0-97cb-4b92-98c6-3bb013bedd60",
   "metadata": {},
   "outputs": [
    {
     "name": "stdout",
     "output_type": "stream",
     "text": [
      "[2, 3, 4, 5]\n"
     ]
    }
   ],
   "source": [
    "arr = [1, 2, 3, 4, 5]\n",
    "print(arr[1:5])"
   ]
  },
  {
   "cell_type": "code",
   "execution_count": 44,
   "id": "e765c30c-30d6-403e-bc7e-3d9dfa419a07",
   "metadata": {},
   "outputs": [
    {
     "name": "stdout",
     "output_type": "stream",
     "text": [
      "[2, 3, 4, 5]\n"
     ]
    }
   ],
   "source": [
    "arr = [1, 2, 3, 4, 5]\n",
    "print(arr[1:10])"
   ]
  },
  {
   "cell_type": "code",
   "execution_count": 45,
   "id": "042b04e7-a5e5-449a-9a28-06450a5a12f9",
   "metadata": {},
   "outputs": [
    {
     "name": "stdout",
     "output_type": "stream",
     "text": [
      "[2, 3]\n"
     ]
    }
   ],
   "source": [
    "arr = [1, 2, 3, 4, 5]\n",
    "print(arr[1:3])"
   ]
  },
  {
   "cell_type": "code",
   "execution_count": 46,
   "id": "86b4e59e-d995-4552-8a20-2ff26d5bc123",
   "metadata": {},
   "outputs": [
    {
     "name": "stdout",
     "output_type": "stream",
     "text": [
      "[2]\n"
     ]
    }
   ],
   "source": [
    "arr = [1, 2, 3, 4, 5]\n",
    "print(arr[1:2])"
   ]
  },
  {
   "cell_type": "code",
   "execution_count": 47,
   "id": "1707743c-19a8-4364-a01b-c7155e6dacc7",
   "metadata": {},
   "outputs": [
    {
     "name": "stdout",
     "output_type": "stream",
     "text": [
      "[2, 3, 4]\n"
     ]
    }
   ],
   "source": [
    "arr = [1, 2, 3, 4, 5,6,7]\n",
    "print(arr[1:4])"
   ]
  },
  {
   "cell_type": "code",
   "execution_count": 48,
   "id": "3f9c0c96-b68c-4a23-ba94-81f726e477dc",
   "metadata": {},
   "outputs": [
    {
     "name": "stdout",
     "output_type": "stream",
     "text": [
      "[2, 3, 4, 5]\n"
     ]
    }
   ],
   "source": [
    "arr = [1, 2, 3, 4, 5]\n",
    "print(arr[1:5])"
   ]
  },
  {
   "cell_type": "code",
   "execution_count": 49,
   "id": "cf359ba4-f7f3-4315-8b1d-54b13c82cece",
   "metadata": {},
   "outputs": [
    {
     "name": "stdout",
     "output_type": "stream",
     "text": [
      "[2, 3, 4]\n"
     ]
    }
   ],
   "source": [
    "arr = [1, 2, 3, 4, 5,6,7,8,9,10]\n",
    "print(arr[1:4])"
   ]
  },
  {
   "cell_type": "code",
   "execution_count": 55,
   "id": "f8e83425-2457-42a4-9678-5340dae52e81",
   "metadata": {},
   "outputs": [
    {
     "name": "stdout",
     "output_type": "stream",
     "text": [
      "3\n"
     ]
    }
   ],
   "source": [
    "# Cell 86 - Python Arrays\n",
    "arr = [1, [2, 3], [4, 5]]\n",
    "print(arr[1][1])"
   ]
  },
  {
   "cell_type": "code",
   "execution_count": 56,
   "id": "4a6266f3-1594-4757-a455-fffcfcecd694",
   "metadata": {},
   "outputs": [
    {
     "name": "stdout",
     "output_type": "stream",
     "text": [
      "3\n"
     ]
    }
   ],
   "source": [
    "arr = [1, [2, 3], [4, 5]]\n",
    "print(arr[1][1])"
   ]
  },
  {
   "cell_type": "code",
   "execution_count": 57,
   "id": "763a232f-5675-4127-a4a6-447db9c9ab54",
   "metadata": {},
   "outputs": [
    {
     "name": "stdout",
     "output_type": "stream",
     "text": [
      "45\n"
     ]
    }
   ],
   "source": [
    "arr = [x for x in range(10)]\n",
    "print(sum(arr))"
   ]
  },
  {
   "cell_type": "code",
   "execution_count": 58,
   "id": "db351568-ffd2-4d61-b02b-676db952a7d7",
   "metadata": {},
   "outputs": [
    {
     "name": "stdout",
     "output_type": "stream",
     "text": [
      "{'0': 0, '1': 1, '2': 4}\n"
     ]
    }
   ],
   "source": [
    "d = {str(x): x**2 for x in range(3)}\n",
    "print(d)"
   ]
  },
  {
   "cell_type": "code",
   "execution_count": 59,
   "id": "4821291f-4031-4c34-ba65-e03bbf59bc2f",
   "metadata": {},
   "outputs": [
    {
     "name": "stdout",
     "output_type": "stream",
     "text": [
      "{'0': 0, '1': 1, '2': 4, '3': 9}\n"
     ]
    }
   ],
   "source": [
    "d = {str(x): x**2 for x in range(4)}\n",
    "print(d)"
   ]
  },
  {
   "cell_type": "code",
   "execution_count": 60,
   "id": "fce1acf6-de4c-4460-b8c9-5005f054cf0a",
   "metadata": {},
   "outputs": [
    {
     "name": "stdout",
     "output_type": "stream",
     "text": [
      "{'0': 0, '1': 1, '2': 4, '3': 9, '4': 16, '5': 25, '6': 36}\n"
     ]
    }
   ],
   "source": [
    "d = {str(x): x**2 for x in range(7)}\n",
    "print(d)"
   ]
  },
  {
   "cell_type": "code",
   "execution_count": 61,
   "id": "b9c8d059-fd74-4921-a689-8598057a8ae7",
   "metadata": {},
   "outputs": [
    {
     "name": "stdout",
     "output_type": "stream",
     "text": [
      "{'0': 0, '1': 1, '2': 4, '3': 9, '4': 16, '5': 25, '6': 36, '7': 49, '8': 64}\n"
     ]
    }
   ],
   "source": [
    "d = {str(x): x**2 for x in range(9)}\n",
    "print(d)"
   ]
  },
  {
   "cell_type": "code",
   "execution_count": 64,
   "id": "3820e3db-4d79-46c6-97d4-ab91b1ebc15d",
   "metadata": {},
   "outputs": [
    {
     "name": "stdout",
     "output_type": "stream",
     "text": [
      "Alice\n"
     ]
    }
   ],
   "source": [
    "d = {'name': 'Alice', 'age': 25}\n",
    "print(d['name'])"
   ]
  },
  {
   "cell_type": "code",
   "execution_count": 66,
   "id": "d93eb5ee-6b2d-40d4-88b4-2d623bc858be",
   "metadata": {},
   "outputs": [
    {
     "name": "stdout",
     "output_type": "stream",
     "text": [
      "25\n"
     ]
    }
   ],
   "source": [
    "d = {'name': 'Alice', 'age': 25}\n",
    "print(d['age'])"
   ]
  },
  {
   "cell_type": "code",
   "execution_count": 67,
   "id": "5996907f-15dc-4740-b279-e266b362ab88",
   "metadata": {},
   "outputs": [
    {
     "name": "stdout",
     "output_type": "stream",
     "text": [
      "Alice\n"
     ]
    }
   ],
   "source": [
    "d = {'name': 'Alice', 'age': 25}\n",
    "print(d['name'])"
   ]
  },
  {
   "cell_type": "code",
   "execution_count": 68,
   "id": "5eacaaaa-35a3-44a6-9583-da3dc10ddd32",
   "metadata": {},
   "outputs": [
    {
     "name": "stdout",
     "output_type": "stream",
     "text": [
      "Alice\n"
     ]
    }
   ],
   "source": [
    "d = {'name': 'Alice', 'age': 25}\n",
    "print(d['name'])"
   ]
  },
  {
   "cell_type": "code",
   "execution_count": 69,
   "id": "60454141-2e27-48f2-b438-cd11735f8e3f",
   "metadata": {},
   "outputs": [
    {
     "name": "stdout",
     "output_type": "stream",
     "text": [
      "{'a': 1, 'b': 2, 'c': 3}\n"
     ]
    }
   ],
   "source": [
    "d = {'a': 1, 'b': 2}\n",
    "d['c'] = 3\n",
    "print(d)"
   ]
  },
  {
   "cell_type": "code",
   "execution_count": 70,
   "id": "54f0d0c0-deaf-40d8-a884-dbcfdc7f3e0a",
   "metadata": {},
   "outputs": [
    {
     "name": "stdout",
     "output_type": "stream",
     "text": [
      "{'a': 1, 'b': 2, 'c': 3}\n"
     ]
    }
   ],
   "source": [
    "d = {'a': 1, 'b': 2}\n",
    "d['c'] = 3\n",
    "print(d)"
   ]
  },
  {
   "cell_type": "code",
   "execution_count": 71,
   "id": "da22b77e-9a49-4866-a5a4-a5545d0ff271",
   "metadata": {},
   "outputs": [
    {
     "name": "stdout",
     "output_type": "stream",
     "text": [
      "{'a': 1, 'b': 2, 'c': 3}\n"
     ]
    }
   ],
   "source": [
    "\n",
    "d = {'a': 1, 'b': 2}\n",
    "d['c'] = 3\n",
    "print(d)\n",
    "\n",
    "\n"
   ]
  },
  {
   "cell_type": "code",
   "execution_count": 72,
   "id": "955cbb47-3b94-402e-8a32-90507208f7f6",
   "metadata": {},
   "outputs": [
    {
     "name": "stdout",
     "output_type": "stream",
     "text": [
      "{'a': 1, 'b': 2, 'c': 3}\n"
     ]
    }
   ],
   "source": [
    "d = {'a': 1, 'b': 2}\n",
    "d['c'] = 3\n",
    "print(d)"
   ]
  },
  {
   "cell_type": "code",
   "execution_count": 74,
   "id": "8cf6ffe7-a804-4e58-bc2f-c0536b2985cb",
   "metadata": {},
   "outputs": [
    {
     "name": "stdout",
     "output_type": "stream",
     "text": [
      "['x', 'y']\n"
     ]
    }
   ],
   "source": [
    "d = {'x': 10, 'y': 20}\n",
    "print(list(d.keys()))"
   ]
  },
  {
   "cell_type": "code",
   "execution_count": 75,
   "id": "3e0af2c4-b737-46e7-a1c9-c0fc49fafe78",
   "metadata": {},
   "outputs": [
    {
     "name": "stdout",
     "output_type": "stream",
     "text": [
      "['x', 'y']\n"
     ]
    }
   ],
   "source": [
    "d = {'x': 10, 'y': 20}\n",
    "print(list(d.keys()))"
   ]
  },
  {
   "cell_type": "code",
   "execution_count": 76,
   "id": "b432523b-b6ce-42b9-8b8b-a7555a6f1eca",
   "metadata": {},
   "outputs": [
    {
     "name": "stdout",
     "output_type": "stream",
     "text": [
      "[('x', 10), ('y', 20)]\n"
     ]
    }
   ],
   "source": [
    "d = {'x': 10, 'y': 20}\n",
    "print(list(d.items()))"
   ]
  },
  {
   "cell_type": "code",
   "execution_count": 77,
   "id": "5abf7599-d428-4a3e-a9d5-7bb7b7602d21",
   "metadata": {},
   "outputs": [
    {
     "name": "stdout",
     "output_type": "stream",
     "text": [
      "[('x', 10), ('y', 20)]\n"
     ]
    }
   ],
   "source": [
    "d = {'x': 10, 'y': 20}\n",
    "print(list(d.items()))"
   ]
  },
  {
   "cell_type": "code",
   "execution_count": 78,
   "id": "738737e5-bb8a-44c9-9808-1b580622e6dc",
   "metadata": {},
   "outputs": [
    {
     "name": "stdout",
     "output_type": "stream",
     "text": [
      "[('x', 10), ('y', 20)]\n"
     ]
    }
   ],
   "source": [
    "d = {'x': 10, 'y': 20}\n",
    "print(list(d.items()))"
   ]
  },
  {
   "cell_type": "code",
   "execution_count": 79,
   "id": "104638b8-ade5-4152-ab08-2f3ed769ff75",
   "metadata": {},
   "outputs": [
    {
     "name": "stdout",
     "output_type": "stream",
     "text": [
      "{'a': 1, 'b': 2}\n"
     ]
    }
   ],
   "source": [
    "d1 = {'a': 1}\n",
    "d2 = {'b': 2}\n",
    "d1.update(d2)\n",
    "print(d1)"
   ]
  },
  {
   "cell_type": "code",
   "execution_count": 83,
   "id": "0c2e59ff-cee6-4806-89bc-15bc6105039f",
   "metadata": {},
   "outputs": [
    {
     "name": "stdout",
     "output_type": "stream",
     "text": [
      "Ravi scored 90\n",
      "Priya scored 85\n",
      "Aman scored 78\n"
     ]
    }
   ],
   "source": [
    "students = [\n",
    "    (\"Ravi\", 90),\n",
    "    (\"Priya\", 85),\n",
    "    (\"Aman\", 78)\n",
    "]\n",
    "\n",
    "for name, marks in students:\n",
    "    print(f\"{name} scored {marks}\")\n"
   ]
  },
  {
   "cell_type": "code",
   "execution_count": 84,
   "id": "cbb52020-5ba7-4188-8f8f-aabde88f193c",
   "metadata": {},
   "outputs": [
    {
     "name": "stdout",
     "output_type": "stream",
     "text": [
      "(2002, 5, 23)\n"
     ]
    }
   ],
   "source": [
    "student = {\n",
    "    \"name\": \"Kiran\",\n",
    "    \"dob\": (2002, 5, 23),  # (year, month, day)\n",
    "    \"marks\": (89, 92, 85)\n",
    "}\n",
    "print(student[\"dob\"])\n"
   ]
  },
  {
   "cell_type": "code",
   "execution_count": 85,
   "id": "96c92c82-0438-4922-9b0d-5ce522e45b3d",
   "metadata": {},
   "outputs": [
    {
     "name": "stdout",
     "output_type": "stream",
     "text": [
      "x=0, y=0\n",
      "x=1, y=2\n",
      "x=3, y=4\n",
      "x=5, y=6\n"
     ]
    }
   ],
   "source": [
    "coordinates = [\n",
    "    (0, 0),\n",
    "    (1, 2),\n",
    "    (3, 4),\n",
    "    (5, 6)\n",
    "]\n",
    "\n",
    "for x, y in coordinates:\n",
    "    print(f\"x={x}, y={y}\")\n"
   ]
  },
  {
   "cell_type": "code",
   "execution_count": 86,
   "id": "0714b6cf-399a-4800-ae44-9b9dd60bcc05",
   "metadata": {},
   "outputs": [
    {
     "name": "stdout",
     "output_type": "stream",
     "text": [
      "Index: 0, Color: red\n",
      "Index: 1, Color: green\n",
      "Index: 2, Color: blue\n"
     ]
    }
   ],
   "source": [
    "colors = [\"red\", \"green\", \"blue\"]\n",
    "\n",
    "for index, color in enumerate(colors):\n",
    "    print(f\"Index: {index}, Color: {color}\")\n"
   ]
  },
  {
   "cell_type": "code",
   "execution_count": 87,
   "id": "e3751241-5640-4e44-9a2c-5cb5e805d3d9",
   "metadata": {},
   "outputs": [
    {
     "name": "stdout",
     "output_type": "stream",
     "text": [
      "Min: 2, Max: 99\n"
     ]
    }
   ],
   "source": [
    "def min_max(numbers):\n",
    "    return (min(numbers), max(numbers))\n",
    "\n",
    "result = min_max([10, 5, 2, 99])\n",
    "print(f\"Min: {result[0]}, Max: {result[1]}\")\n"
   ]
  },
  {
   "cell_type": "code",
   "execution_count": 88,
   "id": "1a0d8f88-5894-4137-a4fb-f18da9f75bf4",
   "metadata": {},
   "outputs": [
    {
     "name": "stdout",
     "output_type": "stream",
     "text": [
      "Name: Ravi\n",
      "Age: 24\n",
      "Gender: Male\n"
     ]
    }
   ],
   "source": [
    "person_info = (\n",
    "    (\"Name\", \"Ravi\"),\n",
    "    (\"Age\", 24),\n",
    "    (\"Gender\", \"Male\")\n",
    ")\n",
    "\n",
    "for label, value in person_info:\n",
    "    print(f\"{label}: {value}\")\n"
   ]
  },
  {
   "cell_type": "code",
   "execution_count": 89,
   "id": "3ef1c633-557f-487c-a013-fc062251d1b0",
   "metadata": {},
   "outputs": [
    {
     "name": "stdout",
     "output_type": "stream",
     "text": [
      "Raj works as a Developer earning ₹50000\n"
     ]
    }
   ],
   "source": [
    "employee = (\"Raj\", \"Developer\", 50000)\n",
    "\n",
    "name, role, salary = employee\n",
    "print(f\"{name} works as a {role} earning ₹{salary}\")\n"
   ]
  },
  {
   "cell_type": "code",
   "execution_count": 90,
   "id": "18eb6d03-729e-49f3-ba93-84a428738158",
   "metadata": {},
   "outputs": [
    {
     "name": "stdout",
     "output_type": "stream",
     "text": [
      "[('Ravi', 90), ('Priya', 85), ('Aman', 78)]\n"
     ]
    }
   ],
   "source": [
    "students = [\n",
    "    (\"Ravi\", 90),\n",
    "    (\"Priya\", 85),\n",
    "    (\"Aman\", 78)\n",
    "]\n",
    "\n",
    "# Sort by marks\n",
    "sorted_students = sorted(students, key=lambda x: x[1], reverse=True)\n",
    "print(sorted_students)\n"
   ]
  },
  {
   "cell_type": "code",
   "execution_count": 92,
   "id": "1960bdb7-7d0e-42f4-84e9-5572db872a2d",
   "metadata": {},
   "outputs": [
    {
     "name": "stdout",
     "output_type": "stream",
     "text": [
      "Bangalore\n"
     ]
    }
   ],
   "source": [
    "location_map = {\n",
    "    (12.9716, 77.5946): \"Bangalore\",\n",
    "    (28.6139, 77.2090): \"Delhi\"\n",
    "}\n",
    "print(location_map[(12.9716, 77.5946)])\n",
    "\n"
   ]
  },
  {
   "cell_type": "code",
   "execution_count": 93,
   "id": "61cd23b2-8968-4208-b6eb-34edfe8a20ba",
   "metadata": {},
   "outputs": [
    {
     "name": "stdout",
     "output_type": "stream",
     "text": [
      "Ravi → Email: ravi@example.com, Phone: 9876543210\n",
      "Priya → Email: priya@example.com, Phone: 8765432109\n"
     ]
    }
   ],
   "source": [
    "contacts = (\n",
    "    (\"Ravi\", (\"ravi@example.com\", \"9876543210\")),\n",
    "    (\"Priya\", (\"priya@example.com\", \"8765432109\"))\n",
    ")\n",
    "\n",
    "for name, (email, phone) in contacts:\n",
    "    print(f\"{name} → Email: {email}, Phone: {phone}\")\n"
   ]
  },
  {
   "cell_type": "code",
   "execution_count": 94,
   "id": "92e005f1-de9c-4f7c-9f22-d8fd2df09872",
   "metadata": {},
   "outputs": [
    {
     "name": "stdout",
     "output_type": "stream",
     "text": [
      "[('Amit', 88), ('Sita', 92), ('John', 79)]\n"
     ]
    }
   ],
   "source": [
    "names = [\"Amit\", \"Sita\", \"John\"]\n",
    "scores = [88, 92, 79]\n",
    "\n",
    "zipped = list(zip(names, scores))\n",
    "print(zipped)  # [('Amit', 88), ('Sita', 92), ('John', 79)]\n"
   ]
  },
  {
   "cell_type": "code",
   "execution_count": 95,
   "id": "584fdf94-476e-4846-8e21-94afd8c5a7a6",
   "metadata": {},
   "outputs": [
    {
     "name": "stdout",
     "output_type": "stream",
     "text": [
      "(1, 2, 3)\n",
      "[1, 2, 3]\n"
     ]
    }
   ],
   "source": [
    "my_list = [1, 2, 3]\n",
    "my_tuple = tuple(my_list)\n",
    "print(my_tuple)  # (1, 2, 3)\n",
    "\n",
    "back_to_list = list(my_tuple)\n",
    "print(back_to_list)  # [1, 2, 3]\n"
   ]
  },
  {
   "cell_type": "code",
   "execution_count": 96,
   "id": "f903400d-2a02-4d4a-943f-cacb0c7c6b6a",
   "metadata": {},
   "outputs": [
    {
     "name": "stdout",
     "output_type": "stream",
     "text": [
      "Kavya is 20 years old and studies BSc\n"
     ]
    }
   ],
   "source": [
    "def get_student():\n",
    "    return (\"Kavya\", 20, \"BSc\")\n",
    "\n",
    "name, age, course = get_student()\n",
    "print(f\"{name} is {age} years old and studies {course}\")\n"
   ]
  },
  {
   "cell_type": "code",
   "execution_count": 97,
   "id": "68150b69-e235-458b-90a7-ddc7491ff725",
   "metadata": {},
   "outputs": [
    {
     "name": "stdout",
     "output_type": "stream",
     "text": [
      "a = 10, b = 5\n"
     ]
    }
   ],
   "source": [
    "a = 5\n",
    "b = 10\n",
    "\n",
    "a, b = b, a  # Swap\n",
    "print(f\"a = {a}, b = {b}\")\n"
   ]
  },
  {
   "cell_type": "code",
   "execution_count": 98,
   "id": "73395298-3669-46a4-8454-9d7fc197f10c",
   "metadata": {},
   "outputs": [
    {
     "name": "stdout",
     "output_type": "stream",
     "text": [
      "Ravi 80\n",
      "Anu 95\n",
      "Kiran 70\n"
     ]
    }
   ],
   "source": [
    "data = (\n",
    "    {\"name\": \"Ravi\", \"score\": 80},\n",
    "    {\"name\": \"Anu\", \"score\": 95},\n",
    "    {\"name\": \"Kiran\", \"score\": 70}\n",
    ")\n",
    "\n",
    "for entry in data:\n",
    "    print(entry[\"name\"], entry[\"score\"])\n"
   ]
  },
  {
   "cell_type": "code",
   "execution_count": 99,
   "id": "00526bd2-0de7-4e8b-a7c0-dd4392d07731",
   "metadata": {},
   "outputs": [
    {
     "data": {
      "text/html": [
       "<div>\n",
       "<style scoped>\n",
       "    .dataframe tbody tr th:only-of-type {\n",
       "        vertical-align: middle;\n",
       "    }\n",
       "\n",
       "    .dataframe tbody tr th {\n",
       "        vertical-align: top;\n",
       "    }\n",
       "\n",
       "    .dataframe thead th {\n",
       "        text-align: right;\n",
       "    }\n",
       "</style>\n",
       "<table border=\"1\" class=\"dataframe\">\n",
       "  <thead>\n",
       "    <tr style=\"text-align: right;\">\n",
       "      <th></th>\n",
       "      <th>Name</th>\n",
       "      <th>Maths</th>\n",
       "      <th>Science</th>\n",
       "    </tr>\n",
       "  </thead>\n",
       "  <tbody>\n",
       "    <tr>\n",
       "      <th>0</th>\n",
       "      <td>Kiran</td>\n",
       "      <td>80</td>\n",
       "      <td>90</td>\n",
       "    </tr>\n",
       "    <tr>\n",
       "      <th>1</th>\n",
       "      <td>Ravi</td>\n",
       "      <td>70</td>\n",
       "      <td>85</td>\n",
       "    </tr>\n",
       "    <tr>\n",
       "      <th>2</th>\n",
       "      <td>Anu</td>\n",
       "      <td>95</td>\n",
       "      <td>100</td>\n",
       "    </tr>\n",
       "  </tbody>\n",
       "</table>\n",
       "</div>"
      ],
      "text/plain": [
       "    Name  Maths  Science\n",
       "0  Kiran     80       90\n",
       "1   Ravi     70       85\n",
       "2    Anu     95      100"
      ]
     },
     "execution_count": 99,
     "metadata": {},
     "output_type": "execute_result"
    }
   ],
   "source": [
    "import pandas as pd\n",
    "\n",
    "data = [\n",
    "    (\"Kiran\", 80, 90),\n",
    "    (\"Ravi\", 70, 85),\n",
    "    (\"Anu\", 95, 100)\n",
    "]\n",
    "\n",
    "df = pd.DataFrame(data, columns=[\"Name\", \"Maths\", \"Science\"])\n",
    "df\n"
   ]
  },
  {
   "cell_type": "code",
   "execution_count": 100,
   "id": "40364c4c-b33e-40ad-9b14-f5ceb0f3f475",
   "metadata": {},
   "outputs": [
    {
     "name": "stdout",
     "output_type": "stream",
     "text": [
      "6\n",
      "60\n"
     ]
    }
   ],
   "source": [
    "def sum_all(*numbers):\n",
    "    return sum(numbers)\n",
    "\n",
    "print(sum_all(1, 2, 3))     # 6\n",
    "print(sum_all(10, 20, 30))  # 60\n"
   ]
  },
  {
   "cell_type": "code",
   "execution_count": 101,
   "id": "2dfab9a9-780b-4b1c-a00a-521bed8d07ff",
   "metadata": {},
   "outputs": [
    {
     "name": "stdout",
     "output_type": "stream",
     "text": [
      "0: apple\n",
      "1: banana\n",
      "2: grape\n"
     ]
    }
   ],
   "source": [
    "items = [\"apple\", \"banana\", \"grape\"]\n",
    "\n",
    "for idx, val in enumerate(items):\n",
    "    print(f\"{idx}: {val}\")\n"
   ]
  },
  {
   "cell_type": "code",
   "execution_count": 102,
   "id": "fbd81a89-bb22-4b25-b184-69e94f2beaad",
   "metadata": {},
   "outputs": [
    {
     "name": "stdout",
     "output_type": "stream",
     "text": [
      "('Jan', 'Feb', 'Mar', 'Apr')\n"
     ]
    }
   ],
   "source": [
    "# Use tuple for fixed data (e.g., months)\n",
    "months = (\"Jan\", \"Feb\", \"Mar\", \"Apr\")\n",
    "# months[0] = \"January\"  ❌ Will throw error\n",
    "print(months)\n"
   ]
  },
  {
   "cell_type": "code",
   "execution_count": 103,
   "id": "ad2d3cd3-43b0-41f2-ac63-ce15b8c3bd4f",
   "metadata": {},
   "outputs": [
    {
     "name": "stdout",
     "output_type": "stream",
     "text": [
      "1 - Kiran - B.Tech\n",
      "2 - Sita - B.Sc\n",
      "3 - Ravi - MCA\n"
     ]
    }
   ],
   "source": [
    "rows = [\n",
    "    (1, \"Kiran\", \"B.Tech\"),\n",
    "    (2, \"Sita\", \"B.Sc\"),\n",
    "    (3, \"Ravi\", \"MCA\")\n",
    "]\n",
    "\n",
    "for roll, name, course in rows:\n",
    "    print(f\"{roll} - {name} - {course}\")\n"
   ]
  },
  {
   "cell_type": "code",
   "execution_count": 104,
   "id": "14f1480b-71a2-4e92-ac62-8c96c6d40b03",
   "metadata": {},
   "outputs": [
    {
     "name": "stdout",
     "output_type": "stream",
     "text": [
      "Server running on localhost:8080\n"
     ]
    }
   ],
   "source": [
    "config = (\"localhost\", 8080)\n",
    "host, port = config\n",
    "print(f\"Server running on {host}:{port}\")\n"
   ]
  },
  {
   "cell_type": "code",
   "execution_count": 105,
   "id": "2ce16e3d-a22c-4a01-9303-7cb9cd30553c",
   "metadata": {},
   "outputs": [
    {
     "name": "stdout",
     "output_type": "stream",
     "text": [
      "Ajay → Avg = 84.33\n",
      "Kavya → Avg = 91.67\n",
      "Rohit → Avg = 69.00\n"
     ]
    }
   ],
   "source": [
    "marks = [\n",
    "    (\"Ajay\", [78, 85, 90]),\n",
    "    (\"Kavya\", [88, 92, 95]),\n",
    "    (\"Rohit\", [65, 70, 72])\n",
    "]\n",
    "\n",
    "for name, scores in marks:\n",
    "    print(f\"{name} → Avg = {sum(scores)/len(scores):.2f}\")\n"
   ]
  },
  {
   "cell_type": "code",
   "execution_count": 106,
   "id": "8f4a96ef-5edb-43d2-bbd0-22108c9a4d8a",
   "metadata": {},
   "outputs": [
    {
     "name": "stdout",
     "output_type": "stream",
     "text": [
      "True\n"
     ]
    }
   ],
   "source": [
    "coordinates = {\n",
    "    (0, 0),\n",
    "    (1, 2),\n",
    "    (3, 4)\n",
    "}\n",
    "\n",
    "print((1, 2) in coordinates)  # True\n"
   ]
  },
  {
   "cell_type": "code",
   "execution_count": 107,
   "id": "760fbb45-a172-4d13-a40e-9449a5d34a1b",
   "metadata": {},
   "outputs": [
    {
     "name": "stdout",
     "output_type": "stream",
     "text": [
      "(1, 2, 3)\n",
      "(4, 5, 6)\n",
      "(7, 8, 9)\n"
     ]
    }
   ],
   "source": [
    "matrix = (\n",
    "    (1, 2, 3),\n",
    "    (4, 5, 6),\n",
    "    (7, 8, 9)\n",
    ")\n",
    "\n",
    "for row in matrix:\n",
    "    print(row)\n"
   ]
  },
  {
   "cell_type": "code",
   "execution_count": 108,
   "id": "7f0c1821-0181-489f-b9dd-23188521a7e5",
   "metadata": {},
   "outputs": [
    {
     "name": "stdout",
     "output_type": "stream",
     "text": [
      "[('Bob', 75), ('Alice', 88), ('Charlie', 95)]\n"
     ]
    }
   ],
   "source": [
    "scores = [\n",
    "    (\"Alice\", 88),\n",
    "    (\"Bob\", 75),\n",
    "    (\"Charlie\", 95)\n",
    "]\n",
    "\n",
    "sorted_scores = sorted(scores, key=lambda x: x[1])\n",
    "print(sorted_scores)\n"
   ]
  },
  {
   "cell_type": "code",
   "execution_count": 109,
   "id": "08debab9-4f3f-48e5-9f1f-7b724a75b7cb",
   "metadata": {},
   "outputs": [
    {
     "name": "stdout",
     "output_type": "stream",
     "text": [
      "name: Meena\n",
      "age: 21\n",
      "course: B.Tech\n"
     ]
    }
   ],
   "source": [
    "student = {\"name\": \"Meena\", \"age\": 21, \"course\": \"B.Tech\"}\n",
    "\n",
    "for key, value in student.items():\n",
    "    print(f\"{key}: {value}\")\n"
   ]
  },
  {
   "cell_type": "code",
   "execution_count": 110,
   "id": "e69476a4-cab9-4070-b16b-dc3f44de9a9f",
   "metadata": {},
   "outputs": [
    {
     "name": "stdout",
     "output_type": "stream",
     "text": [
      "[('Red', 'S'), ('Red', 'M'), ('Green', 'S'), ('Green', 'M')]\n"
     ]
    }
   ],
   "source": [
    "from itertools import product\n",
    "\n",
    "colors = [\"Red\", \"Green\"]\n",
    "sizes = [\"S\", \"M\"]\n",
    "\n",
    "combos = list(product(colors, sizes))\n",
    "print(combos)\n",
    "# [('Red', 'S'), ('Red', 'M'), ('Green', 'S'), ('Green', 'M')]\n"
   ]
  },
  {
   "cell_type": "code",
   "execution_count": 111,
   "id": "9f3f8433-faf6-42ff-b5bf-e7bf6c49ace9",
   "metadata": {},
   "outputs": [
    {
     "name": "stdout",
     "output_type": "stream",
     "text": [
      "[1, 2, 3, 4, 5, 6]\n"
     ]
    }
   ],
   "source": [
    "nested = ((1, 2), (3, 4), (5, 6))\n",
    "flat = [item for sub in nested for item in sub]\n",
    "print(flat)  # [1, 2, 3, 4, 5, 6]\n"
   ]
  },
  {
   "cell_type": "code",
   "execution_count": 112,
   "id": "d5016123-0d00-40a5-95a9-b2d33adaaf11",
   "metadata": {},
   "outputs": [
    {
     "name": "stdout",
     "output_type": "stream",
     "text": [
      "Python\n",
      "Tuples\n",
      "Immutable\n"
     ]
    }
   ],
   "source": [
    "def show_data(info):\n",
    "    for item in info:\n",
    "        print(item)\n",
    "\n",
    "show_data((\"Python\", \"Tuples\", \"Immutable\"))\n"
   ]
  },
  {
   "cell_type": "code",
   "execution_count": 113,
   "id": "33244694-7fa8-49a5-a337-0715db8110b4",
   "metadata": {},
   "outputs": [
    {
     "name": "stdout",
     "output_type": "stream",
     "text": [
      "Counter({('Alice', 'Yes'): 2, ('Bob', 'No'): 1, ('Alice', 'No'): 1})\n"
     ]
    }
   ],
   "source": [
    "votes = [\n",
    "    (\"Alice\", \"Yes\"),\n",
    "    (\"Bob\", \"No\"),\n",
    "    (\"Alice\", \"Yes\"),\n",
    "    (\"Alice\", \"No\")\n",
    "]\n",
    "\n",
    "from collections import Counter\n",
    "vote_counter = Counter(votes)\n",
    "print(vote_counter)\n"
   ]
  },
  {
   "cell_type": "code",
   "execution_count": 114,
   "id": "73d6e5c2-157b-4073-80aa-6454e239a663",
   "metadata": {},
   "outputs": [
    {
     "name": "stdout",
     "output_type": "stream",
     "text": [
      "Amit 20 A\n"
     ]
    }
   ],
   "source": [
    "from collections import namedtuple\n",
    "\n",
    "Student = namedtuple(\"Student\", \"name age grade\")\n",
    "s1 = Student(\"Amit\", 20, \"A\")\n",
    "\n",
    "print(s1.name, s1.age, s1.grade)\n",
    "\n"
   ]
  },
  {
   "cell_type": "code",
   "execution_count": 115,
   "id": "4d3e383b-72cf-4627-9506-03ea9864bf12",
   "metadata": {},
   "outputs": [
    {
     "name": "stdout",
     "output_type": "stream",
     "text": [
      "Name: Ram, Age: 35, Occupation: Teacher\n"
     ]
    }
   ],
   "source": [
    "person = (\"Ram\", 35, \"Teacher\")\n",
    "print(f\"Name: {person[0]}, Age: {person[1]}, Occupation: {person[2]}\")\n"
   ]
  },
  {
   "cell_type": "code",
   "execution_count": 116,
   "id": "e23d3834-59d2-4dcf-9344-9d5ef8f953be",
   "metadata": {},
   "outputs": [
    {
     "name": "stdout",
     "output_type": "stream",
     "text": [
      "Ravi is 25 years old\n",
      "Seema is 30 years old\n",
      "Arun is 22 years old\n"
     ]
    }
   ],
   "source": [
    "names = (\"Ravi\", \"Seema\", \"Arun\")\n",
    "ages = (25, 30, 22)\n",
    "\n",
    "for name, age in zip(names, ages):\n",
    "    print(f\"{name} is {age} years old\")\n"
   ]
  },
  {
   "cell_type": "code",
   "execution_count": 117,
   "id": "50b5f57c-4185-4b57-9a37-b7ce73c42fa8",
   "metadata": {},
   "outputs": [
    {
     "name": "stdout",
     "output_type": "stream",
     "text": [
      "('Python', [1, 2, 3, 4])\n"
     ]
    }
   ],
   "source": [
    "mixed = (\"Python\", [1, 2, 3])\n",
    "mixed[1].append(4)\n",
    "print(mixed)  # ('Python', [1, 2, 3, 4])\n"
   ]
  },
  {
   "cell_type": "code",
   "execution_count": 118,
   "id": "4d2f5497-a35e-48c1-906b-8ee4fc519184",
   "metadata": {},
   "outputs": [
    {
     "name": "stdout",
     "output_type": "stream",
     "text": [
      "True\n"
     ]
    }
   ],
   "source": [
    "a = (1, 2, 3)\n",
    "b = (1, 2, 4)\n",
    "print(a < b)  # True (compares element-wise)\n"
   ]
  },
  {
   "cell_type": "code",
   "execution_count": 119,
   "id": "be0834e1-33cb-4991-99ac-9dd4e6e3804f",
   "metadata": {},
   "outputs": [
    {
     "name": "stdout",
     "output_type": "stream",
     "text": [
      "Min: 10, Max: 40, Avg: 25.0\n"
     ]
    }
   ],
   "source": [
    "def analyze_data(data):\n",
    "    average = sum(data) / len(data)\n",
    "    return (min(data), max(data), average)\n",
    "\n",
    "result = analyze_data([10, 20, 30, 40])\n",
    "print(f\"Min: {result[0]}, Max: {result[1]}, Avg: {result[2]}\")\n"
   ]
  },
  {
   "cell_type": "code",
   "execution_count": 120,
   "id": "2fbc401a-28d5-4663-a8df-b4c068040df1",
   "metadata": {},
   "outputs": [
    {
     "name": "stdout",
     "output_type": "stream",
     "text": [
      "20\n"
     ]
    }
   ],
   "source": [
    "d = {'a': {'x': 10, 'y': 20}, 'b': 2}\n",
    "print(d['a']['y'])"
   ]
  },
  {
   "cell_type": "code",
   "execution_count": 121,
   "id": "d1c5f59c-ec3b-4f80-9db7-c6023bf001b5",
   "metadata": {},
   "outputs": [
    {
     "name": "stdout",
     "output_type": "stream",
     "text": [
      "10\n"
     ]
    }
   ],
   "source": [
    "d = {'a': {'x': 10, 'y': 20}, 'b': 2}\n",
    "print(d['a']['x'])"
   ]
  },
  {
   "cell_type": "code",
   "execution_count": 122,
   "id": "5ee25850-1dd3-4a26-b262-4a478b96ec1d",
   "metadata": {},
   "outputs": [
    {
     "name": "stdout",
     "output_type": "stream",
     "text": [
      "5\n"
     ]
    }
   ],
   "source": [
    "d = {'apple': 3, 'banana': 2}\n",
    "print(sum(d.values()))"
   ]
  },
  {
   "cell_type": "code",
   "execution_count": 123,
   "id": "084b6153-158e-43d0-86a1-a168a6c1345e",
   "metadata": {},
   "outputs": [
    {
     "name": "stdout",
     "output_type": "stream",
     "text": [
      "5\n"
     ]
    }
   ],
   "source": [
    "d = {'apple': 3, 'banana': 2}\n",
    "print(sum(d.values()))"
   ]
  },
  {
   "cell_type": "code",
   "execution_count": 124,
   "id": "a1fe7c0c-ecba-455c-b9aa-5e7332458eae",
   "metadata": {},
   "outputs": [
    {
     "name": "stdout",
     "output_type": "stream",
     "text": [
      "5\n"
     ]
    }
   ],
   "source": [
    "d = {'apple': 3, 'banana': 2}\n",
    "print(sum(d.values()))"
   ]
  },
  {
   "cell_type": "code",
   "execution_count": 125,
   "id": "a11df159-afcb-4ea9-bd1b-049c29d56d19",
   "metadata": {},
   "outputs": [
    {
     "name": "stdout",
     "output_type": "stream",
     "text": [
      "{'a': 1, 'b': 2}\n"
     ]
    }
   ],
   "source": [
    "d1 = {'a': 1}\n",
    "d2 = {'b': 2}\n",
    "d1.update(d2)\n",
    "print(d1)"
   ]
  },
  {
   "cell_type": "code",
   "execution_count": null,
   "id": "52b85adf-cdc7-4947-8444-f813534fbcdf",
   "metadata": {},
   "outputs": [],
   "source": []
  }
 ],
 "metadata": {
  "kernelspec": {
   "display_name": "Python 3 (ipykernel)",
   "language": "python",
   "name": "python3"
  },
  "language_info": {
   "codemirror_mode": {
    "name": "ipython",
    "version": 3
   },
   "file_extension": ".py",
   "mimetype": "text/x-python",
   "name": "python",
   "nbconvert_exporter": "python",
   "pygments_lexer": "ipython3",
   "version": "3.13.5"
  }
 },
 "nbformat": 4,
 "nbformat_minor": 5
}
