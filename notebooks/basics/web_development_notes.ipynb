{
 "cells": [
  {
   "cell_type": "markdown",
   "id": "5243b5c9-c6eb-4d24-8a46-10d6dce165f7",
   "metadata": {},
   "source": [
    "<style>\n",
    "  .card {\n",
    "    width: 350px;\n",
    "    padding: 20px;\n",
    "    background: #f0f8ff;\n",
    "    border: 2px solid #4b9cd3;\n",
    "    border-radius: 15px;\n",
    "    font-family: 'Segoe UI', sans-serif;\n",
    "    box-shadow: 4px 4px 10px rgba(0, 0, 0, 0.1);\n",
    "  }\n",
    "\n",
    "  .card h2 {\n",
    "    color: #4b9cd3;\n",
    "  }\n",
    "\n",
    "  .card p {\n",
    "    color: #333;\n",
    "    line-height: 1.5;\n",
    "  }\n",
    "\n",
    "  .btn {\n",
    "    background-color: #4b9cd3;\n",
    "    color: white;\n",
    "    padding: 10px 20px;\n",
    "    border: none;\n",
    "    border-radius: 8px;\n",
    "    text-decoration: none;\n",
    "    display: inline-block;\n",
    "    margin-top: 10px;\n",
    "    cursor: pointer;\n",
    "  }\n",
    "\n",
    "  .btn:hover {\n",
    "    background-color: #357ca5;\n",
    "  }\n",
    "</style>\n",
    "\n",
    "<div class=\"card\">\n",
    "  <h2>Welcome to My Web Component</h2>\n",
    "  <p>This is an embedded HTML + CSS card inside a Jupyter Notebook. You can style it however you like!</p>\n",
    "  <a href=\"https://github.com/\" target=\"_blank\" class=\"btn\">Visit GitHub</a>\n",
    "</div>\n"
   ]
  },
  {
   "cell_type": "markdown",
   "id": "f4c43227-8df1-4e3d-8176-1f28309af9e1",
   "metadata": {},
   "source": []
  },
  {
   "cell_type": "markdown",
   "id": "bbeb0704-027c-4726-8af7-a9db9e9dcd83",
   "metadata": {},
   "source": [
    "<!-- Inline and Block Elements Demo -->\n",
    "\n",
    "<span style=\"border: 2px solid red;\">This is a span element</span>\n",
    "<em style=\"border: 2px solid blue;\">This is an emphasized text</em>\n",
    "\n",
    "<br><br>\n",
    "\n",
    "<span style=\"border: 2px solid blue;\">This is another span</span>\n",
    "<span style=\"border: 2px solid orangered;\">This is also a span</span>\n",
    " "
   ]
  },
  {
   "cell_type": "code",
   "execution_count": null,
   "id": "943ebc75-a528-4059-b892-ecb88acd5039",
   "metadata": {},
   "outputs": [],
   "source": []
  },
  {
   "cell_type": "markdown",
   "id": "e256b59b-08c6-430f-997c-da0ed2e6ec48",
   "metadata": {},
   "source": [
    "<style>\n",
    "  body {\n",
    "    margin: 0;\n",
    "    height: 100vh;\n",
    "    display: flex;\n",
    "    justify-content: center;\n",
    "    align-items: center;\n",
    "    background-color: #000;\n",
    "  }\n",
    "\n",
    "  .container {\n",
    "    text-align: center;\n",
    "  }\n",
    "\n",
    "  .box {\n",
    "    font-family: 'Anton', sans-serif;\n",
    "    font-size: 100px;\n",
    "    color: white;\n",
    "    letter-spacing: 8px;\n",
    "  }\n",
    "\n",
    "  .footer, .starting, .engine, .rights, .unreal, .lnc {\n",
    "    color: #888;\n",
    "    font-family: Arial, sans-serif;\n",
    "    margin-top: 10px;\n",
    "    font-size: 14px;\n",
    "  }\n",
    "\n",
    "  .starting {\n",
    "    font-size: 24px;\n",
    "    color: white;\n",
    "  }\n",
    "\n",
    "  .start-button {\n",
    "    margin-top: 30px;\n",
    "    padding: 10px 20px;\n",
    "    font-size: 16px;\n",
    "    background-color: #28a745;\n",
    "    color: white;\n",
    "    border: none;\n",
    "    border-radius: 5px;\n",
    "    cursor: pointer;\n",
    "  }\n",
    "\n",
    "  .start-button:hover {\n",
    "    background-color: #218838;\n",
    "  }\n",
    "</style>\n",
    "\n",
    "<div class=\"container\">\n",
    "  <div class=\"box\">KRAFTON</div>\n",
    "  <div class=\"footer\">© 2017 KRAFTON, Inc. All rights reserved.</div>\n",
    "  <div class=\"starting\">Starting...</div>\n",
    "  <div class=\"engine\">Unreal Engine, Copyright 1998-2025, Epic Games, Inc.</div>\n",
    "  <div class=\"rights\">All rights reserved</div>\n",
    "  <div class=\"unreal\">Unreal is a trademark or registered trademark of Epic Games.</div>\n",
    "  <div class=\"lnc\">Inc. in the United States of America and elsewhere</div>\n",
    "  <button class=\"start-button\">Start</button>\n",
    "</div>\n"
   ]
  },
  {
   "cell_type": "markdown",
   "id": "4003a7ec-c7c5-4735-b86b-689ba254aea2",
   "metadata": {},
   "source": [
    "<style>\n",
    "  .login-container {\n",
    "    background-color: white;\n",
    "    padding: 20px;\n",
    "    border-radius: 8px;\n",
    "    box-shadow: 0 4px 8px rgba(0, 0, 0, 0.1);\n",
    "    width: 300px;\n",
    "    margin: 100px auto;\n",
    "    font-family: Arial, sans-serif;\n",
    "  }\n",
    "\n",
    "  h2 {\n",
    "    text-align: center;\n",
    "    color: #333;\n",
    "  }\n",
    "\n",
    "  .input-field {\n",
    "    width: 100%;\n",
    "    padding: 10px;\n",
    "    margin: 10px 0;\n",
    "    border: 1px solid #ccc;\n",
    "    border-radius: 5px;\n",
    "  }\n",
    "\n",
    "  .btn {\n",
    "    width: 100%;\n",
    "    padding: 10px;\n",
    "    background-color: #28a745;\n",
    "    color: white;\n",
    "    border: none;\n",
    "    border-radius: 5px;\n",
    "    cursor: pointer;\n",
    "    font-size: 16px;\n",
    "  }\n",
    "\n",
    "  .btn:hover {\n"
   ]
  },
  {
   "cell_type": "code",
   "execution_count": 5,
   "id": "dcde7697-bdd6-4c97-bf0a-c0e530dbef8a",
   "metadata": {},
   "outputs": [
    {
     "data": {
      "text/html": [
       "\n",
       "<style>\n",
       "  body {\n",
       "    font-family: Arial, sans-serif;\n",
       "    margin: 0;\n",
       "    padding: 0;\n",
       "    display: flex;\n",
       "    justify-content: center;\n",
       "    align-items: center;\n",
       "    height: 100vh;\n",
       "    background: url('images/kraft1.jpg') no-repeat center center fixed;\n",
       "    background-size: cover;\n",
       "  }\n",
       "\n",
       "  .signup-container {\n",
       "    background-color: white;\n",
       "    padding: 20px;\n",
       "    border-radius: 8px;\n",
       "    box-shadow: 0 4px 8px rgba(0, 0, 0, 0.1);\n",
       "    width: 300px;\n",
       "  }\n",
       "\n",
       "  h2 {\n",
       "    text-align: center;\n",
       "    color: #333;\n",
       "  }\n",
       "\n",
       "  .input-field {\n",
       "    width: 100%;\n",
       "    padding: 10px;\n",
       "    margin: 10px 0;\n",
       "    border: 1px solid #ccc;\n",
       "    border-radius: 5px;\n",
       "  }\n",
       "\n",
       "  .btn {\n",
       "    width: 100%;\n",
       "    padding: 10px;\n",
       "    background-color: #28a745;\n",
       "    color: white;\n",
       "    border: none;\n",
       "    border-radius: 5px;\n",
       "    cursor: pointer;\n",
       "    font-size: 16px;\n",
       "  }\n",
       "\n",
       "  .btn:hover {\n",
       "    background-color: #218838;\n",
       "  }\n",
       "\n",
       "  .login-link {\n",
       "    text-align: center;\n",
       "    margin-top: 10px;\n",
       "  }\n",
       "\n",
       "  .login-link a {\n",
       "    color: #007bff;\n",
       "    text-decoration: none;\n",
       "  }\n",
       "</style>\n",
       "\n",
       "<div class=\"signup-container\">\n",
       "  <h2>Signup</h2>\n",
       "  <form>\n",
       "    <input type=\"text\" class=\"input-field\" name=\"username\" placeholder=\"Username\" required />\n",
       "    <input type=\"email\" class=\"input-field\" name=\"email\" placeholder=\"Email\" required />\n",
       "    <input type=\"password\" class=\"input-field\" name=\"password\" placeholder=\"Password\" required />\n",
       "    <input type=\"password\" class=\"input-field\" name=\"confirm_password\" placeholder=\"Confirm Password\" required />\n",
       "    <button type=\"submit\" class=\"btn\">Sign Up</button>\n",
       "  </form>\n",
       "  <div class=\"login-link\">\n",
       "    <p>Already have an account? <a href=\"#\">Login here</a></p>\n",
       "  </div>\n",
       "</div>\n"
      ],
      "text/plain": [
       "<IPython.core.display.HTML object>"
      ]
     },
     "metadata": {},
     "output_type": "display_data"
    }
   ],
   "source": [
    "from IPython.display import display, HTML\n",
    "\n",
    "signup_html = \"\"\"\n",
    "<style>\n",
    "  body {\n",
    "    font-family: Arial, sans-serif;\n",
    "    margin: 0;\n",
    "    padding: 0;\n",
    "    display: flex;\n",
    "    justify-content: center;\n",
    "    align-items: center;\n",
    "    height: 100vh;\n",
    "    background: url('images/kraft1.jpg') no-repeat center center fixed;\n",
    "    background-size: cover;\n",
    "  }\n",
    "\n",
    "  .signup-container {\n",
    "    background-color: white;\n",
    "    padding: 20px;\n",
    "    border-radius: 8px;\n",
    "    box-shadow: 0 4px 8px rgba(0, 0, 0, 0.1);\n",
    "    width: 300px;\n",
    "  }\n",
    "\n",
    "  h2 {\n",
    "    text-align: center;\n",
    "    color: #333;\n",
    "  }\n",
    "\n",
    "  .input-field {\n",
    "    width: 100%;\n",
    "    padding: 10px;\n",
    "    margin: 10px 0;\n",
    "    border: 1px solid #ccc;\n",
    "    border-radius: 5px;\n",
    "  }\n",
    "\n",
    "  .btn {\n",
    "    width: 100%;\n",
    "    padding: 10px;\n",
    "    background-color: #28a745;\n",
    "    color: white;\n",
    "    border: none;\n",
    "    border-radius: 5px;\n",
    "    cursor: pointer;\n",
    "    font-size: 16px;\n",
    "  }\n",
    "\n",
    "  .btn:hover {\n",
    "    background-color: #218838;\n",
    "  }\n",
    "\n",
    "  .login-link {\n",
    "    text-align: center;\n",
    "    margin-top: 10px;\n",
    "  }\n",
    "\n",
    "  .login-link a {\n",
    "    color: #007bff;\n",
    "    text-decoration: none;\n",
    "  }\n",
    "</style>\n",
    "\n",
    "<div class=\"signup-container\">\n",
    "  <h2>Signup</h2>\n",
    "  <form>\n",
    "    <input type=\"text\" class=\"input-field\" name=\"username\" placeholder=\"Username\" required />\n",
    "    <input type=\"email\" class=\"input-field\" name=\"email\" placeholder=\"Email\" required />\n",
    "    <input type=\"password\" class=\"input-field\" name=\"password\" placeholder=\"Password\" required />\n",
    "    <input type=\"password\" class=\"input-field\" name=\"confirm_password\" placeholder=\"Confirm Password\" required />\n",
    "    <button type=\"submit\" class=\"btn\">Sign Up</button>\n",
    "  </form>\n",
    "  <div class=\"login-link\">\n",
    "    <p>Already have an account? <a href=\"#\">Login here</a></p>\n",
    "  </div>\n",
    "</div>\n",
    "\"\"\"\n",
    "\n",
    "display(HTML(signup_html))\n"
   ]
  },
  {
   "cell_type": "markdown",
   "id": "dbad9d49-a3d9-4d27-827f-49b80e708d9a",
   "metadata": {},
   "source": []
  },
  {
   "cell_type": "markdown",
   "id": "6ed15b23-963a-4f9a-9c2b-cd313185cc4f",
   "metadata": {},
   "source": []
  },
  {
   "cell_type": "markdown",
   "id": "67e2126d-0ee9-4e99-9e29-cec691fda18b",
   "metadata": {},
   "source": [
    "from IPython.display import display, HTML\n",
    "\n",
    "login_html = \"\"\"\n",
    "<style>\n",
    "  body {\n",
    "    font-family: Arial, sans-serif;\n",
    "    background-color: #f4f4f4;\n",
    "    margin: 0;\n",
    "    padding: 0;\n",
    "    display: flex;\n",
    "    justify-content: center;\n",
    "    align-items: center;\n",
    "    height: 100vh;\n",
    "  }\n",
    "\n",
    "  .login-container {\n",
    "    background-color: white;\n",
    "    padding: 20px;\n",
    "    border-radius: 8px;\n",
    "    box-shadow: 0 4px 8px rgba(0, 0, 0, 0.1);\n",
    "    width: 300px;\n",
    "  }\n",
    "\n",
    "  h2 {\n",
    "    text-align: center;\n",
    "    color: #333;\n",
    "  }\n",
    "\n",
    "  .input-field {\n",
    "    width: 100%;\n",
    "    padding: 10px;\n",
    "    margin: 10px 0;\n",
    "    border: 1px solid #ccc;\n",
    "    border-radius: 5px;\n",
    "  }\n",
    "\n",
    "  .btn {\n",
    "    width: 100%;\n",
    "    padding: 10px;\n",
    "    background-color: #28a745;\n",
    "    color: white;\n",
    "    border: none;\n",
    "    border-radius: 5px;\n",
    "    cursor: pointer;\n",
    "    font-size: 16px;\n",
    "  }\n",
    "\n",
    "  .btn:hover {\n",
    "    background-color: #218838;\n",
    "  }\n",
    "\n",
    "  .signup-link {\n",
    "    text-align: center;\n",
    "    margin-top: 10px;\n",
    "  }\n",
    "\n",
    "  .signup-link a {\n",
    "    color: #007bff;\n",
    "    text-decoration: none;\n",
    "  }\n",
    "</style>\n",
    "\n",
    "<div class=\"login-container\">\n",
    "  <h2>Login</h2>\n",
    "  <form>\n",
    "    <input type=\"email\" class=\"input-field\" name=\"email\" placeholder=\"Email\" required />\n",
    "    <input type=\"password\" class=\"input-field\" name=\"password\" placeholder=\"Password\" required />\n",
    "    <button type=\"submit\" class=\"btn\">Login</button>\n",
    "  </form>\n",
    "  <div class=\"signup-link\">\n",
    "    <p>Don't have an account? <a href=\"#\">Sign up here</a></p>\n",
    "  </div>\n",
    "</div>\n",
    "\"\"\"\n",
    "\n",
    "display(HTML(login_html))\n"
   ]
  },
  {
   "cell_type": "code",
   "execution_count": 9,
   "id": "36a4f928-eea9-4ed4-a569-c50c7aee13c7",
   "metadata": {},
   "outputs": [
    {
     "name": "stderr",
     "output_type": "stream",
     "text": [
      "C:\\Users\\sahil\\AppData\\Local\\Temp\\ipykernel_10400\\3068744958.py:1: DeprecationWarning: Importing display from IPython.core.display is deprecated since IPython 7.14, please import from IPython.display\n",
      "  from IPython.core.display import display, HTML\n"
     ]
    },
    {
     "data": {
      "text/html": [
       "<h1>Main Heading (h1)</h1><p>This is a paragraph.</p>"
      ],
      "text/plain": [
       "<IPython.core.display.HTML object>"
      ]
     },
     "metadata": {},
     "output_type": "display_data"
    }
   ],
   "source": [
    "from IPython.core.display import display, HTML\n",
    "\n",
    "display(HTML(\"<h1>Main Heading (h1)</h1><p>This is a paragraph.</p>\"))\n",
    "\n"
   ]
  },
  {
   "cell_type": "code",
   "execution_count": 10,
   "id": "1dfc12d9-4481-44e7-9076-67294fb64722",
   "metadata": {},
   "outputs": [
    {
     "name": "stderr",
     "output_type": "stream",
     "text": [
      "C:\\Users\\sahil\\AppData\\Local\\Temp\\ipykernel_10400\\3996564675.py:1: DeprecationWarning: Importing display from IPython.core.display is deprecated since IPython 7.14, please import from IPython.display\n",
      "  from IPython.core.display import display, HTML\n"
     ]
    },
    {
     "data": {
      "text/html": [
       "\n",
       "<form action=\"/login\" method=\"post\">\n",
       "  <label for=\"username\">Username:</label><br>\n",
       "  <input type=\"text\" id=\"username\" name=\"username\"><br>\n",
       "\n",
       "  <label for=\"password\">Password:</label><br>\n",
       "  <input type=\"password\" id=\"password\" name=\"password\"><br><br>\n",
       "\n",
       "  <input type=\"submit\" value=\"Login\">\n",
       "</form>\n"
      ],
      "text/plain": [
       "<IPython.core.display.HTML object>"
      ]
     },
     "metadata": {},
     "output_type": "display_data"
    }
   ],
   "source": [
    "from IPython.core.display import display, HTML\n",
    "\n",
    "form_html = \"\"\"\n",
    "<form action=\"/login\" method=\"post\">\n",
    "  <label for=\"username\">Username:</label><br>\n",
    "  <input type=\"text\" id=\"username\" name=\"username\"><br>\n",
    "\n",
    "  <label for=\"password\">Password:</label><br>\n",
    "  <input type=\"password\" id=\"password\" name=\"password\"><br><br>\n",
    "\n",
    "  <input type=\"submit\" value=\"Login\">\n",
    "</form>\n",
    "\"\"\"\n",
    "\n",
    "display(HTML(form_html))\n"
   ]
  },
  {
   "cell_type": "code",
   "execution_count": 11,
   "id": "a6342478-5aee-4a44-a4ab-380666447478",
   "metadata": {},
   "outputs": [
    {
     "name": "stderr",
     "output_type": "stream",
     "text": [
      "C:\\Users\\sahil\\AppData\\Local\\Temp\\ipykernel_10400\\3502825968.py:1: DeprecationWarning: Importing display from IPython.core.display is deprecated since IPython 7.14, please import from IPython.display\n",
      "  from IPython.core.display import display, HTML\n"
     ]
    },
    {
     "data": {
      "text/html": [
       "\n",
       "<table border=\"1\" cellpadding=\"8\" cellspacing=\"0\">\n",
       "  <tr>\n",
       "    <th>Name</th>\n",
       "    <th>Age</th>\n",
       "  </tr>\n",
       "  <tr>\n",
       "    <td>Sahil</td>\n",
       "    <td>22</td>\n",
       "  </tr>\n",
       "</table>\n"
      ],
      "text/plain": [
       "<IPython.core.display.HTML object>"
      ]
     },
     "metadata": {},
     "output_type": "display_data"
    }
   ],
   "source": [
    "from IPython.core.display import display, HTML\n",
    "\n",
    "table_html = \"\"\"\n",
    "<table border=\"1\" cellpadding=\"8\" cellspacing=\"0\">\n",
    "  <tr>\n",
    "    <th>Name</th>\n",
    "    <th>Age</th>\n",
    "  </tr>\n",
    "  <tr>\n",
    "    <td>Sahil</td>\n",
    "    <td>22</td>\n",
    "  </tr>\n",
    "</table>\n",
    "\"\"\"\n",
    "\n",
    "display(HTML(table_html))\n"
   ]
  },
  {
   "cell_type": "code",
   "execution_count": 12,
   "id": "fee540ba-beff-4a59-acf8-4cc8148233e9",
   "metadata": {},
   "outputs": [
    {
     "name": "stderr",
     "output_type": "stream",
     "text": [
      "C:\\Users\\sahil\\AppData\\Local\\Temp\\ipykernel_10400\\2356580883.py:1: DeprecationWarning: Importing display from IPython.core.display is deprecated since IPython 7.14, please import from IPython.display\n",
      "  from IPython.core.display import display, HTML\n"
     ]
    },
    {
     "data": {
      "text/html": [
       "\n",
       "<a href=\"https://www.google.com\" target=\"_blank\">Visit Google</a>\n",
       "<br><br>\n",
       "<img src=\"https://via.placeholder.com/150\" alt=\"Placeholder Image\">\n"
      ],
      "text/plain": [
       "<IPython.core.display.HTML object>"
      ]
     },
     "metadata": {},
     "output_type": "display_data"
    }
   ],
   "source": [
    "from IPython.core.display import display, HTML\n",
    "\n",
    "link_img_html = \"\"\"\n",
    "<a href=\"https://www.google.com\" target=\"_blank\">Visit Google</a>\n",
    "<br><br>\n",
    "<img src=\"https://via.placeholder.com/150\" alt=\"Placeholder Image\">\n",
    "\"\"\"\n",
    "\n",
    "display(HTML(link_img_html))\n"
   ]
  },
  {
   "cell_type": "code",
   "execution_count": 13,
   "id": "a4cd6ac0-f298-43be-97be-872dac31411d",
   "metadata": {},
   "outputs": [
    {
     "name": "stderr",
     "output_type": "stream",
     "text": [
      "C:\\Users\\sahil\\AppData\\Local\\Temp\\ipykernel_10400\\890135510.py:1: DeprecationWarning: Importing display from IPython.core.display is deprecated since IPython 7.14, please import from IPython.display\n",
      "  from IPython.core.display import display, HTML\n"
     ]
    },
    {
     "data": {
      "text/html": [
       "\n",
       "<iframe width=\"300\" height=\"200\"\n",
       "  src=\"https://www.youtube.com/embed/dQw4w9WgXcQ\"\n",
       "  frameborder=\"0\"\n",
       "  allowfullscreen>\n",
       "</iframe>\n"
      ],
      "text/plain": [
       "<IPython.core.display.HTML object>"
      ]
     },
     "metadata": {},
     "output_type": "display_data"
    }
   ],
   "source": [
    "from IPython.core.display import display, HTML\n",
    "\n",
    "video_html = \"\"\"\n",
    "<iframe width=\"300\" height=\"200\"\n",
    "  src=\"https://www.youtube.com/embed/dQw4w9WgXcQ\"\n",
    "  frameborder=\"0\"\n",
    "  allowfullscreen>\n",
    "</iframe>\n",
    "\"\"\"\n",
    "\n",
    "display(HTML(video_html))\n"
   ]
  },
  {
   "cell_type": "code",
   "execution_count": 14,
   "id": "d05ddc14-08c2-4d2b-8e4f-1ef9616e4f48",
   "metadata": {},
   "outputs": [
    {
     "name": "stderr",
     "output_type": "stream",
     "text": [
      "C:\\Users\\sahil\\AppData\\Local\\Temp\\ipykernel_10400\\2929690291.py:1: DeprecationWarning: Importing display from IPython.core.display is deprecated since IPython 7.14, please import from IPython.display\n",
      "  from IPython.core.display import display, HTML\n"
     ]
    },
    {
     "data": {
      "text/html": [
       "\n",
       "<h3>Unordered List</h3>\n",
       "<ul>\n",
       "  <li>HTML</li>\n",
       "  <li>CSS</li>\n",
       "  <li>JavaScript</li>\n",
       "</ul>\n",
       "\n",
       "<h3>Ordered List</h3>\n",
       "<ol>\n",
       "  <li>Login</li>\n",
       "  <li>Dashboard</li>\n",
       "  <li>Logout</li>\n",
       "</ol>\n"
      ],
      "text/plain": [
       "<IPython.core.display.HTML object>"
      ]
     },
     "metadata": {},
     "output_type": "display_data"
    }
   ],
   "source": [
    "from IPython.core.display import display, HTML\n",
    "\n",
    "list_html = \"\"\"\n",
    "<h3>Unordered List</h3>\n",
    "<ul>\n",
    "  <li>HTML</li>\n",
    "  <li>CSS</li>\n",
    "  <li>JavaScript</li>\n",
    "</ul>\n",
    "\n",
    "<h3>Ordered List</h3>\n",
    "<ol>\n",
    "  <li>Login</li>\n",
    "  <li>Dashboard</li>\n",
    "  <li>Logout</li>\n",
    "</ol>\n",
    "\"\"\"\n",
    "\n",
    "display(HTML(list_html))\n"
   ]
  },
  {
   "cell_type": "code",
   "execution_count": null,
   "id": "2a2d25e7-b2f8-46ef-b2a9-0ed26011e137",
   "metadata": {},
   "outputs": [],
   "source": []
  },
  {
   "cell_type": "code",
   "execution_count": null,
   "id": "cdcfdaf4-3f31-4cff-bdf1-ccab23279087",
   "metadata": {},
   "outputs": [],
   "source": []
  }
 ],
 "metadata": {
  "kernelspec": {
   "display_name": "Python 3 (ipykernel)",
   "language": "python",
   "name": "python3"
  },
  "language_info": {
   "codemirror_mode": {
    "name": "ipython",
    "version": 3
   },
   "file_extension": ".py",
   "mimetype": "text/x-python",
   "name": "python",
   "nbconvert_exporter": "python",
   "pygments_lexer": "ipython3",
   "version": "3.13.5"
  }
 },
 "nbformat": 4,
 "nbformat_minor": 5
}
