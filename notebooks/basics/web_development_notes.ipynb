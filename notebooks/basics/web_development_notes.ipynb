{
 "cells": [
  {
   "cell_type": "markdown",
   "id": "5243b5c9-c6eb-4d24-8a46-10d6dce165f7",
   "metadata": {},
   "source": [
    "<style>\n",
    "  .card {\n",
    "    width: 350px;\n",
    "    padding: 20px;\n",
    "    background: #f0f8ff;\n",
    "    border: 2px solid #4b9cd3;\n",
    "    border-radius: 15px;\n",
    "    font-family: 'Segoe UI', sans-serif;\n",
    "    box-shadow: 4px 4px 10px rgba(0, 0, 0, 0.1);\n",
    "  }\n",
    "\n",
    "  .card h2 {\n",
    "    color: #4b9cd3;\n",
    "  }\n",
    "\n",
    "  .card p {\n",
    "    color: #333;\n",
    "    line-height: 1.5;\n",
    "  }\n",
    "\n",
    "  .btn {\n",
    "    background-color: #4b9cd3;\n",
    "    color: white;\n",
    "    padding: 10px 20px;\n",
    "    border: none;\n",
    "    border-radius: 8px;\n",
    "    text-decoration: none;\n",
    "    display: inline-block;\n",
    "    margin-top: 10px;\n",
    "    cursor: pointer;\n",
    "  }\n",
    "\n",
    "  .btn:hover {\n",
    "    background-color: #357ca5;\n",
    "  }\n",
    "</style>\n",
    "\n",
    "<div class=\"card\">\n",
    "  <h2>Welcome to My Web Component</h2>\n",
    "  <p>This is an embedded HTML + CSS card inside a Jupyter Notebook. You can style it however you like!</p>\n",
    "  <a href=\"https://github.com/\" target=\"_blank\" class=\"btn\">Visit GitHub</a>\n",
    "</div>\n"
   ]
  },
  {
   "cell_type": "markdown",
   "id": "f4c43227-8df1-4e3d-8176-1f28309af9e1",
   "metadata": {},
   "source": []
  },
  {
   "cell_type": "markdown",
   "id": "bbeb0704-027c-4726-8af7-a9db9e9dcd83",
   "metadata": {},
   "source": [
    "<!-- Inline and Block Elements Demo -->\n",
    "\n",
    "<span style=\"border: 2px solid red;\">This is a span element</span>\n",
    "<em style=\"border: 2px solid blue;\">This is an emphasized text</em>\n",
    "\n",
    "<br><br>\n",
    "\n",
    "<span style=\"border: 2px solid blue;\">This is another span</span>\n",
    "<span style=\"border: 2px solid orangered;\">This is also a span</span>\n",
    " "
   ]
  },
  {
   "cell_type": "code",
   "execution_count": null,
   "id": "943ebc75-a528-4059-b892-ecb88acd5039",
   "metadata": {},
   "outputs": [],
   "source": []
  },
  {
   "cell_type": "markdown",
   "id": "e256b59b-08c6-430f-997c-da0ed2e6ec48",
   "metadata": {},
   "source": [
    "<style>\n",
    "  body {\n",
    "    margin: 0;\n",
    "    height: 100vh;\n",
    "    display: flex;\n",
    "    justify-content: center;\n",
    "    align-items: center;\n",
    "    background-color: #000;\n",
    "  }\n",
    "\n",
    "  .container {\n",
    "    text-align: center;\n",
    "  }\n",
    "\n",
    "  .box {\n",
    "    font-family: 'Anton', sans-serif;\n",
    "    font-size: 100px;\n",
    "    color: white;\n",
    "    letter-spacing: 8px;\n",
    "  }\n",
    "\n",
    "  .footer, .starting, .engine, .rights, .unreal, .lnc {\n",
    "    color: #888;\n",
    "    font-family: Arial, sans-serif;\n",
    "    margin-top: 10px;\n",
    "    font-size: 14px;\n",
    "  }\n",
    "\n",
    "  .starting {\n",
    "    font-size: 24px;\n",
    "    color: white;\n",
    "  }\n",
    "\n",
    "  .start-button {\n",
    "    margin-top: 30px;\n",
    "    padding: 10px 20px;\n",
    "    font-size: 16px;\n",
    "    background-color: #28a745;\n",
    "    color: white;\n",
    "    border: none;\n",
    "    border-radius: 5px;\n",
    "    cursor: pointer;\n",
    "  }\n",
    "\n",
    "  .start-button:hover {\n",
    "    background-color: #218838;\n",
    "  }\n",
    "</style>\n",
    "\n",
    "<div class=\"container\">\n",
    "  <div class=\"box\">KRAFTON</div>\n",
    "  <div class=\"footer\">© 2017 KRAFTON, Inc. All rights reserved.</div>\n",
    "  <div class=\"starting\">Starting...</div>\n",
    "  <div class=\"engine\">Unreal Engine, Copyright 1998-2025, Epic Games, Inc.</div>\n",
    "  <div class=\"rights\">All rights reserved</div>\n",
    "  <div class=\"unreal\">Unreal is a trademark or registered trademark of Epic Games.</div>\n",
    "  <div class=\"lnc\">Inc. in the United States of America and elsewhere</div>\n",
    "  <button class=\"start-button\">Start</button>\n",
    "</div>\n"
   ]
  },
  {
   "cell_type": "markdown",
   "id": "4003a7ec-c7c5-4735-b86b-689ba254aea2",
   "metadata": {},
   "source": [
    "<style>\n",
    "  .login-container {\n",
    "    background-color: white;\n",
    "    padding: 20px;\n",
    "    border-radius: 8px;\n",
    "    box-shadow: 0 4px 8px rgba(0, 0, 0, 0.1);\n",
    "    width: 300px;\n",
    "    margin: 100px auto;\n",
    "    font-family: Arial, sans-serif;\n",
    "  }\n",
    "\n",
    "  h2 {\n",
    "    text-align: center;\n",
    "    color: #333;\n",
    "  }\n",
    "\n",
    "  .input-field {\n",
    "    width: 100%;\n",
    "    padding: 10px;\n",
    "    margin: 10px 0;\n",
    "    border: 1px solid #ccc;\n",
    "    border-radius: 5px;\n",
    "  }\n",
    "\n",
    "  .btn {\n",
    "    width: 100%;\n",
    "    padding: 10px;\n",
    "    background-color: #28a745;\n",
    "    color: white;\n",
    "    border: none;\n",
    "    border-radius: 5px;\n",
    "    cursor: pointer;\n",
    "    font-size: 16px;\n",
    "  }\n",
    "\n",
    "  .btn:hover {\n"
   ]
  },
  {
   "cell_type": "code",
   "execution_count": 5,
   "id": "dcde7697-bdd6-4c97-bf0a-c0e530dbef8a",
   "metadata": {},
   "outputs": [
    {
     "data": {
      "text/html": [
       "\n",
       "<style>\n",
       "  body {\n",
       "    font-family: Arial, sans-serif;\n",
       "    margin: 0;\n",
       "    padding: 0;\n",
       "    display: flex;\n",
       "    justify-content: center;\n",
       "    align-items: center;\n",
       "    height: 100vh;\n",
       "    background: url('images/kraft1.jpg') no-repeat center center fixed;\n",
       "    background-size: cover;\n",
       "  }\n",
       "\n",
       "  .signup-container {\n",
       "    background-color: white;\n",
       "    padding: 20px;\n",
       "    border-radius: 8px;\n",
       "    box-shadow: 0 4px 8px rgba(0, 0, 0, 0.1);\n",
       "    width: 300px;\n",
       "  }\n",
       "\n",
       "  h2 {\n",
       "    text-align: center;\n",
       "    color: #333;\n",
       "  }\n",
       "\n",
       "  .input-field {\n",
       "    width: 100%;\n",
       "    padding: 10px;\n",
       "    margin: 10px 0;\n",
       "    border: 1px solid #ccc;\n",
       "    border-radius: 5px;\n",
       "  }\n",
       "\n",
       "  .btn {\n",
       "    width: 100%;\n",
       "    padding: 10px;\n",
       "    background-color: #28a745;\n",
       "    color: white;\n",
       "    border: none;\n",
       "    border-radius: 5px;\n",
       "    cursor: pointer;\n",
       "    font-size: 16px;\n",
       "  }\n",
       "\n",
       "  .btn:hover {\n",
       "    background-color: #218838;\n",
       "  }\n",
       "\n",
       "  .login-link {\n",
       "    text-align: center;\n",
       "    margin-top: 10px;\n",
       "  }\n",
       "\n",
       "  .login-link a {\n",
       "    color: #007bff;\n",
       "    text-decoration: none;\n",
       "  }\n",
       "</style>\n",
       "\n",
       "<div class=\"signup-container\">\n",
       "  <h2>Signup</h2>\n",
       "  <form>\n",
       "    <input type=\"text\" class=\"input-field\" name=\"username\" placeholder=\"Username\" required />\n",
       "    <input type=\"email\" class=\"input-field\" name=\"email\" placeholder=\"Email\" required />\n",
       "    <input type=\"password\" class=\"input-field\" name=\"password\" placeholder=\"Password\" required />\n",
       "    <input type=\"password\" class=\"input-field\" name=\"confirm_password\" placeholder=\"Confirm Password\" required />\n",
       "    <button type=\"submit\" class=\"btn\">Sign Up</button>\n",
       "  </form>\n",
       "  <div class=\"login-link\">\n",
       "    <p>Already have an account? <a href=\"#\">Login here</a></p>\n",
       "  </div>\n",
       "</div>\n"
      ],
      "text/plain": [
       "<IPython.core.display.HTML object>"
      ]
     },
     "metadata": {},
     "output_type": "display_data"
    }
   ],
   "source": [
    "from IPython.display import display, HTML\n",
    "\n",
    "signup_html = \"\"\"\n",
    "<style>\n",
    "  body {\n",
    "    font-family: Arial, sans-serif;\n",
    "    margin: 0;\n",
    "    padding: 0;\n",
    "    display: flex;\n",
    "    justify-content: center;\n",
    "    align-items: center;\n",
    "    height: 100vh;\n",
    "    background: url('images/kraft1.jpg') no-repeat center center fixed;\n",
    "    background-size: cover;\n",
    "  }\n",
    "\n",
    "  .signup-container {\n",
    "    background-color: white;\n",
    "    padding: 20px;\n",
    "    border-radius: 8px;\n",
    "    box-shadow: 0 4px 8px rgba(0, 0, 0, 0.1);\n",
    "    width: 300px;\n",
    "  }\n",
    "\n",
    "  h2 {\n",
    "    text-align: center;\n",
    "    color: #333;\n",
    "  }\n",
    "\n",
    "  .input-field {\n",
    "    width: 100%;\n",
    "    padding: 10px;\n",
    "    margin: 10px 0;\n",
    "    border: 1px solid #ccc;\n",
    "    border-radius: 5px;\n",
    "  }\n",
    "\n",
    "  .btn {\n",
    "    width: 100%;\n",
    "    padding: 10px;\n",
    "    background-color: #28a745;\n",
    "    color: white;\n",
    "    border: none;\n",
    "    border-radius: 5px;\n",
    "    cursor: pointer;\n",
    "    font-size: 16px;\n",
    "  }\n",
    "\n",
    "  .btn:hover {\n",
    "    background-color: #218838;\n",
    "  }\n",
    "\n",
    "  .login-link {\n",
    "    text-align: center;\n",
    "    margin-top: 10px;\n",
    "  }\n",
    "\n",
    "  .login-link a {\n",
    "    color: #007bff;\n",
    "    text-decoration: none;\n",
    "  }\n",
    "</style>\n",
    "\n",
    "<div class=\"signup-container\">\n",
    "  <h2>Signup</h2>\n",
    "  <form>\n",
    "    <input type=\"text\" class=\"input-field\" name=\"username\" placeholder=\"Username\" required />\n",
    "    <input type=\"email\" class=\"input-field\" name=\"email\" placeholder=\"Email\" required />\n",
    "    <input type=\"password\" class=\"input-field\" name=\"password\" placeholder=\"Password\" required />\n",
    "    <input type=\"password\" class=\"input-field\" name=\"confirm_password\" placeholder=\"Confirm Password\" required />\n",
    "    <button type=\"submit\" class=\"btn\">Sign Up</button>\n",
    "  </form>\n",
    "  <div class=\"login-link\">\n",
    "    <p>Already have an account? <a href=\"#\">Login here</a></p>\n",
    "  </div>\n",
    "</div>\n",
    "\"\"\"\n",
    "\n",
    "display(HTML(signup_html))\n"
   ]
  },
  {
   "cell_type": "markdown",
   "id": "dbad9d49-a3d9-4d27-827f-49b80e708d9a",
   "metadata": {},
   "source": []
  },
  {
   "cell_type": "markdown",
   "id": "6ed15b23-963a-4f9a-9c2b-cd313185cc4f",
   "metadata": {},
   "source": []
  },
  {
   "cell_type": "markdown",
   "id": "67e2126d-0ee9-4e99-9e29-cec691fda18b",
   "metadata": {},
   "source": [
    "from IPython.display import display, HTML\n",
    "\n",
    "login_html = \"\"\"\n",
    "<style>\n",
    "  body {\n",
    "    font-family: Arial, sans-serif;\n",
    "    background-color: #f4f4f4;\n",
    "    margin: 0;\n",
    "    padding: 0;\n",
    "    display: flex;\n",
    "    justify-content: center;\n",
    "    align-items: center;\n",
    "    height: 100vh;\n",
    "  }\n",
    "\n",
    "  .login-container {\n",
    "    background-color: white;\n",
    "    padding: 20px;\n",
    "    border-radius: 8px;\n",
    "    box-shadow: 0 4px 8px rgba(0, 0, 0, 0.1);\n",
    "    width: 300px;\n",
    "  }\n",
    "\n",
    "  h2 {\n",
    "    text-align: center;\n",
    "    color: #333;\n",
    "  }\n",
    "\n",
    "  .input-field {\n",
    "    width: 100%;\n",
    "    padding: 10px;\n",
    "    margin: 10px 0;\n",
    "    border: 1px solid #ccc;\n",
    "    border-radius: 5px;\n",
    "  }\n",
    "\n",
    "  .btn {\n",
    "    width: 100%;\n",
    "    padding: 10px;\n",
    "    background-color: #28a745;\n",
    "    color: white;\n",
    "    border: none;\n",
    "    border-radius: 5px;\n",
    "    cursor: pointer;\n",
    "    font-size: 16px;\n",
    "  }\n",
    "\n",
    "  .btn:hover {\n",
    "    background-color: #218838;\n",
    "  }\n",
    "\n",
    "  .signup-link {\n",
    "    text-align: center;\n",
    "    margin-top: 10px;\n",
    "  }\n",
    "\n",
    "  .signup-link a {\n",
    "    color: #007bff;\n",
    "    text-decoration: none;\n",
    "  }\n",
    "</style>\n",
    "\n",
    "<div class=\"login-container\">\n",
    "  <h2>Login</h2>\n",
    "  <form>\n",
    "    <input type=\"email\" class=\"input-field\" name=\"email\" placeholder=\"Email\" required />\n",
    "    <input type=\"password\" class=\"input-field\" name=\"password\" placeholder=\"Password\" required />\n",
    "    <button type=\"submit\" class=\"btn\">Login</button>\n",
    "  </form>\n",
    "  <div class=\"signup-link\">\n",
    "    <p>Don't have an account? <a href=\"#\">Sign up here</a></p>\n",
    "  </div>\n",
    "</div>\n",
    "\"\"\"\n",
    "\n",
    "display(HTML(login_html))\n"
   ]
  },
  {
   "cell_type": "code",
   "execution_count": 9,
   "id": "36a4f928-eea9-4ed4-a569-c50c7aee13c7",
   "metadata": {},
   "outputs": [
    {
     "name": "stderr",
     "output_type": "stream",
     "text": [
      "C:\\Users\\sahil\\AppData\\Local\\Temp\\ipykernel_10400\\3068744958.py:1: DeprecationWarning: Importing display from IPython.core.display is deprecated since IPython 7.14, please import from IPython.display\n",
      "  from IPython.core.display import display, HTML\n"
     ]
    },
    {
     "data": {
      "text/html": [
       "<h1>Main Heading (h1)</h1><p>This is a paragraph.</p>"
      ],
      "text/plain": [
       "<IPython.core.display.HTML object>"
      ]
     },
     "metadata": {},
     "output_type": "display_data"
    }
   ],
   "source": [
    "from IPython.core.display import display, HTML\n",
    "\n",
    "display(HTML(\"<h1>Main Heading (h1)</h1><p>This is a paragraph.</p>\"))\n",
    "\n"
   ]
  },
  {
   "cell_type": "code",
   "execution_count": 10,
   "id": "1dfc12d9-4481-44e7-9076-67294fb64722",
   "metadata": {},
   "outputs": [
    {
     "name": "stderr",
     "output_type": "stream",
     "text": [
      "C:\\Users\\sahil\\AppData\\Local\\Temp\\ipykernel_10400\\3996564675.py:1: DeprecationWarning: Importing display from IPython.core.display is deprecated since IPython 7.14, please import from IPython.display\n",
      "  from IPython.core.display import display, HTML\n"
     ]
    },
    {
     "data": {
      "text/html": [
       "\n",
       "<form action=\"/login\" method=\"post\">\n",
       "  <label for=\"username\">Username:</label><br>\n",
       "  <input type=\"text\" id=\"username\" name=\"username\"><br>\n",
       "\n",
       "  <label for=\"password\">Password:</label><br>\n",
       "  <input type=\"password\" id=\"password\" name=\"password\"><br><br>\n",
       "\n",
       "  <input type=\"submit\" value=\"Login\">\n",
       "</form>\n"
      ],
      "text/plain": [
       "<IPython.core.display.HTML object>"
      ]
     },
     "metadata": {},
     "output_type": "display_data"
    }
   ],
   "source": [
    "from IPython.core.display import display, HTML\n",
    "\n",
    "form_html = \"\"\"\n",
    "<form action=\"/login\" method=\"post\">\n",
    "  <label for=\"username\">Username:</label><br>\n",
    "  <input type=\"text\" id=\"username\" name=\"username\"><br>\n",
    "\n",
    "  <label for=\"password\">Password:</label><br>\n",
    "  <input type=\"password\" id=\"password\" name=\"password\"><br><br>\n",
    "\n",
    "  <input type=\"submit\" value=\"Login\">\n",
    "</form>\n",
    "\"\"\"\n",
    "\n",
    "display(HTML(form_html))\n"
   ]
  },
  {
   "cell_type": "code",
   "execution_count": 11,
   "id": "a6342478-5aee-4a44-a4ab-380666447478",
   "metadata": {},
   "outputs": [
    {
     "name": "stderr",
     "output_type": "stream",
     "text": [
      "C:\\Users\\sahil\\AppData\\Local\\Temp\\ipykernel_10400\\3502825968.py:1: DeprecationWarning: Importing display from IPython.core.display is deprecated since IPython 7.14, please import from IPython.display\n",
      "  from IPython.core.display import display, HTML\n"
     ]
    },
    {
     "data": {
      "text/html": [
       "\n",
       "<table border=\"1\" cellpadding=\"8\" cellspacing=\"0\">\n",
       "  <tr>\n",
       "    <th>Name</th>\n",
       "    <th>Age</th>\n",
       "  </tr>\n",
       "  <tr>\n",
       "    <td>Sahil</td>\n",
       "    <td>22</td>\n",
       "  </tr>\n",
       "</table>\n"
      ],
      "text/plain": [
       "<IPython.core.display.HTML object>"
      ]
     },
     "metadata": {},
     "output_type": "display_data"
    }
   ],
   "source": [
    "from IPython.core.display import display, HTML\n",
    "\n",
    "table_html = \"\"\"\n",
    "<table border=\"1\" cellpadding=\"8\" cellspacing=\"0\">\n",
    "  <tr>\n",
    "    <th>Name</th>\n",
    "    <th>Age</th>\n",
    "  </tr>\n",
    "  <tr>\n",
    "    <td>Sahil</td>\n",
    "    <td>22</td>\n",
    "  </tr>\n",
    "</table>\n",
    "\"\"\"\n",
    "\n",
    "display(HTML(table_html))\n"
   ]
  },
  {
   "cell_type": "code",
   "execution_count": 12,
   "id": "fee540ba-beff-4a59-acf8-4cc8148233e9",
   "metadata": {},
   "outputs": [
    {
     "name": "stderr",
     "output_type": "stream",
     "text": [
      "C:\\Users\\sahil\\AppData\\Local\\Temp\\ipykernel_10400\\2356580883.py:1: DeprecationWarning: Importing display from IPython.core.display is deprecated since IPython 7.14, please import from IPython.display\n",
      "  from IPython.core.display import display, HTML\n"
     ]
    },
    {
     "data": {
      "text/html": [
       "\n",
       "<a href=\"https://www.google.com\" target=\"_blank\">Visit Google</a>\n",
       "<br><br>\n",
       "<img src=\"https://via.placeholder.com/150\" alt=\"Placeholder Image\">\n"
      ],
      "text/plain": [
       "<IPython.core.display.HTML object>"
      ]
     },
     "metadata": {},
     "output_type": "display_data"
    }
   ],
   "source": [
    "from IPython.core.display import display, HTML\n",
    "\n",
    "link_img_html = \"\"\"\n",
    "<a href=\"https://www.google.com\" target=\"_blank\">Visit Google</a>\n",
    "<br><br>\n",
    "<img src=\"https://via.placeholder.com/150\" alt=\"Placeholder Image\">\n",
    "\"\"\"\n",
    "\n",
    "display(HTML(link_img_html))\n"
   ]
  },
  {
   "cell_type": "code",
   "execution_count": 13,
   "id": "a4cd6ac0-f298-43be-97be-872dac31411d",
   "metadata": {},
   "outputs": [
    {
     "name": "stderr",
     "output_type": "stream",
     "text": [
      "C:\\Users\\sahil\\AppData\\Local\\Temp\\ipykernel_10400\\890135510.py:1: DeprecationWarning: Importing display from IPython.core.display is deprecated since IPython 7.14, please import from IPython.display\n",
      "  from IPython.core.display import display, HTML\n"
     ]
    },
    {
     "data": {
      "text/html": [
       "\n",
       "<iframe width=\"300\" height=\"200\"\n",
       "  src=\"https://www.youtube.com/embed/dQw4w9WgXcQ\"\n",
       "  frameborder=\"0\"\n",
       "  allowfullscreen>\n",
       "</iframe>\n"
      ],
      "text/plain": [
       "<IPython.core.display.HTML object>"
      ]
     },
     "metadata": {},
     "output_type": "display_data"
    }
   ],
   "source": [
    "from IPython.core.display import display, HTML\n",
    "\n",
    "video_html = \"\"\"\n",
    "<iframe width=\"300\" height=\"200\"\n",
    "  src=\"https://www.youtube.com/embed/dQw4w9WgXcQ\"\n",
    "  frameborder=\"0\"\n",
    "  allowfullscreen>\n",
    "</iframe>\n",
    "\"\"\"\n",
    "\n",
    "display(HTML(video_html))\n"
   ]
  },
  {
   "cell_type": "code",
   "execution_count": 14,
   "id": "d05ddc14-08c2-4d2b-8e4f-1ef9616e4f48",
   "metadata": {},
   "outputs": [
    {
     "name": "stderr",
     "output_type": "stream",
     "text": [
      "C:\\Users\\sahil\\AppData\\Local\\Temp\\ipykernel_10400\\2929690291.py:1: DeprecationWarning: Importing display from IPython.core.display is deprecated since IPython 7.14, please import from IPython.display\n",
      "  from IPython.core.display import display, HTML\n"
     ]
    },
    {
     "data": {
      "text/html": [
       "\n",
       "<h3>Unordered List</h3>\n",
       "<ul>\n",
       "  <li>HTML</li>\n",
       "  <li>CSS</li>\n",
       "  <li>JavaScript</li>\n",
       "</ul>\n",
       "\n",
       "<h3>Ordered List</h3>\n",
       "<ol>\n",
       "  <li>Login</li>\n",
       "  <li>Dashboard</li>\n",
       "  <li>Logout</li>\n",
       "</ol>\n"
      ],
      "text/plain": [
       "<IPython.core.display.HTML object>"
      ]
     },
     "metadata": {},
     "output_type": "display_data"
    }
   ],
   "source": [
    "from IPython.core.display import display, HTML\n",
    "\n",
    "list_html = \"\"\"\n",
    "<h3>Unordered List</h3>\n",
    "<ul>\n",
    "  <li>HTML</li>\n",
    "  <li>CSS</li>\n",
    "  <li>JavaScript</li>\n",
    "</ul>\n",
    "\n",
    "<h3>Ordered List</h3>\n",
    "<ol>\n",
    "  <li>Login</li>\n",
    "  <li>Dashboard</li>\n",
    "  <li>Logout</li>\n",
    "</ol>\n",
    "\"\"\"\n",
    "\n",
    "display(HTML(list_html))\n"
   ]
  },
  {
   "cell_type": "code",
   "execution_count": 3,
   "id": "2a2d25e7-b2f8-46ef-b2a9-0ed26011e137",
   "metadata": {},
   "outputs": [
    {
     "name": "stderr",
     "output_type": "stream",
     "text": [
      "C:\\Users\\sahil\\AppData\\Local\\Temp\\ipykernel_2864\\551637126.py:1: DeprecationWarning: Importing display from IPython.core.display is deprecated since IPython 7.14, please import from IPython.display\n",
      "  from IPython.core.display import display, HTML\n"
     ]
    },
    {
     "data": {
      "text/html": [
       "\n",
       "<!DOCTYPE html>\n",
       "<html lang=\"en\">\n",
       "<head>\n",
       "    <meta charset=\"UTF-8\">\n",
       "    <meta name=\"viewport\" content=\"width=device-width, initial-scale=1.0\">\n",
       "    <title>CSS Tutorial</title>\n",
       "    <style>\n",
       "        p {\n",
       "            color: purple;\n",
       "            background-color: green;\n",
       "            padding: 10px;\n",
       "            font-family: Arial, sans-serif;\n",
       "        }\n",
       "        h1 {\n",
       "            color: blue;\n",
       "            font-size: 24px;\n",
       "        }\n",
       "    </style>\n",
       "</head>\n",
       "<body>\n",
       "    <h1>This is a CSS Tutorial</h1>\n",
       "    <!-- <p style=\"color: red;background-color: yellow;\">This tutorial will teach you everything you need to know about HTML/CSS</p> -->\n",
       "    <p>This tutorial will teach you everything you need to know about HTML/CSS</p>\n",
       "</body>\n",
       "</html>\n"
      ],
      "text/plain": [
       "<IPython.core.display.HTML object>"
      ]
     },
     "metadata": {},
     "output_type": "display_data"
    }
   ],
   "source": [
    "from IPython.core.display import display, HTML\n",
    "\n",
    "css_tutorial_html = \"\"\"\n",
    "<!DOCTYPE html>\n",
    "<html lang=\"en\">\n",
    "<head>\n",
    "    <meta charset=\"UTF-8\">\n",
    "    <meta name=\"viewport\" content=\"width=device-width, initial-scale=1.0\">\n",
    "    <title>CSS Tutorial</title>\n",
    "    <style>\n",
    "        p {\n",
    "            color: purple;\n",
    "            background-color: green;\n",
    "            padding: 10px;\n",
    "            font-family: Arial, sans-serif;\n",
    "        }\n",
    "        h1 {\n",
    "            color: blue;\n",
    "            font-size: 24px;\n",
    "        }\n",
    "    </style>\n",
    "</head>\n",
    "<body>\n",
    "    <h1>This is a CSS Tutorial</h1>\n",
    "    <!-- <p style=\"color: red;background-color: yellow;\">This tutorial will teach you everything you need to know about HTML/CSS</p> -->\n",
    "    <p>This tutorial will teach you everything you need to know about HTML/CSS</p>\n",
    "</body>\n",
    "</html>\n",
    "\"\"\"\n",
    "\n",
    "display(HTML(css_tutorial_html))\n"
   ]
  },
  {
   "cell_type": "code",
   "execution_count": 4,
   "id": "cdcfdaf4-3f31-4cff-bdf1-ccab23279087",
   "metadata": {},
   "outputs": [
    {
     "name": "stderr",
     "output_type": "stream",
     "text": [
      "C:\\Users\\sahil\\AppData\\Local\\Temp\\ipykernel_2864\\3174135209.py:1: DeprecationWarning: Importing display from IPython.core.display is deprecated since IPython 7.14, please import from IPython.display\n",
      "  from IPython.core.display import display, HTML\n"
     ]
    },
    {
     "data": {
      "text/html": [
       "\n",
       "<!DOCTYPE html>\n",
       "<html lang=\"en\">\n",
       "<head>\n",
       "    <meta charset=\"UTF-8\">\n",
       "    <meta name=\"viewport\" content=\"width=device-width, initial-scale=1.0\">\n",
       "    <title>CSS Selectors</title>\n",
       "    <style>\n",
       "        p {\n",
       "            border: 2px solid rebeccapurple;\n",
       "            padding: 5px;\n",
       "        }\n",
       "        /* Id selector */\n",
       "        #firstpara {\n",
       "            color: red;\n",
       "        }\n",
       "        /* Class selector */\n",
       "        .bgBlue {\n",
       "            color: green;\n",
       "            background-color: black;\n",
       "        }\n",
       "        /* Multiple element selector */\n",
       "        footer, span {\n",
       "            background-color: pink;\n",
       "            padding: 5px;\n",
       "            display: inline-block;\n",
       "            margin-top: 5px;\n",
       "        }\n",
       "    </style>\n",
       "</head>\n",
       "<body>\n",
       "    <h3>CSS Selectors</h3>\n",
       "    <p id=\"firstpara\">This is a simple paragraph to demonstrate CSS selectors</p>\n",
       "    <p id=\"secondPara\" class=\"bgBlue\">This is another paragraph with class \"bgBlue\"</p>\n",
       "    <div>\n",
       "        <p>This is yet another paragraph inside a div</p>\n",
       "        <span>This is a span element</span>\n",
       "        <footer>This is a footer element</footer>\n",
       "    </div>\n",
       "</body>\n",
       "</html>\n"
      ],
      "text/plain": [
       "<IPython.core.display.HTML object>"
      ]
     },
     "metadata": {},
     "output_type": "display_data"
    }
   ],
   "source": [
    "from IPython.core.display import display, HTML\n",
    "\n",
    "css_selectors_html = \"\"\"\n",
    "<!DOCTYPE html>\n",
    "<html lang=\"en\">\n",
    "<head>\n",
    "    <meta charset=\"UTF-8\">\n",
    "    <meta name=\"viewport\" content=\"width=device-width, initial-scale=1.0\">\n",
    "    <title>CSS Selectors</title>\n",
    "    <style>\n",
    "        p {\n",
    "            border: 2px solid rebeccapurple;\n",
    "            padding: 5px;\n",
    "        }\n",
    "        /* Id selector */\n",
    "        #firstpara {\n",
    "            color: red;\n",
    "        }\n",
    "        /* Class selector */\n",
    "        .bgBlue {\n",
    "            color: green;\n",
    "            background-color: black;\n",
    "        }\n",
    "        /* Multiple element selector */\n",
    "        footer, span {\n",
    "            background-color: pink;\n",
    "            padding: 5px;\n",
    "            display: inline-block;\n",
    "            margin-top: 5px;\n",
    "        }\n",
    "    </style>\n",
    "</head>\n",
    "<body>\n",
    "    <h3>CSS Selectors</h3>\n",
    "    <p id=\"firstpara\">This is a simple paragraph to demonstrate CSS selectors</p>\n",
    "    <p id=\"secondPara\" class=\"bgBlue\">This is another paragraph with class \"bgBlue\"</p>\n",
    "    <div>\n",
    "        <p>This is yet another paragraph inside a div</p>\n",
    "        <span>This is a span element</span>\n",
    "        <footer>This is a footer element</footer>\n",
    "    </div>\n",
    "</body>\n",
    "</html>\n",
    "\"\"\"\n",
    "\n",
    "display(HTML(css_selectors_html))\n"
   ]
  },
  {
   "cell_type": "code",
   "execution_count": 5,
   "id": "ab73e05c-0dbf-4d68-a0fa-5622f29fe7c2",
   "metadata": {},
   "outputs": [
    {
     "name": "stderr",
     "output_type": "stream",
     "text": [
      "C:\\Users\\sahil\\AppData\\Local\\Temp\\ipykernel_2864\\891464908.py:1: DeprecationWarning: Importing display from IPython.core.display is deprecated since IPython 7.14, please import from IPython.display\n",
      "  from IPython.core.display import display, HTML\n"
     ]
    },
    {
     "data": {
      "text/html": [
       "\n",
       "<!DOCTYPE html>\n",
       "<html lang=\"en\">\n",
       "<head>\n",
       "    <meta charset=\"UTF-8\">\n",
       "    <meta name=\"viewport\" content=\"width=device-width, initial-scale=1.0\">\n",
       "    <title>Developer Tools</title>\n",
       "    <style>\n",
       "        p {\n",
       "            color: purple;\n",
       "            font-style: italic;\n",
       "            background-color: rosybrown;\n",
       "            padding: 10px;\n",
       "            border-radius: 5px;\n",
       "        }\n",
       "        h1 {\n",
       "            color: darkblue;\n",
       "        }\n",
       "    </style>\n",
       "</head>\n",
       "<body>\n",
       "    <h1>Developer Tools Tutorial</h1>\n",
       "    <p>This is a tutorial for Chrome Developer Tools</p>\n",
       "</body>\n",
       "</html>\n"
      ],
      "text/plain": [
       "<IPython.core.display.HTML object>"
      ]
     },
     "metadata": {},
     "output_type": "display_data"
    }
   ],
   "source": [
    "from IPython.core.display import display, HTML\n",
    "\n",
    "developer_tools_html = \"\"\"\n",
    "<!DOCTYPE html>\n",
    "<html lang=\"en\">\n",
    "<head>\n",
    "    <meta charset=\"UTF-8\">\n",
    "    <meta name=\"viewport\" content=\"width=device-width, initial-scale=1.0\">\n",
    "    <title>Developer Tools</title>\n",
    "    <style>\n",
    "        p {\n",
    "            color: purple;\n",
    "            font-style: italic;\n",
    "            background-color: rosybrown;\n",
    "            padding: 10px;\n",
    "            border-radius: 5px;\n",
    "        }\n",
    "        h1 {\n",
    "            color: darkblue;\n",
    "        }\n",
    "    </style>\n",
    "</head>\n",
    "<body>\n",
    "    <h1>Developer Tools Tutorial</h1>\n",
    "    <p>This is a tutorial for Chrome Developer Tools</p>\n",
    "</body>\n",
    "</html>\n",
    "\"\"\"\n",
    "\n",
    "display(HTML(developer_tools_html))\n"
   ]
  },
  {
   "cell_type": "code",
   "execution_count": 6,
   "id": "054a5d85-c526-40d3-b7e9-00e5f94d03dd",
   "metadata": {},
   "outputs": [
    {
     "name": "stderr",
     "output_type": "stream",
     "text": [
      "C:\\Users\\sahil\\AppData\\Local\\Temp\\ipykernel_2864\\648337141.py:1: DeprecationWarning: Importing display from IPython.core.display is deprecated since IPython 7.14, please import from IPython.display\n",
      "  from IPython.core.display import display, HTML\n"
     ]
    },
    {
     "data": {
      "text/html": [
       "\n",
       "<!DOCTYPE html>\n",
       "<html lang=\"en\">\n",
       "<head>\n",
       "    <meta charset=\"UTF-8\">\n",
       "    <meta name=\"viewport\" content=\"width=device-width, initial-scale=1.0\">\n",
       "    <title>CSS Fonts</title>\n",
       "    <style>\n",
       "        p {\n",
       "            font-family: Arial, Helvetica, sans-serif;\n",
       "            font-size: 23px; /* px = 1/96th of an inch */\n",
       "            line-height: 1.3em;\n",
       "        }\n",
       "        span {\n",
       "            font-weight: bold;\n",
       "            font-style: italic;\n",
       "        }\n",
       "        h1 {\n",
       "            color: #333;\n",
       "        }\n",
       "    </style>\n",
       "</head>\n",
       "<body>\n",
       "    <h1>CSS Fonts</h1>\n",
       "    <p>Let's play with <span>fonts</span>. It is very exciting!</p>\n",
       "</body>\n",
       "</html>\n"
      ],
      "text/plain": [
       "<IPython.core.display.HTML object>"
      ]
     },
     "metadata": {},
     "output_type": "display_data"
    }
   ],
   "source": [
    "from IPython.core.display import display, HTML\n",
    "\n",
    "css_fonts_html = \"\"\"\n",
    "<!DOCTYPE html>\n",
    "<html lang=\"en\">\n",
    "<head>\n",
    "    <meta charset=\"UTF-8\">\n",
    "    <meta name=\"viewport\" content=\"width=device-width, initial-scale=1.0\">\n",
    "    <title>CSS Fonts</title>\n",
    "    <style>\n",
    "        p {\n",
    "            font-family: Arial, Helvetica, sans-serif;\n",
    "            font-size: 23px; /* px = 1/96th of an inch */\n",
    "            line-height: 1.3em;\n",
    "        }\n",
    "        span {\n",
    "            font-weight: bold;\n",
    "            font-style: italic;\n",
    "        }\n",
    "        h1 {\n",
    "            color: #333;\n",
    "        }\n",
    "    </style>\n",
    "</head>\n",
    "<body>\n",
    "    <h1>CSS Fonts</h1>\n",
    "    <p>Let's play with <span>fonts</span>. It is very exciting!</p>\n",
    "</body>\n",
    "</html>\n",
    "\"\"\"\n",
    "\n",
    "display(HTML(css_fonts_html))\n"
   ]
  },
  {
   "cell_type": "code",
   "execution_count": 7,
   "id": "021e1cf2-08ca-406d-ad18-5c0c11c7b8c1",
   "metadata": {},
   "outputs": [
    {
     "data": {
      "text/html": [
       "\n",
       "<style>\n",
       "    #firstPara {\n",
       "        color: blueviolet;\n",
       "    }\n",
       "    #secondPara {\n",
       "        color: rgb(223, 130, 54); /* color by RGB value */\n",
       "    }\n",
       "    #thirdPara {\n",
       "        color: #ff88ff; /* color by HEX value */\n",
       "    }\n",
       "</style>\n",
       "\n",
       "<h2>This is my first box</h2>\n",
       "<p id=\"firstPara\">This is a paragraph from the first box</p>\n",
       "\n",
       "<h2>This is my second box</h2>\n",
       "<p id=\"secondPara\">This is a paragraph from the second box</p>\n",
       "\n",
       "<h2>This is my third box</h2>\n",
       "<p id=\"thirdPara\">This is a paragraph from the third box</p>\n"
      ],
      "text/plain": [
       "<IPython.core.display.HTML object>"
      ]
     },
     "metadata": {},
     "output_type": "display_data"
    }
   ],
   "source": [
    "from IPython.display import HTML, display\n",
    "\n",
    "color_demo_html = \"\"\"\n",
    "<style>\n",
    "    #firstPara {\n",
    "        color: blueviolet;\n",
    "    }\n",
    "    #secondPara {\n",
    "        color: rgb(223, 130, 54); /* color by RGB value */\n",
    "    }\n",
    "    #thirdPara {\n",
    "        color: #ff88ff; /* color by HEX value */\n",
    "    }\n",
    "</style>\n",
    "\n",
    "<h2>This is my first box</h2>\n",
    "<p id=\"firstPara\">This is a paragraph from the first box</p>\n",
    "\n",
    "<h2>This is my second box</h2>\n",
    "<p id=\"secondPara\">This is a paragraph from the second box</p>\n",
    "\n",
    "<h2>This is my third box</h2>\n",
    "<p id=\"thirdPara\">This is a paragraph from the third box</p>\n",
    "\"\"\"\n",
    "\n",
    "display(HTML(color_demo_html))\n"
   ]
  },
  {
   "cell_type": "code",
   "execution_count": 8,
   "id": "9d7df30f-6c6b-4387-96a0-190a53c88b88",
   "metadata": {},
   "outputs": [
    {
     "data": {
      "text/html": [
       "<h2 style='color: teal;'>Welcome to My Page</h2>"
      ],
      "text/plain": [
       "<IPython.core.display.HTML object>"
      ]
     },
     "execution_count": 8,
     "metadata": {},
     "output_type": "execute_result"
    }
   ],
   "source": [
    "from IPython.display import HTML\n",
    "\n",
    "HTML(\"<h2 style='color: teal;'>Welcome to My Page</h2>\")\n"
   ]
  },
  {
   "cell_type": "code",
   "execution_count": 9,
   "id": "87e2d749-0503-4ac1-96d7-ba49e09a6755",
   "metadata": {},
   "outputs": [
    {
     "data": {
      "text/html": [
       "<p style='font-size:16px; color: gray;'>This is a styled paragraph with inline CSS.</p>"
      ],
      "text/plain": [
       "<IPython.core.display.HTML object>"
      ]
     },
     "execution_count": 9,
     "metadata": {},
     "output_type": "execute_result"
    }
   ],
   "source": [
    "HTML(\"<p style='font-size:16px; color: gray;'>This is a styled paragraph with inline CSS.</p>\")\n"
   ]
  },
  {
   "cell_type": "code",
   "execution_count": 10,
   "id": "472a65a3-dfa0-464d-90c0-7038ee6cb6c6",
   "metadata": {},
   "outputs": [
    {
     "data": {
      "text/html": [
       "<button style='padding:10px; background: orange; color: white; border: none; border-radius: 5px;'>Click Me</button>"
      ],
      "text/plain": [
       "<IPython.core.display.HTML object>"
      ]
     },
     "execution_count": 10,
     "metadata": {},
     "output_type": "execute_result"
    }
   ],
   "source": [
    "HTML(\"<button style='padding:10px; background: orange; color: white; border: none; border-radius: 5px;'>Click Me</button>\")\n"
   ]
  },
  {
   "cell_type": "code",
   "execution_count": 11,
   "id": "c0d81e04-dd2e-4c28-8e26-42ee9b0164c6",
   "metadata": {},
   "outputs": [
    {
     "data": {
      "text/html": [
       "<span style='color:red;'>Red</span> <span style='color:green;'>Green</span> <span style='color:blue;'>Blue</span>"
      ],
      "text/plain": [
       "<IPython.core.display.HTML object>"
      ]
     },
     "execution_count": 11,
     "metadata": {},
     "output_type": "execute_result"
    }
   ],
   "source": [
    "HTML(\"<span style='color:red;'>Red</span> <span style='color:green;'>Green</span> <span style='color:blue;'>Blue</span>\")\n"
   ]
  },
  {
   "cell_type": "code",
   "execution_count": 12,
   "id": "3fb621e2-aeaa-4019-b04f-276297cfad7f",
   "metadata": {},
   "outputs": [
    {
     "data": {
      "text/html": [
       "\n",
       "<div style=\"border:1px solid #ccc; border-radius:10px; width:200px; padding:15px; text-align:center; font-family:sans-serif;\">\n",
       "    <img src=\"https://via.placeholder.com/80\" style=\"border-radius:50%;\" />\n",
       "    <h3 style=\"margin:10px 0;\">John Doe</h3>\n",
       "    <p style=\"color:gray; font-size:14px;\">Web Developer</p>\n",
       "</div>\n"
      ],
      "text/plain": [
       "<IPython.core.display.HTML object>"
      ]
     },
     "execution_count": 12,
     "metadata": {},
     "output_type": "execute_result"
    }
   ],
   "source": [
    "from IPython.display import HTML\n",
    "\n",
    "HTML(\"\"\"\n",
    "<div style=\"border:1px solid #ccc; border-radius:10px; width:200px; padding:15px; text-align:center; font-family:sans-serif;\">\n",
    "    <img src=\"https://via.placeholder.com/80\" style=\"border-radius:50%;\" />\n",
    "    <h3 style=\"margin:10px 0;\">John Doe</h3>\n",
    "    <p style=\"color:gray; font-size:14px;\">Web Developer</p>\n",
    "</div>\n",
    "\"\"\")\n"
   ]
  },
  {
   "cell_type": "code",
   "execution_count": 13,
   "id": "b2b193bc-1862-4c27-ac0e-c844a24ffe85",
   "metadata": {},
   "outputs": [
    {
     "data": {
      "text/html": [
       "\n",
       "<label for=\"name\">Name:</label><br>\n",
       "<input type=\"text\" id=\"name\" placeholder=\"Enter your name\" style=\"padding:8px; width:200px; border:1px solid #ccc; border-radius:5px;\" />\n"
      ],
      "text/plain": [
       "<IPython.core.display.HTML object>"
      ]
     },
     "execution_count": 13,
     "metadata": {},
     "output_type": "execute_result"
    }
   ],
   "source": [
    "HTML(\"\"\"\n",
    "<label for=\"name\">Name:</label><br>\n",
    "<input type=\"text\" id=\"name\" placeholder=\"Enter your name\" style=\"padding:8px; width:200px; border:1px solid #ccc; border-radius:5px;\" />\n",
    "\"\"\")\n"
   ]
  },
  {
   "cell_type": "code",
   "execution_count": 14,
   "id": "5d696ef5-a3f1-49be-8fec-a671927f8031",
   "metadata": {},
   "outputs": [
    {
     "data": {
      "text/html": [
       "\n",
       "<div style=\"background-color:#d1e7dd; color:#0f5132; padding:10px; border-left:5px solid #0f5132; border-radius:4px;\">\n",
       "    ✅ Successfully saved your data!\n",
       "</div>\n"
      ],
      "text/plain": [
       "<IPython.core.display.HTML object>"
      ]
     },
     "execution_count": 14,
     "metadata": {},
     "output_type": "execute_result"
    }
   ],
   "source": [
    "HTML(\"\"\"\n",
    "<div style=\"background-color:#d1e7dd; color:#0f5132; padding:10px; border-left:5px solid #0f5132; border-radius:4px;\">\n",
    "    ✅ Successfully saved your data!\n",
    "</div>\n",
    "\"\"\")\n"
   ]
  },
  {
   "cell_type": "code",
   "execution_count": 15,
   "id": "7fac1bf9-9aed-4ecf-8c28-d5774895f69a",
   "metadata": {},
   "outputs": [
    {
     "data": {
      "text/html": [
       "\n",
       "<button style=\"padding:10px; border:none; border-radius:5px; background:#007bff; color:white;\">📧 Email</button>\n",
       "<button style=\"padding:10px; border:none; border-radius:5px; background:#28a745; color:white;\">📞 Call</button>\n"
      ],
      "text/plain": [
       "<IPython.core.display.HTML object>"
      ]
     },
     "execution_count": 15,
     "metadata": {},
     "output_type": "execute_result"
    }
   ],
   "source": [
    "HTML(\"\"\"\n",
    "<button style=\"padding:10px; border:none; border-radius:5px; background:#007bff; color:white;\">📧 Email</button>\n",
    "<button style=\"padding:10px; border:none; border-radius:5px; background:#28a745; color:white;\">📞 Call</button>\n",
    "\"\"\")\n"
   ]
  },
  {
   "cell_type": "code",
   "execution_count": 16,
   "id": "5f69a965-099f-4aa8-9d5f-c6b780449ae4",
   "metadata": {},
   "outputs": [
    {
     "data": {
      "text/html": [
       "\n",
       "<div style=\"font-size:24px; color:gold;\">⭐ ⭐ ⭐ ⭐ ☆</div>\n"
      ],
      "text/plain": [
       "<IPython.core.display.HTML object>"
      ]
     },
     "execution_count": 16,
     "metadata": {},
     "output_type": "execute_result"
    }
   ],
   "source": [
    "HTML(\"\"\"\n",
    "<div style=\"font-size:24px; color:gold;\">⭐ ⭐ ⭐ ⭐ ☆</div>\n",
    "\"\"\")\n"
   ]
  },
  {
   "cell_type": "code",
   "execution_count": 17,
   "id": "f12babe5-4ebf-4a69-8213-44137395e107",
   "metadata": {},
   "outputs": [
    {
     "data": {
      "text/html": [
       "\n",
       "<div style=\"width:280px; margin:auto; font-family:sans-serif; padding:20px; border-radius:10px; box-shadow:0 0 10px rgba(0,0,0,0.1); background:white;\">\n",
       "  <h3 style=\"text-align:center; margin-bottom:20px;\">Login</h3>\n",
       "  <form>\n",
       "    <input type=\"email\" placeholder=\"Email\" required style=\"width:100%; padding:10px; margin-bottom:10px; border:1px solid #ccc; border-radius:5px;\" />\n",
       "    <input type=\"password\" placeholder=\"Password\" required style=\"width:100%; padding:10px; margin-bottom:10px; border:1px solid #ccc; border-radius:5px;\" />\n",
       "    <button type=\"submit\" style=\"width:100%; padding:10px; background:#28a745; color:white; border:none; border-radius:5px;\">Login</button>\n",
       "  </form>\n",
       "</div>\n"
      ],
      "text/plain": [
       "<IPython.core.display.HTML object>"
      ]
     },
     "execution_count": 17,
     "metadata": {},
     "output_type": "execute_result"
    }
   ],
   "source": [
    "from IPython.display import HTML\n",
    "\n",
    "HTML(\"\"\"\n",
    "<div style=\"width:280px; margin:auto; font-family:sans-serif; padding:20px; border-radius:10px; box-shadow:0 0 10px rgba(0,0,0,0.1); background:white;\">\n",
    "  <h3 style=\"text-align:center; margin-bottom:20px;\">Login</h3>\n",
    "  <form>\n",
    "    <input type=\"email\" placeholder=\"Email\" required style=\"width:100%; padding:10px; margin-bottom:10px; border:1px solid #ccc; border-radius:5px;\" />\n",
    "    <input type=\"password\" placeholder=\"Password\" required style=\"width:100%; padding:10px; margin-bottom:10px; border:1px solid #ccc; border-radius:5px;\" />\n",
    "    <button type=\"submit\" style=\"width:100%; padding:10px; background:#28a745; color:white; border:none; border-radius:5px;\">Login</button>\n",
    "  </form>\n",
    "</div>\n",
    "\"\"\")\n"
   ]
  },
  {
   "cell_type": "code",
   "execution_count": 18,
   "id": "49148f14-9a0f-4e19-81ab-38cb3ac209e7",
   "metadata": {},
   "outputs": [
    {
     "data": {
      "text/html": [
       "\n",
       "<div style=\"width:280px; margin:auto; font-family:sans-serif; padding:20px; border-radius:10px; box-shadow:0 0 10px rgba(0,0,0,0.1); background:white;\">\n",
       "  <h3 style=\"text-align:center; margin-bottom:15px;\">Forgot Password</h3>\n",
       "  <form>\n",
       "    <input type=\"email\" placeholder=\"Enter your email\" required style=\"width:100%; padding:10px; margin-bottom:15px; border:1px solid #ccc; border-radius:5px;\" />\n",
       "    <button type=\"submit\" style=\"width:100%; padding:10px; background:#ffc107; color:black; border:none; border-radius:5px;\">Send Reset Link</button>\n",
       "  </form>\n",
       "</div>\n"
      ],
      "text/plain": [
       "<IPython.core.display.HTML object>"
      ]
     },
     "execution_count": 18,
     "metadata": {},
     "output_type": "execute_result"
    }
   ],
   "source": [
    "HTML(\"\"\"\n",
    "<div style=\"width:280px; margin:auto; font-family:sans-serif; padding:20px; border-radius:10px; box-shadow:0 0 10px rgba(0,0,0,0.1); background:white;\">\n",
    "  <h3 style=\"text-align:center; margin-bottom:15px;\">Forgot Password</h3>\n",
    "  <form>\n",
    "    <input type=\"email\" placeholder=\"Enter your email\" required style=\"width:100%; padding:10px; margin-bottom:15px; border:1px solid #ccc; border-radius:5px;\" />\n",
    "    <button type=\"submit\" style=\"width:100%; padding:10px; background:#ffc107; color:black; border:none; border-radius:5px;\">Send Reset Link</button>\n",
    "  </form>\n",
    "</div>\n",
    "\"\"\")\n"
   ]
  },
  {
   "cell_type": "code",
   "execution_count": 19,
   "id": "db37b9e1-15eb-466b-b667-32e6d223a723",
   "metadata": {},
   "outputs": [
    {
     "data": {
      "text/html": [
       "\n",
       "<div style=\"\n",
       "  height: 100vh;\n",
       "  display: flex;\n",
       "  justify-content: center;\n",
       "  align-items: center;\n",
       "  background: linear-gradient(to right, #00c6ff, #0072ff);\n",
       "  font-family: Arial, sans-serif;\n",
       "\">\n",
       "  <div style=\"\n",
       "    background: white;\n",
       "    padding: 20px;\n",
       "    border-radius: 10px;\n",
       "    width: 250px;\n",
       "    box-shadow: 0 4px 6px rgba(0,0,0,0.1);\n",
       "  \">\n",
       "    <h3 style=\"text-align:center; color:#333;\">Login</h3>\n",
       "    <input type=\"text\" placeholder=\"Username\" style=\"width:100%; padding:8px; margin:8px 0; border:1px solid #ccc; border-radius:4px;\">\n",
       "    <input type=\"password\" placeholder=\"Password\" style=\"width:100%; padding:8px; margin:8px 0; border:1px solid #ccc; border-radius:4px;\">\n",
       "    <button style=\"width:100%; padding:8px; background:#0072ff; color:white; border:none; border-radius:4px;\">Login</button>\n",
       "  </div>\n",
       "</div>\n"
      ],
      "text/plain": [
       "<IPython.core.display.HTML object>"
      ]
     },
     "execution_count": 19,
     "metadata": {},
     "output_type": "execute_result"
    }
   ],
   "source": [
    "from IPython.display import HTML\n",
    "\n",
    "HTML(\"\"\"\n",
    "<div style=\"\n",
    "  height: 100vh;\n",
    "  display: flex;\n",
    "  justify-content: center;\n",
    "  align-items: center;\n",
    "  background: linear-gradient(to right, #00c6ff, #0072ff);\n",
    "  font-family: Arial, sans-serif;\n",
    "\">\n",
    "  <div style=\"\n",
    "    background: white;\n",
    "    padding: 20px;\n",
    "    border-radius: 10px;\n",
    "    width: 250px;\n",
    "    box-shadow: 0 4px 6px rgba(0,0,0,0.1);\n",
    "  \">\n",
    "    <h3 style=\"text-align:center; color:#333;\">Login</h3>\n",
    "    <input type=\"text\" placeholder=\"Username\" style=\"width:100%; padding:8px; margin:8px 0; border:1px solid #ccc; border-radius:4px;\">\n",
    "    <input type=\"password\" placeholder=\"Password\" style=\"width:100%; padding:8px; margin:8px 0; border:1px solid #ccc; border-radius:4px;\">\n",
    "    <button style=\"width:100%; padding:8px; background:#0072ff; color:white; border:none; border-radius:4px;\">Login</button>\n",
    "  </div>\n",
    "</div>\n",
    "\"\"\")\n"
   ]
  },
  {
   "cell_type": "code",
   "execution_count": 20,
   "id": "a16761ee-e9ba-4d80-a074-352c3eddb1f5",
   "metadata": {},
   "outputs": [
    {
     "data": {
      "text/html": [
       "\n",
       "<div style=\"\n",
       "  max-width: 250px;\n",
       "  margin: 40px auto;\n",
       "  padding: 20px;\n",
       "  background: white;\n",
       "  border-radius: 12px;\n",
       "  box-shadow: 0 6px 10px rgba(0,0,0,0.1);\n",
       "  text-align: center;\n",
       "  font-family: sans-serif;\n",
       "\">\n",
       "  <img src=\"https://via.placeholder.com/100\" style=\"border-radius: 50%;\" />\n",
       "  <h3>John Doe</h3>\n",
       "  <p style=\"color: gray;\">Web Developer</p>\n",
       "</div>\n"
      ],
      "text/plain": [
       "<IPython.core.display.HTML object>"
      ]
     },
     "execution_count": 20,
     "metadata": {},
     "output_type": "execute_result"
    }
   ],
   "source": [
    "HTML(\"\"\"\n",
    "<div style=\"\n",
    "  max-width: 250px;\n",
    "  margin: 40px auto;\n",
    "  padding: 20px;\n",
    "  background: white;\n",
    "  border-radius: 12px;\n",
    "  box-shadow: 0 6px 10px rgba(0,0,0,0.1);\n",
    "  text-align: center;\n",
    "  font-family: sans-serif;\n",
    "\">\n",
    "  <img src=\"https://via.placeholder.com/100\" style=\"border-radius: 50%;\" />\n",
    "  <h3>John Doe</h3>\n",
    "  <p style=\"color: gray;\">Web Developer</p>\n",
    "</div>\n",
    "\"\"\")\n"
   ]
  },
  {
   "cell_type": "code",
   "execution_count": 21,
   "id": "5dcd5ade-e22c-435c-8f56-22e67bd6289c",
   "metadata": {},
   "outputs": [
    {
     "data": {
      "text/html": [
       "\n",
       "<div style=\"\n",
       "  height: 100vh;\n",
       "  background: linear-gradient(135deg, #667eea, #764ba2);\n",
       "  color: white;\n",
       "  display: flex;\n",
       "  align-items: center;\n",
       "  justify-content: center;\n",
       "  font-family: sans-serif;\n",
       "  font-size: 24px;\n",
       "\">\n",
       "  Welcome to My Gradient Page\n",
       "</div>\n"
      ],
      "text/plain": [
       "<IPython.core.display.HTML object>"
      ]
     },
     "execution_count": 21,
     "metadata": {},
     "output_type": "execute_result"
    }
   ],
   "source": [
    "HTML(\"\"\"\n",
    "<div style=\"\n",
    "  height: 100vh;\n",
    "  background: linear-gradient(135deg, #667eea, #764ba2);\n",
    "  color: white;\n",
    "  display: flex;\n",
    "  align-items: center;\n",
    "  justify-content: center;\n",
    "  font-family: sans-serif;\n",
    "  font-size: 24px;\n",
    "\">\n",
    "  Welcome to My Gradient Page\n",
    "</div>\n",
    "\"\"\")\n"
   ]
  },
  {
   "cell_type": "code",
   "execution_count": 22,
   "id": "1e19624d-1ebf-44ec-8737-da5eb4638fdb",
   "metadata": {},
   "outputs": [
    {
     "data": {
      "text/html": [
       "\n",
       "<div style=\"text-align:center; margin-top: 100px;\">\n",
       "  <div style=\"\n",
       "    border: 6px solid #f3f3f3;\n",
       "    border-top: 6px solid #3498db;\n",
       "    border-radius: 50%;\n",
       "    width: 60px;\n",
       "    height: 60px;\n",
       "    animation: spin 1s linear infinite;\n",
       "    margin: auto;\n",
       "  \"></div>\n",
       "  <style>\n",
       "    @keyframes spin {\n",
       "      0% { transform: rotate(0deg); }\n",
       "      100% { transform: rotate(360deg); }\n",
       "    }\n",
       "  </style>\n",
       "  <p style=\"font-family:sans-serif;\">Loading...</p>\n",
       "</div>\n"
      ],
      "text/plain": [
       "<IPython.core.display.HTML object>"
      ]
     },
     "execution_count": 22,
     "metadata": {},
     "output_type": "execute_result"
    }
   ],
   "source": [
    "HTML(\"\"\"\n",
    "<div style=\"text-align:center; margin-top: 100px;\">\n",
    "  <div style=\"\n",
    "    border: 6px solid #f3f3f3;\n",
    "    border-top: 6px solid #3498db;\n",
    "    border-radius: 50%;\n",
    "    width: 60px;\n",
    "    height: 60px;\n",
    "    animation: spin 1s linear infinite;\n",
    "    margin: auto;\n",
    "  \"></div>\n",
    "  <style>\n",
    "    @keyframes spin {\n",
    "      0% { transform: rotate(0deg); }\n",
    "      100% { transform: rotate(360deg); }\n",
    "    }\n",
    "  </style>\n",
    "  <p style=\"font-family:sans-serif;\">Loading...</p>\n",
    "</div>\n",
    "\"\"\")\n"
   ]
  },
  {
   "cell_type": "code",
   "execution_count": 23,
   "id": "646fadca-ba68-4e2d-8fca-aece4f013ada",
   "metadata": {},
   "outputs": [
    {
     "data": {
      "text/html": [
       "\n",
       "<div style=\"background: #333; overflow: hidden; font-family: sans-serif;\">\n",
       "  <a href=\"#\" style=\"float: left; color: white; text-align: center; padding: 14px 16px; text-decoration: none;\">Home</a>\n",
       "  <a href=\"#\" style=\"float: left; color: white; text-align: center; padding: 14px 16px; text-decoration: none;\">About</a>\n",
       "  <a href=\"#\" style=\"float: left; color: white; text-align: center; padding: 14px 16px; text-decoration: none;\">Contact</a>\n",
       "</div>\n"
      ],
      "text/plain": [
       "<IPython.core.display.HTML object>"
      ]
     },
     "execution_count": 23,
     "metadata": {},
     "output_type": "execute_result"
    }
   ],
   "source": [
    "from IPython.display import HTML\n",
    "\n",
    "HTML(\"\"\"\n",
    "<div style=\"background: #333; overflow: hidden; font-family: sans-serif;\">\n",
    "  <a href=\"#\" style=\"float: left; color: white; text-align: center; padding: 14px 16px; text-decoration: none;\">Home</a>\n",
    "  <a href=\"#\" style=\"float: left; color: white; text-align: center; padding: 14px 16px; text-decoration: none;\">About</a>\n",
    "  <a href=\"#\" style=\"float: left; color: white; text-align: center; padding: 14px 16px; text-decoration: none;\">Contact</a>\n",
    "</div>\n",
    "\"\"\")\n"
   ]
  },
  {
   "cell_type": "code",
   "execution_count": 24,
   "id": "118bcb80-9b4c-49b7-9d85-703f95a14d1a",
   "metadata": {},
   "outputs": [
    {
     "data": {
      "text/html": [
       "\n",
       "<div style=\"display: flex; justify-content: center; gap: 10px; margin-top: 30px;\">\n",
       "  <img src=\"https://via.placeholder.com/100\" style=\"border-radius: 8px;\">\n",
       "  <img src=\"https://via.placeholder.com/100\" style=\"border-radius: 8px;\">\n",
       "  <img src=\"https://via.placeholder.com/100\" style=\"border-radius: 8px;\">\n",
       "</div>\n"
      ],
      "text/plain": [
       "<IPython.core.display.HTML object>"
      ]
     },
     "execution_count": 24,
     "metadata": {},
     "output_type": "execute_result"
    }
   ],
   "source": [
    "HTML(\"\"\"\n",
    "<div style=\"display: flex; justify-content: center; gap: 10px; margin-top: 30px;\">\n",
    "  <img src=\"https://via.placeholder.com/100\" style=\"border-radius: 8px;\">\n",
    "  <img src=\"https://via.placeholder.com/100\" style=\"border-radius: 8px;\">\n",
    "  <img src=\"https://via.placeholder.com/100\" style=\"border-radius: 8px;\">\n",
    "</div>\n",
    "\"\"\")\n"
   ]
  },
  {
   "cell_type": "code",
   "execution_count": 25,
   "id": "ef1b88e8-b9f4-4ce2-8142-4ffdaa1c4d11",
   "metadata": {},
   "outputs": [
    {
     "data": {
      "text/html": [
       "\n",
       "<div style=\"max-width: 300px; margin: 30px auto; font-family: sans-serif;\">\n",
       "  <h3>Contact Us</h3>\n",
       "  <input type=\"text\" placeholder=\"Your Name\" style=\"width:100%; padding:8px; margin:6px 0;\"><br>\n",
       "  <input type=\"email\" placeholder=\"Your Email\" style=\"width:100%; padding:8px; margin:6px 0;\"><br>\n",
       "  <textarea placeholder=\"Your Message\" style=\"width:100%; padding:8px; margin:6px 0;\"></textarea><br>\n",
       "  <button style=\"padding:10px; background:#007bff; color:white; border:none; border-radius:5px;\">Send</button>\n",
       "</div>\n"
      ],
      "text/plain": [
       "<IPython.core.display.HTML object>"
      ]
     },
     "execution_count": 25,
     "metadata": {},
     "output_type": "execute_result"
    }
   ],
   "source": [
    "HTML(\"\"\"\n",
    "<div style=\"max-width: 300px; margin: 30px auto; font-family: sans-serif;\">\n",
    "  <h3>Contact Us</h3>\n",
    "  <input type=\"text\" placeholder=\"Your Name\" style=\"width:100%; padding:8px; margin:6px 0;\"><br>\n",
    "  <input type=\"email\" placeholder=\"Your Email\" style=\"width:100%; padding:8px; margin:6px 0;\"><br>\n",
    "  <textarea placeholder=\"Your Message\" style=\"width:100%; padding:8px; margin:6px 0;\"></textarea><br>\n",
    "  <button style=\"padding:10px; background:#007bff; color:white; border:none; border-radius:5px;\">Send</button>\n",
    "</div>\n",
    "\"\"\")\n"
   ]
  },
  {
   "cell_type": "code",
   "execution_count": 26,
   "id": "af3edb2d-84eb-4972-a5e0-aa311a8bb260",
   "metadata": {},
   "outputs": [
    {
     "data": {
      "text/html": [
       "\n",
       "<div style=\"background: #222; color: #ccc; text-align: center; padding: 20px; font-family: sans-serif; margin-top: 40px;\">\n",
       "  &copy; 2025 My Website | <a href=\"#\" style=\"color:#00bfff; text-decoration: none;\">Privacy Policy</a>\n",
       "</div>\n"
      ],
      "text/plain": [
       "<IPython.core.display.HTML object>"
      ]
     },
     "execution_count": 26,
     "metadata": {},
     "output_type": "execute_result"
    }
   ],
   "source": [
    "HTML(\"\"\"\n",
    "<div style=\"background: #222; color: #ccc; text-align: center; padding: 20px; font-family: sans-serif; margin-top: 40px;\">\n",
    "  &copy; 2025 My Website | <a href=\"#\" style=\"color:#00bfff; text-decoration: none;\">Privacy Policy</a>\n",
    "</div>\n",
    "\"\"\")\n"
   ]
  },
  {
   "cell_type": "code",
   "execution_count": 27,
   "id": "107b6b6b-49c1-4da2-b658-bfd135c9b72b",
   "metadata": {},
   "outputs": [
    {
     "data": {
      "text/html": [
       "\n",
       "<div style=\"font-family: Arial, sans-serif;\">\n",
       "  <button onclick=\"this.nextElementSibling.style.display = \n",
       "    this.nextElementSibling.style.display === 'block' ? 'none' : 'block';\"\n",
       "    style=\"background-color: #007bff; color: white; padding: 10px; border: none; width: 100%; text-align: left;\">\n",
       "    What is BGMI?\n",
       "  </button>\n",
       "  <div style=\"display: none; padding: 10px; background-color: #f1f1f1;\">\n",
       "    BGMI stands for Battlegrounds Mobile India. It’s a popular mobile game by Krafton.\n",
       "  </div>\n",
       "</div>\n"
      ],
      "text/plain": [
       "<IPython.core.display.HTML object>"
      ]
     },
     "execution_count": 27,
     "metadata": {},
     "output_type": "execute_result"
    }
   ],
   "source": [
    "from IPython.display import HTML\n",
    "\n",
    "HTML(\"\"\"\n",
    "<div style=\"font-family: Arial, sans-serif;\">\n",
    "  <button onclick=\"this.nextElementSibling.style.display = \n",
    "    this.nextElementSibling.style.display === 'block' ? 'none' : 'block';\"\n",
    "    style=\"background-color: #007bff; color: white; padding: 10px; border: none; width: 100%; text-align: left;\">\n",
    "    What is BGMI?\n",
    "  </button>\n",
    "  <div style=\"display: none; padding: 10px; background-color: #f1f1f1;\">\n",
    "    BGMI stands for Battlegrounds Mobile India. It’s a popular mobile game by Krafton.\n",
    "  </div>\n",
    "</div>\n",
    "\"\"\")\n"
   ]
  },
  {
   "cell_type": "code",
   "execution_count": 28,
   "id": "2d83541c-0c2d-4ebc-b64e-1351a41709fe",
   "metadata": {},
   "outputs": [
    {
     "data": {
      "text/html": [
       "\n",
       "<div style=\"\n",
       "  width: 250px; \n",
       "  height: 150px; \n",
       "  border-radius: 10px; \n",
       "  padding: 20px; \n",
       "  color: white; \n",
       "  font-family: sans-serif;\n",
       "  background: linear-gradient(45deg, #ff6ec4, #7873f5);\n",
       "  animation: gradient 4s ease infinite;\n",
       "\">\n",
       "  <h4>Gradient Box</h4>\n",
       "  <p>This box has a moving gradient!</p>\n",
       "</div>\n",
       "\n",
       "<style>\n",
       "@keyframes gradient {\n",
       "  0% { background-position: 0% 50%; }\n",
       "  50% { background-position: 100% 50%; }\n",
       "  100% { background-position: 0% 50%; }\n",
       "}\n",
       "div[style*=\"gradient\"] {\n",
       "  background-size: 200% 200%;\n",
       "}\n",
       "</style>\n"
      ],
      "text/plain": [
       "<IPython.core.display.HTML object>"
      ]
     },
     "execution_count": 28,
     "metadata": {},
     "output_type": "execute_result"
    }
   ],
   "source": []
  },
  {
   "cell_type": "code",
   "execution_count": 35,
   "id": "eb71ab7f-88d7-49c7-9642-d59cdacf4511",
   "metadata": {},
   "outputs": [
    {
     "name": "stderr",
     "output_type": "stream",
     "text": [
      "C:\\Users\\sahil\\AppData\\Local\\Temp\\ipykernel_2864\\1854938944.py:1: DeprecationWarning: Importing display from IPython.core.display is deprecated since IPython 7.14, please import from IPython.display\n",
      "  from IPython.core.display import display, HTML\n"
     ]
    },
    {
     "data": {
      "text/html": [
       "\n",
       "<div style=\"width: 200px; padding: 15px; background-color: #fff; border: 1px solid #ddd; box-shadow: 2px 2px 8px rgba(0,0,0,0.1); border-radius: 10px;\">\n",
       "  <h4>Title</h4>\n",
       "  <p>This is a simple card box.</p>\n",
       "</div>\n"
      ],
      "text/plain": [
       "<IPython.core.display.HTML object>"
      ]
     },
     "metadata": {},
     "output_type": "display_data"
    }
   ],
   "source": [
    "from IPython.core.display import display, HTML\n",
    "\n",
    "html_card = \"\"\"\n",
    "<div style=\"width: 200px; padding: 15px; background-color: #fff; border: 1px solid #ddd; box-shadow: 2px 2px 8px rgba(0,0,0,0.1); border-radius: 10px;\">\n",
    "  <h4>Title</h4>\n",
    "  <p>This is a simple card box.</p>\n",
    "</div>\n",
    "\"\"\"\n",
    "\n",
    "display(HTML(html_card))\n",
    "\n"
   ]
  },
  {
   "cell_type": "code",
   "execution_count": 36,
   "id": "eef29383-750e-4642-bcab-029c49eaf1f7",
   "metadata": {},
   "outputs": [
    {
     "data": {
      "text/html": [
       "\n",
       "<span style=\"background-color: #ffeb3b; padding: 5px 10px; border-radius: 20px; font-size: 14px;\">HTML</span>\n",
       "<span style=\"background-color: #8bc34a; padding: 5px 10px; border-radius: 20px; font-size: 14px;\">CSS</span>\n",
       "<span style=\"background-color: #03a9f4; padding: 5px 10px; border-radius: 20px; font-size: 14px;\">JS</span>\n"
      ],
      "text/plain": [
       "<IPython.core.display.HTML object>"
      ]
     },
     "metadata": {},
     "output_type": "display_data"
    }
   ],
   "source": [
    "tags_html = \"\"\"\n",
    "<span style=\"background-color: #ffeb3b; padding: 5px 10px; border-radius: 20px; font-size: 14px;\">HTML</span>\n",
    "<span style=\"background-color: #8bc34a; padding: 5px 10px; border-radius: 20px; font-size: 14px;\">CSS</span>\n",
    "<span style=\"background-color: #03a9f4; padding: 5px 10px; border-radius: 20px; font-size: 14px;\">JS</span>\n",
    "\"\"\"\n",
    "\n",
    "display(HTML(tags_html))\n"
   ]
  },
  {
   "cell_type": "code",
   "execution_count": 1,
   "id": "31e07df9-a353-416b-bf34-6c5132e55c05",
   "metadata": {},
   "outputs": [
    {
     "data": {
      "text/html": [
       "\n",
       "<!DOCTYPE html>\n",
       "<html lang=\"en\">\n",
       "<head>\n",
       "    <meta charset=\"UTF-8\">\n",
       "    <meta name=\"viewport\" content=\"width=device-width, initial-scale=1.0\">\n",
       "    <title>Visibility and z-index</title>\n",
       "    <style>\n",
       "        .box {\n",
       "            width: 170px;\n",
       "            height: 170px;\n",
       "            border: 2px solid black;\n",
       "        }\n",
       "        #box-1 {\n",
       "            z-index: 35;\n",
       "            position: relative;\n",
       "            top: 49px;\n",
       "            background-color: aqua;\n",
       "        }\n",
       "        #box-2 {\n",
       "            z-index: 34;\n",
       "            position: relative;\n",
       "            top: 14px;\n",
       "            background-color: red;\n",
       "        }\n",
       "        #box-3 {\n",
       "            background-color: green;\n",
       "        }\n",
       "        #box-4 {\n",
       "            background-color: pink;\n",
       "        }\n",
       "    </style>\n",
       "</head>\n",
       "<body>\n",
       "    <div class=\"box\" id=\"box-1\"></div>\n",
       "    <div class=\"box\" id=\"box-2\"></div>\n",
       "    <div class=\"box\" id=\"box-3\"></div>\n",
       "    <div class=\"box\" id=\"box-4\"></div>\n",
       "</body>\n",
       "</html>\n"
      ],
      "text/plain": [
       "<IPython.core.display.HTML object>"
      ]
     },
     "metadata": {},
     "output_type": "display_data"
    }
   ],
   "source": [
    "from IPython.display import display, HTML\n",
    "\n",
    "z_index_html = \"\"\"\n",
    "<!DOCTYPE html>\n",
    "<html lang=\"en\">\n",
    "<head>\n",
    "    <meta charset=\"UTF-8\">\n",
    "    <meta name=\"viewport\" content=\"width=device-width, initial-scale=1.0\">\n",
    "    <title>Visibility and z-index</title>\n",
    "    <style>\n",
    "        .box {\n",
    "            width: 170px;\n",
    "            height: 170px;\n",
    "            border: 2px solid black;\n",
    "        }\n",
    "        #box-1 {\n",
    "            z-index: 35;\n",
    "            position: relative;\n",
    "            top: 49px;\n",
    "            background-color: aqua;\n",
    "        }\n",
    "        #box-2 {\n",
    "            z-index: 34;\n",
    "            position: relative;\n",
    "            top: 14px;\n",
    "            background-color: red;\n",
    "        }\n",
    "        #box-3 {\n",
    "            background-color: green;\n",
    "        }\n",
    "        #box-4 {\n",
    "            background-color: pink;\n",
    "        }\n",
    "    </style>\n",
    "</head>\n",
    "<body>\n",
    "    <div class=\"box\" id=\"box-1\"></div>\n",
    "    <div class=\"box\" id=\"box-2\"></div>\n",
    "    <div class=\"box\" id=\"box-3\"></div>\n",
    "    <div class=\"box\" id=\"box-4\"></div>\n",
    "</body>\n",
    "</html>\n",
    "\"\"\"\n",
    "\n",
    "display(HTML(z_index_html))\n"
   ]
  },
  {
   "cell_type": "code",
   "execution_count": 2,
   "id": "b0897894-de2b-4f31-83df-c2efd355277f",
   "metadata": {},
   "outputs": [
    {
     "data": {
      "text/html": [
       "\n",
       "<!DOCTYPE html>\n",
       "<html lang=\"en\">\n",
       "<head>\n",
       "    <meta charset=\"UTF-8\">\n",
       "    <meta name=\"viewport\" content=\"width=device-width, initial-scale=1.0\">\n",
       "    <title>Flexbox Tutorial</title>\n",
       "    <style>\n",
       "        .container {\n",
       "            height: 500px;\n",
       "            width: 75%;\n",
       "            border: 2px solid brown;\n",
       "            display: flex;\n",
       "            flex-direction: row;\n",
       "            align-items: stretch;\n",
       "        }\n",
       "        .item {\n",
       "            width: 100px;\n",
       "            height: 100px;\n",
       "            background-color: tomato;\n",
       "            border: 2px solid green;\n",
       "            margin: 8px;\n",
       "            padding: 3px;\n",
       "        }\n",
       "        #item-1 {\n",
       "            /* order, grow, shrink examples can go here */\n",
       "        }\n",
       "        #item-2 {\n",
       "            flex-basis: 320px;\n",
       "        }\n",
       "        #item-3 {\n",
       "            order: 40;\n",
       "        }\n",
       "    </style>\n",
       "</head>\n",
       "<body>\n",
       "    <h1>This is Flexbox Tutorial</h1>\n",
       "    <div class=\"container\">\n",
       "        <div class=\"item\" id=\"item-1\">First box</div>\n",
       "        <div class=\"item\" id=\"item-2\">Second box</div>\n",
       "        <div class=\"item\" id=\"item-3\">Third box</div>\n",
       "        <div class=\"item\" id=\"item-4\">Fourth box</div>\n",
       "        <div class=\"item\" id=\"item-5\">Fifth box</div>\n",
       "        <div class=\"item\" id=\"item-6\">Sixth box</div>\n",
       "    </div>\n",
       "</body>\n",
       "</html>\n"
      ],
      "text/plain": [
       "<IPython.core.display.HTML object>"
      ]
     },
     "metadata": {},
     "output_type": "display_data"
    }
   ],
   "source": [
    "from IPython.display import display, HTML\n",
    "\n",
    "flexbox_html = \"\"\"\n",
    "<!DOCTYPE html>\n",
    "<html lang=\"en\">\n",
    "<head>\n",
    "    <meta charset=\"UTF-8\">\n",
    "    <meta name=\"viewport\" content=\"width=device-width, initial-scale=1.0\">\n",
    "    <title>Flexbox Tutorial</title>\n",
    "    <style>\n",
    "        .container {\n",
    "            height: 500px;\n",
    "            width: 75%;\n",
    "            border: 2px solid brown;\n",
    "            display: flex;\n",
    "            flex-direction: row;\n",
    "            align-items: stretch;\n",
    "        }\n",
    "        .item {\n",
    "            width: 100px;\n",
    "            height: 100px;\n",
    "            background-color: tomato;\n",
    "            border: 2px solid green;\n",
    "            margin: 8px;\n",
    "            padding: 3px;\n",
    "        }\n",
    "        #item-1 {\n",
    "            /* order, grow, shrink examples can go here */\n",
    "        }\n",
    "        #item-2 {\n",
    "            flex-basis: 320px;\n",
    "        }\n",
    "        #item-3 {\n",
    "            order: 40;\n",
    "        }\n",
    "    </style>\n",
    "</head>\n",
    "<body>\n",
    "    <h1>This is Flexbox Tutorial</h1>\n",
    "    <div class=\"container\">\n",
    "        <div class=\"item\" id=\"item-1\">First box</div>\n",
    "        <div class=\"item\" id=\"item-2\">Second box</div>\n",
    "        <div class=\"item\" id=\"item-3\">Third box</div>\n",
    "        <div class=\"item\" id=\"item-4\">Fourth box</div>\n",
    "        <div class=\"item\" id=\"item-5\">Fifth box</div>\n",
    "        <div class=\"item\" id=\"item-6\">Sixth box</div>\n",
    "    </div>\n",
    "</body>\n",
    "</html>\n",
    "\"\"\"\n",
    "\n",
    "display(HTML(flexbox_html))\n"
   ]
  },
  {
   "cell_type": "code",
   "execution_count": 3,
   "id": "8affaaac-d85c-4d8c-822d-bd0ea9ff6a7d",
   "metadata": {},
   "outputs": [
    {
     "data": {
      "text/html": [
       "\n",
       "<!DOCTYPE html>\n",
       "<html lang=\"en\">\n",
       "<head>\n",
       "    <meta charset=\"UTF-8\">\n",
       "    <meta name=\"viewport\" content=\"width=device-width, initial-scale=1.0\">\n",
       "    <title>Size units</title>\n",
       "    <style>\n",
       "        html {\n",
       "            font-size: 25px;\n",
       "        }\n",
       "        .container {\n",
       "            height: 100vh;\n",
       "            width: 100vw;\n",
       "            font-size: 10px;\n",
       "            border: 2px solid black;\n",
       "        }\n",
       "        h1 {\n",
       "            text-align: center;\n",
       "        }\n",
       "        #first {\n",
       "            /* font-size: 3em;\n",
       "               padding: 3em; */\n",
       "        }\n",
       "        #second {\n",
       "            /* font-size: 3rem;\n",
       "               padding: 3rem; */\n",
       "        }\n",
       "    </style>\n",
       "</head>\n",
       "<body>\n",
       "    <div class=\"container\">\n",
       "        <h1 id=\"first\">This is first heading</h1>\n",
       "        <h1 id=\"second\">This is second heading</h1>\n",
       "        <h1 id=\"third\">This is third heading</h1>\n",
       "    </div>\n",
       "</body>\n",
       "</html>\n"
      ],
      "text/plain": [
       "<IPython.core.display.HTML object>"
      ]
     },
     "metadata": {},
     "output_type": "display_data"
    }
   ],
   "source": [
    "from IPython.display import display, HTML\n",
    "\n",
    "size_units_html = \"\"\"\n",
    "<!DOCTYPE html>\n",
    "<html lang=\"en\">\n",
    "<head>\n",
    "    <meta charset=\"UTF-8\">\n",
    "    <meta name=\"viewport\" content=\"width=device-width, initial-scale=1.0\">\n",
    "    <title>Size units</title>\n",
    "    <style>\n",
    "        html {\n",
    "            font-size: 25px;\n",
    "        }\n",
    "        .container {\n",
    "            height: 100vh;\n",
    "            width: 100vw;\n",
    "            font-size: 10px;\n",
    "            border: 2px solid black;\n",
    "        }\n",
    "        h1 {\n",
    "            text-align: center;\n",
    "        }\n",
    "        #first {\n",
    "            /* font-size: 3em;\n",
    "               padding: 3em; */\n",
    "        }\n",
    "        #second {\n",
    "            /* font-size: 3rem;\n",
    "               padding: 3rem; */\n",
    "        }\n",
    "    </style>\n",
    "</head>\n",
    "<body>\n",
    "    <div class=\"container\">\n",
    "        <h1 id=\"first\">This is first heading</h1>\n",
    "        <h1 id=\"second\">This is second heading</h1>\n",
    "        <h1 id=\"third\">This is third heading</h1>\n",
    "    </div>\n",
    "</body>\n",
    "</html>\n",
    "\"\"\"\n",
    "\n",
    "display(HTML(size_units_html))\n"
   ]
  },
  {
   "cell_type": "code",
   "execution_count": 4,
   "id": "95bf4fc7-f552-4f20-be0e-57ba5f818a36",
   "metadata": {},
   "outputs": [
    {
     "data": {
      "text/html": [
       "\n",
       "<!DOCTYPE html>\n",
       "<html lang=\"en\">\n",
       "<head>\n",
       "    <meta charset=\"UTF-8\">\n",
       "    <meta name=\"viewport\" content=\"width=device-width, initial-scale=1.0\">\n",
       "    <title>Media Queries</title>\n",
       "    <style>\n",
       "        .box {\n",
       "            font-size: 72px;\n",
       "            text-align: center;\n",
       "            background-color: red;\n",
       "            color: white;\n",
       "            display: none;\n",
       "        }\n",
       "        @media only screen and (max-width: 300px) {\n",
       "            #box-1 {\n",
       "                display: block;\n",
       "                background-color: aqua;\n",
       "            }\n",
       "        }\n",
       "        @media (min-width: 300px) and (max-width: 500px) {\n",
       "            #box-2 {\n",
       "                display: block;\n",
       "                background-color: blueviolet;\n",
       "            }\n",
       "        }\n",
       "        @media (min-width: 500px) and (max-width: 800px) {\n",
       "            #box-3 {\n",
       "                display: block;\n",
       "                background-color: green;\n",
       "                color: black;\n",
       "            }\n",
       "        }\n",
       "        @media (min-width: 800px) {\n",
       "            #box-4 {\n",
       "                display: block;\n",
       "                background-color: yellow;\n",
       "            }\n",
       "        }\n",
       "    </style>\n",
       "</head>\n",
       "<body>\n",
       "    <div class=\"box\" id=\"box-1\">mai ek iPhone hoon</div>\n",
       "    <div class=\"box\" id=\"box-2\">mai ek Tablet hoon</div>\n",
       "    <div class=\"box\" id=\"box-3\">mai ek Desktop Computer hoon</div>\n",
       "    <div class=\"box\" id=\"box-4\">mai ek Widescreen Computer hoon</div>\n",
       "</body>\n",
       "</html>\n"
      ],
      "text/plain": [
       "<IPython.core.display.HTML object>"
      ]
     },
     "metadata": {},
     "output_type": "display_data"
    }
   ],
   "source": [
    "from IPython.display import display, HTML\n",
    "\n",
    "media_query_html = \"\"\"\n",
    "<!DOCTYPE html>\n",
    "<html lang=\"en\">\n",
    "<head>\n",
    "    <meta charset=\"UTF-8\">\n",
    "    <meta name=\"viewport\" content=\"width=device-width, initial-scale=1.0\">\n",
    "    <title>Media Queries</title>\n",
    "    <style>\n",
    "        .box {\n",
    "            font-size: 72px;\n",
    "            text-align: center;\n",
    "            background-color: red;\n",
    "            color: white;\n",
    "            display: none;\n",
    "        }\n",
    "        @media only screen and (max-width: 300px) {\n",
    "            #box-1 {\n",
    "                display: block;\n",
    "                background-color: aqua;\n",
    "            }\n",
    "        }\n",
    "        @media (min-width: 300px) and (max-width: 500px) {\n",
    "            #box-2 {\n",
    "                display: block;\n",
    "                background-color: blueviolet;\n",
    "            }\n",
    "        }\n",
    "        @media (min-width: 500px) and (max-width: 800px) {\n",
    "            #box-3 {\n",
    "                display: block;\n",
    "                background-color: green;\n",
    "                color: black;\n",
    "            }\n",
    "        }\n",
    "        @media (min-width: 800px) {\n",
    "            #box-4 {\n",
    "                display: block;\n",
    "                background-color: yellow;\n",
    "            }\n",
    "        }\n",
    "    </style>\n",
    "</head>\n",
    "<body>\n",
    "    <div class=\"box\" id=\"box-1\">mai ek iPhone hoon</div>\n",
    "    <div class=\"box\" id=\"box-2\">mai ek Tablet hoon</div>\n",
    "    <div class=\"box\" id=\"box-3\">mai ek Desktop Computer hoon</div>\n",
    "    <div class=\"box\" id=\"box-4\">mai ek Widescreen Computer hoon</div>\n",
    "</body>\n",
    "</html>\n",
    "\"\"\"\n",
    "\n",
    "display(HTML(media_query_html))\n"
   ]
  },
  {
   "cell_type": "code",
   "execution_count": 5,
   "id": "f5ce2036-3ba9-4d0e-a8d7-759bb7d74454",
   "metadata": {},
   "outputs": [
    {
     "name": "stderr",
     "output_type": "stream",
     "text": [
      "C:\\Users\\sahil\\AppData\\Local\\Temp\\ipykernel_18132\\2777063503.py:1: DeprecationWarning: Importing display from IPython.core.display is deprecated since IPython 7.14, please import from IPython.display\n",
      "  from IPython.core.display import display, HTML\n"
     ]
    },
    {
     "data": {
      "text/html": [
       "\n",
       "<!DOCTYPE html>\n",
       "<html lang=\"en\">\n",
       "<head>\n",
       "    <meta charset=\"UTF-8\">\n",
       "    <meta name=\"viewport\" content=\"width=device-width, initial-scale=1.0\">\n",
       "    <title>More on selectors</title>\n",
       "    <style>\n",
       "        h1 {\n",
       "            background-color: red;\n",
       "            color: black;\n",
       "            font-weight: bold;\n",
       "            text-align: center;\n",
       "        }\n",
       "        /* p right after div */\n",
       "        div + p {\n",
       "            color: white;\n",
       "            background-color: blue;\n",
       "        }\n",
       "    </style>\n",
       "</head>\n",
       "<body>\n",
       "    <h1>This is more on selectors</h1>\n",
       "    <div class=\"container\">\n",
       "        <div class=\"row\">\n",
       "            <ul>\n",
       "                <li class=\"items\"><p>This is another paragraph inside</p></li>\n",
       "                <li>This will not be affected</li>\n",
       "                <p>This is a para inside ul</p>\n",
       "            </ul>\n",
       "            <p>This is a paragraph</p>\n",
       "        </div>\n",
       "        <p>This is another paragraph</p>\n",
       "    </div>\n",
       "    <p>This is outermost paragraph</p>\n",
       "</body>\n",
       "</html>\n"
      ],
      "text/plain": [
       "<IPython.core.display.HTML object>"
      ]
     },
     "metadata": {},
     "output_type": "display_data"
    }
   ],
   "source": [
    "from IPython.core.display import display, HTML\n",
    "\n",
    "html_code = '''\n",
    "<!DOCTYPE html>\n",
    "<html lang=\"en\">\n",
    "<head>\n",
    "    <meta charset=\"UTF-8\">\n",
    "    <meta name=\"viewport\" content=\"width=device-width, initial-scale=1.0\">\n",
    "    <title>More on selectors</title>\n",
    "    <style>\n",
    "        h1 {\n",
    "            background-color: red;\n",
    "            color: black;\n",
    "            font-weight: bold;\n",
    "            text-align: center;\n",
    "        }\n",
    "        /* p right after div */\n",
    "        div + p {\n",
    "            color: white;\n",
    "            background-color: blue;\n",
    "        }\n",
    "    </style>\n",
    "</head>\n",
    "<body>\n",
    "    <h1>This is more on selectors</h1>\n",
    "    <div class=\"container\">\n",
    "        <div class=\"row\">\n",
    "            <ul>\n",
    "                <li class=\"items\"><p>This is another paragraph inside</p></li>\n",
    "                <li>This will not be affected</li>\n",
    "                <p>This is a para inside ul</p>\n",
    "            </ul>\n",
    "            <p>This is a paragraph</p>\n",
    "        </div>\n",
    "        <p>This is another paragraph</p>\n",
    "    </div>\n",
    "    <p>This is outermost paragraph</p>\n",
    "</body>\n",
    "</html>\n",
    "'''\n",
    "\n",
    "display(HTML(html_code))\n"
   ]
  },
  {
   "cell_type": "code",
   "execution_count": 6,
   "id": "a1a135a7-ccdd-46d3-aad3-5e8b3c6c596e",
   "metadata": {},
   "outputs": [
    {
     "name": "stderr",
     "output_type": "stream",
     "text": [
      "C:\\Users\\sahil\\AppData\\Local\\Temp\\ipykernel_18132\\3845158233.py:1: DeprecationWarning: Importing display from IPython.core.display is deprecated since IPython 7.14, please import from IPython.display\n",
      "  from IPython.core.display import display, HTML\n"
     ]
    },
    {
     "data": {
      "text/html": [
       "\n",
       "<!DOCTYPE html>\n",
       "<html lang=\"en\">\n",
       "<head>\n",
       "    <meta charset=\"UTF-8\">\n",
       "    <meta name=\"viewport\" content=\"width=device-width, initial-scale=1.0\">\n",
       "    <title>Attributes and nth child pseudo selectors</title>\n",
       "    <style>\n",
       "        input {\n",
       "            display: block;\n",
       "        }\n",
       "        input[type='text'] {\n",
       "            padding: 34px;\n",
       "            border: 2px solid red;\n",
       "        }\n",
       "        a[target] {\n",
       "            font-size: 34px;\n",
       "            color: green;\n",
       "        }\n",
       "        a[target='_self'] {\n",
       "            font-size: 34px;\n",
       "            color: blue;\n",
       "        }\n",
       "        input[type=email] {\n",
       "            padding: 20px;\n",
       "            color: yellow;\n",
       "            border: 4px solid black;\n",
       "        }\n",
       "        li:nth-child(3) {\n",
       "            color: cyan;\n",
       "            font-size: 10px;\n",
       "        }\n",
       "        li:nth-child(2n+0) {\n",
       "            color: red;\n",
       "        }\n",
       "        li:nth-child(odd) {\n",
       "            color: green;\n",
       "        }\n",
       "        .container {\n",
       "            margin: auto;\n",
       "            width: 233px;\n",
       "        }\n",
       "    </style>\n",
       "</head>\n",
       "<body>\n",
       "    <div class=\"container\">\n",
       "        <h1><a href=\"http://google.com\" target=\"_blank\">Go to google</a></h1>\n",
       "        <h1><a href=\"http://facebook.com\" target=\"_self\">Go to facebook</a></h1>\n",
       "        <form action=\"\" class=\"form-control\">\n",
       "            <input type=\"text\" placeholder=\"Enter your name\">\n",
       "            <input type=\"email\" placeholder=\"Enter your Email\">\n",
       "            <input type=\"password\" placeholder=\"Enter your password\">\n",
       "            <input type=\"submit\" value=\"Submit\">\n",
       "        </form>\n",
       "        <ul>\n",
       "            <li class=\"item\" id=\"item-1\">item1</li>\n",
       "            <li class=\"item\" id=\"item-2\">item2</li>\n",
       "            <li class=\"item\" id=\"item-3\">item3</li>\n",
       "            <li class=\"item\" id=\"item-4\">item4</li>\n",
       "            <li class=\"item\" id=\"item-5\">item5</li>\n",
       "            <li class=\"item\" id=\"item-6\">item6</li>\n",
       "        </ul>\n",
       "    </div>\n",
       "</body>\n",
       "</html>\n"
      ],
      "text/plain": [
       "<IPython.core.display.HTML object>"
      ]
     },
     "metadata": {},
     "output_type": "display_data"
    }
   ],
   "source": [
    "from IPython.core.display import display, HTML\n",
    "\n",
    "html_code = '''\n",
    "<!DOCTYPE html>\n",
    "<html lang=\"en\">\n",
    "<head>\n",
    "    <meta charset=\"UTF-8\">\n",
    "    <meta name=\"viewport\" content=\"width=device-width, initial-scale=1.0\">\n",
    "    <title>Attributes and nth child pseudo selectors</title>\n",
    "    <style>\n",
    "        input {\n",
    "            display: block;\n",
    "        }\n",
    "        input[type='text'] {\n",
    "            padding: 34px;\n",
    "            border: 2px solid red;\n",
    "        }\n",
    "        a[target] {\n",
    "            font-size: 34px;\n",
    "            color: green;\n",
    "        }\n",
    "        a[target='_self'] {\n",
    "            font-size: 34px;\n",
    "            color: blue;\n",
    "        }\n",
    "        input[type=email] {\n",
    "            padding: 20px;\n",
    "            color: yellow;\n",
    "            border: 4px solid black;\n",
    "        }\n",
    "        li:nth-child(3) {\n",
    "            color: cyan;\n",
    "            font-size: 10px;\n",
    "        }\n",
    "        li:nth-child(2n+0) {\n",
    "            color: red;\n",
    "        }\n",
    "        li:nth-child(odd) {\n",
    "            color: green;\n",
    "        }\n",
    "        .container {\n",
    "            margin: auto;\n",
    "            width: 233px;\n",
    "        }\n",
    "    </style>\n",
    "</head>\n",
    "<body>\n",
    "    <div class=\"container\">\n",
    "        <h1><a href=\"http://google.com\" target=\"_blank\">Go to google</a></h1>\n",
    "        <h1><a href=\"http://facebook.com\" target=\"_self\">Go to facebook</a></h1>\n",
    "        <form action=\"\" class=\"form-control\">\n",
    "            <input type=\"text\" placeholder=\"Enter your name\">\n",
    "            <input type=\"email\" placeholder=\"Enter your Email\">\n",
    "            <input type=\"password\" placeholder=\"Enter your password\">\n",
    "            <input type=\"submit\" value=\"Submit\">\n",
    "        </form>\n",
    "        <ul>\n",
    "            <li class=\"item\" id=\"item-1\">item1</li>\n",
    "            <li class=\"item\" id=\"item-2\">item2</li>\n",
    "            <li class=\"item\" id=\"item-3\">item3</li>\n",
    "            <li class=\"item\" id=\"item-4\">item4</li>\n",
    "            <li class=\"item\" id=\"item-5\">item5</li>\n",
    "            <li class=\"item\" id=\"item-6\">item6</li>\n",
    "        </ul>\n",
    "    </div>\n",
    "</body>\n",
    "</html>\n",
    "'''\n",
    "\n",
    "display(HTML(html_code))\n"
   ]
  },
  {
   "cell_type": "code",
   "execution_count": 8,
   "id": "d65f8920-5835-48db-9aac-4e5d5a3e9156",
   "metadata": {},
   "outputs": [
    {
     "name": "stderr",
     "output_type": "stream",
     "text": [
      "C:\\Users\\sahil\\AppData\\Local\\Temp\\ipykernel_18132\\4137644788.py:1: DeprecationWarning: Importing display from IPython.core.display is deprecated since IPython 7.14, please import from IPython.display\n",
      "  from IPython.core.display import display, HTML\n"
     ]
    },
    {
     "data": {
      "text/html": [
       "\n",
       "<!DOCTYPE html>\n",
       "<html lang=\"en\">\n",
       "<head>\n",
       "  <meta charset=\"UTF-8\" />\n",
       "  <meta name=\"viewport\" content=\"width=device-width, initial-scale=1.0\" />\n",
       "  <title>Background Image Test</title>\n",
       "  <style>\n",
       "    * {\n",
       "      margin: 0;\n",
       "      padding: 0;\n",
       "      box-sizing: border-box;\n",
       "    }\n",
       "\n",
       "    body {\n",
       "      font-family: Arial, sans-serif;\n",
       "      color: white;\n",
       "    }\n",
       "\n",
       "    header {\n",
       "      position: relative;\n",
       "      height: 100vh; /* full screen height */\n",
       "      display: flex;\n",
       "      align-items: center;\n",
       "      justify-content: center;\n",
       "      text-align: center;\n",
       "    }\n",
       "\n",
       "    header::before {\n",
       "      content: \"\";\n",
       "      position: absolute;\n",
       "      top: 0;\n",
       "      left: 0;\n",
       "      height: 100%;\n",
       "      width: 100%;\n",
       "      background: url('https://source.unsplash.com/1600x900/?nature,water') no-repeat center center/cover;\n",
       "      z-index: -1;\n",
       "      opacity: 0.4;\n",
       "    }\n",
       "\n",
       "    h1 {\n",
       "      font-size: 3rem;\n",
       "      z-index: 1;\n",
       "    }\n",
       "\n",
       "    nav ul {\n",
       "      display: flex;\n",
       "      list-style: none;\n",
       "      gap: 20px;\n",
       "      z-index: 1;\n",
       "      position: relative;\n",
       "    }\n",
       "\n",
       "    .item {\n",
       "      background: rgba(0, 0, 0, 0.3);\n",
       "      padding: 10px 15px;\n",
       "      border-radius: 5px;\n",
       "    }\n",
       "\n",
       "    section {\n",
       "      padding: 40px;\n",
       "      background-color: #111;\n",
       "      color: #eee;\n",
       "      text-align: center;\n",
       "    }\n",
       "\n",
       "    hr {\n",
       "      border: 1px solid #444;\n",
       "    }\n",
       "  </style>\n",
       "</head>\n",
       "<body>\n",
       "  <header>\n",
       "    <nav class=\"navbar\">\n",
       "      <ul>\n",
       "        <li class=\"item\">Home</li>\n",
       "        <li class=\"item\">About</li>\n",
       "        <li class=\"item\">Services</li>\n",
       "        <li class=\"item\">Contact Us</li>\n",
       "      </ul>\n",
       "    </nav>\n",
       "  </header>\n",
       "\n",
       "  <section>\n",
       "    <h1>Welcome to Coding World</h1>\n",
       "    <p>\n",
       "      Lorem ipsum dolor sit amet consectetur adipisicing elit. Molestias, eligendi quas quo soluta,\n",
       "      fugit perspiciatis facere iusto voluptatum porro at voluptatibus eum vero voluptates sapiente\n",
       "      veritatis? Incidunt natus tempora deserunt?\n",
       "    </p>\n",
       "  </section>\n",
       "\n",
       "  <hr />\n",
       "</body>\n",
       "</html>\n"
      ],
      "text/plain": [
       "<IPython.core.display.HTML object>"
      ]
     },
     "metadata": {},
     "output_type": "display_data"
    }
   ],
   "source": [
    "from IPython.core.display import display, HTML\n",
    "\n",
    "html_code = '''\n",
    "<!DOCTYPE html>\n",
    "<html lang=\"en\">\n",
    "<head>\n",
    "  <meta charset=\"UTF-8\" />\n",
    "  <meta name=\"viewport\" content=\"width=device-width, initial-scale=1.0\" />\n",
    "  <title>Background Image Test</title>\n",
    "  <style>\n",
    "    * {\n",
    "      margin: 0;\n",
    "      padding: 0;\n",
    "      box-sizing: border-box;\n",
    "    }\n",
    "\n",
    "    body {\n",
    "      font-family: Arial, sans-serif;\n",
    "      color: white;\n",
    "    }\n",
    "\n",
    "    header {\n",
    "      position: relative;\n",
    "      height: 100vh; /* full screen height */\n",
    "      display: flex;\n",
    "      align-items: center;\n",
    "      justify-content: center;\n",
    "      text-align: center;\n",
    "    }\n",
    "\n",
    "    header::before {\n",
    "      content: \"\";\n",
    "      position: absolute;\n",
    "      top: 0;\n",
    "      left: 0;\n",
    "      height: 100%;\n",
    "      width: 100%;\n",
    "      background: url('https://source.unsplash.com/1600x900/?nature,water') no-repeat center center/cover;\n",
    "      z-index: -1;\n",
    "      opacity: 0.4;\n",
    "    }\n",
    "\n",
    "    h1 {\n",
    "      font-size: 3rem;\n",
    "      z-index: 1;\n",
    "    }\n",
    "\n",
    "    nav ul {\n",
    "      display: flex;\n",
    "      list-style: none;\n",
    "      gap: 20px;\n",
    "      z-index: 1;\n",
    "      position: relative;\n",
    "    }\n",
    "\n",
    "    .item {\n",
    "      background: rgba(0, 0, 0, 0.3);\n",
    "      padding: 10px 15px;\n",
    "      border-radius: 5px;\n",
    "    }\n",
    "\n",
    "    section {\n",
    "      padding: 40px;\n",
    "      background-color: #111;\n",
    "      color: #eee;\n",
    "      text-align: center;\n",
    "    }\n",
    "\n",
    "    hr {\n",
    "      border: 1px solid #444;\n",
    "    }\n",
    "  </style>\n",
    "</head>\n",
    "<body>\n",
    "  <header>\n",
    "    <nav class=\"navbar\">\n",
    "      <ul>\n",
    "        <li class=\"item\">Home</li>\n",
    "        <li class=\"item\">About</li>\n",
    "        <li class=\"item\">Services</li>\n",
    "        <li class=\"item\">Contact Us</li>\n",
    "      </ul>\n",
    "    </nav>\n",
    "  </header>\n",
    "\n",
    "  <section>\n",
    "    <h1>Welcome to Coding World</h1>\n",
    "    <p>\n",
    "      Lorem ipsum dolor sit amet consectetur adipisicing elit. Molestias, eligendi quas quo soluta,\n",
    "      fugit perspiciatis facere iusto voluptatum porro at voluptatibus eum vero voluptates sapiente\n",
    "      veritatis? Incidunt natus tempora deserunt?\n",
    "    </p>\n",
    "  </section>\n",
    "\n",
    "  <hr />\n",
    "</body>\n",
    "</html>\n",
    "'''\n",
    "\n",
    "display(HTML(html_code))\n",
    "\n"
   ]
  },
  {
   "cell_type": "code",
   "execution_count": 7,
   "id": "eaee97f9-5835-4048-a350-06a937345222",
   "metadata": {},
   "outputs": [
    {
     "name": "stderr",
     "output_type": "stream",
     "text": [
      "C:\\Users\\sahil\\AppData\\Local\\Temp\\ipykernel_18132\\3492823427.py:1: DeprecationWarning: Importing display from IPython.core.display is deprecated since IPython 7.14, please import from IPython.display\n",
      "  from IPython.core.display import display, HTML\n"
     ]
    }
   ],
   "source": [
    "\n"
   ]
  },
  {
   "cell_type": "code",
   "execution_count": 10,
   "id": "a9549eb6-03d6-499a-ac11-558555237fea",
   "metadata": {},
   "outputs": [
    {
     "name": "stderr",
     "output_type": "stream",
     "text": [
      "C:\\Users\\sahil\\AppData\\Local\\Temp\\ipykernel_18132\\3104954739.py:1: DeprecationWarning: Importing display from IPython.core.display is deprecated since IPython 7.14, please import from IPython.display\n",
      "  from IPython.core.display import display, HTML\n"
     ]
    }
   ],
   "source": [
    "from IPython.core.display import display, HTML\n",
    "\n",
    "html_code = '''\n",
    "<!DOCTYPE html>\n",
    "<html lang=\"en\">\n",
    "<head>\n",
    "    <meta charset=\"UTF-8\">\n",
    "    <meta name=\"viewport\" content=\"width=device-width, initial-scale=1.0\">\n",
    "    <title>Box shadow and text Shadow</title>\n",
    "    <style>\n",
    "        .container {\n",
    "            display: flex;\n",
    "            flex-wrap: wrap;\n",
    "            gap: 20px;\n",
    "            padding: 20px;\n",
    "        }\n",
    "\n",
    "        .card {\n",
    "            padding: 23px 12px;\n",
    "            width: 300px;\n",
    "            background-color: burlywood;\n",
    "            box-shadow: inset 3px 5px green, 4px 6px red;\n",
    "            border-radius: 10px;\n",
    "        }\n",
    "\n",
    "        .card h2 {\n",
    "            text-shadow: -3px -4px 2px white;\n",
    "        }\n",
    "    </style>\n",
    "</head>\n",
    "<body>\n",
    "    <div class=\"container\">\n",
    "        <div class=\"card\" id=\"car-1\">\n",
    "            <h2>This is C++ Course</h2>\n",
    "            <p>I have started C++. Lorem ipsum dolor, sit amet consectetur adipisicing elit. Doloremque facilis perspiciatis nihil debitis minus, cumque illo laboriosam, reprehenderit repudiandae deserunt beatae incidunt amet minima accusantium, corrupti facere consectetur sint praesentium?</p>\n",
    "        </div>\n",
    "        <div class=\"card\" id=\"car-2\">\n",
    "            <h2>This is HTML Course</h2>\n",
    "            <p>Lorem ipsum dolor sit amet consectetur adipisicing elit. Optio vel nesciunt, earum culpa voluptatibus corrupti modi alias! Consequatur veritatis laborum vitae amet reiciendis, esse optio reprehenderit, aspernatur laboriosam, odit possimus?</p>\n",
    "        </div>\n",
    "        <div class=\"card\" id=\"car-3\">\n",
    "            <h2>Card 3</h2>\n",
    "            <p>Lorem ipsum, dolor sit amet consectetur adipisicing elit. Dolorum tempora quo illum assumenda, nam nihil repellat ea deleniti iure unde, perferendis est voluptatem, molestiae dolores eos fuga suscipit odit eum!</p>\n",
    "        </div>\n",
    "    </div>\n",
    "</body>\n",
    "</html>\n",
    "'''\n"
   ]
  },
  {
   "cell_type": "code",
   "execution_count": 11,
   "id": "ea870097-f3ca-46ae-897e-438612fddbbc",
   "metadata": {},
   "outputs": [
    {
     "data": {
      "text/html": [
       "\n",
       "<h2>My Favorite Fruits</h2>\n",
       "<ul>\n",
       "  <li>Apple</li>\n",
       "  <li>Banana</li>\n",
       "  <li>Mango</li>\n",
       "</ul>\n"
      ],
      "text/plain": [
       "<IPython.core.display.HTML object>"
      ]
     },
     "metadata": {},
     "output_type": "display_data"
    }
   ],
   "source": [
    "html_list = \"\"\"\n",
    "<h2>My Favorite Fruits</h2>\n",
    "<ul>\n",
    "  <li>Apple</li>\n",
    "  <li>Banana</li>\n",
    "  <li>Mango</li>\n",
    "</ul>\n",
    "\"\"\"\n",
    "display(HTML(html_list))\n"
   ]
  },
  {
   "cell_type": "code",
   "execution_count": 12,
   "id": "74fadaf1-0703-4999-9472-befa6d321f3c",
   "metadata": {},
   "outputs": [
    {
     "data": {
      "text/html": [
       "\n",
       "<marquee behavior=\"scroll\" direction=\"left\" style=\"color: purple; font-size: 20px;\">\n",
       "  Welcome to the Coding World!\n",
       "</marquee>\n"
      ],
      "text/plain": [
       "<IPython.core.display.HTML object>"
      ]
     },
     "metadata": {},
     "output_type": "display_data"
    }
   ],
   "source": [
    "html_marquee = \"\"\"\n",
    "<marquee behavior=\"scroll\" direction=\"left\" style=\"color: purple; font-size: 20px;\">\n",
    "  Welcome to the Coding World!\n",
    "</marquee>\n",
    "\"\"\"\n",
    "display(HTML(html_marquee))\n"
   ]
  },
  {
   "cell_type": "code",
   "execution_count": 13,
   "id": "3075a60f-6a65-4078-bd86-2f36dea3922a",
   "metadata": {},
   "outputs": [
    {
     "data": {
      "text/html": [
       "\n",
       "<h2>Steps to Learn HTML</h2>\n",
       "<ol>\n",
       "  <li>Start with basics</li>\n",
       "  <li>Learn tags</li>\n",
       "  <li>Practice daily</li>\n",
       "</ol>\n"
      ],
      "text/plain": [
       "<IPython.core.display.HTML object>"
      ]
     },
     "metadata": {},
     "output_type": "display_data"
    }
   ],
   "source": [
    "html_ordered_list = \"\"\"\n",
    "<h2>Steps to Learn HTML</h2>\n",
    "<ol>\n",
    "  <li>Start with basics</li>\n",
    "  <li>Learn tags</li>\n",
    "  <li>Practice daily</li>\n",
    "</ol>\n",
    "\"\"\"\n",
    "display(HTML(html_ordered_list))\n"
   ]
  },
  {
   "cell_type": "code",
   "execution_count": 14,
   "id": "b2185a95-f18c-4ba0-a1d3-8f0180be6a1a",
   "metadata": {},
   "outputs": [
    {
     "data": {
      "text/html": [
       "\n",
       "<blockquote style=\"font-style: italic; color: #555; border-left: 4px solid #ccc; padding-left: 10px;\">\n",
       "  “The only way to do great work is to love what you do.” – Steve Jobs\n",
       "</blockquote>\n"
      ],
      "text/plain": [
       "<IPython.core.display.HTML object>"
      ]
     },
     "metadata": {},
     "output_type": "display_data"
    }
   ],
   "source": [
    "html_quote = \"\"\"\n",
    "<blockquote style=\"font-style: italic; color: #555; border-left: 4px solid #ccc; padding-left: 10px;\">\n",
    "  “The only way to do great work is to love what you do.” – Steve Jobs\n",
    "</blockquote>\n",
    "\"\"\"\n",
    "display(HTML(html_quote))\n"
   ]
  },
  {
   "cell_type": "code",
   "execution_count": 15,
   "id": "90fec599-5135-47b1-a831-b7ed78c987cf",
   "metadata": {},
   "outputs": [
    {
     "data": {
      "text/html": [
       "\n",
       "<h3>Download Progress</h3>\n",
       "<progress value=\"70\" max=\"100\" style=\"width:300px;\"></progress>\n"
      ],
      "text/plain": [
       "<IPython.core.display.HTML object>"
      ]
     },
     "metadata": {},
     "output_type": "display_data"
    }
   ],
   "source": [
    "html_progress = \"\"\"\n",
    "<h3>Download Progress</h3>\n",
    "<progress value=\"70\" max=\"100\" style=\"width:300px;\"></progress>\n",
    "\"\"\"\n",
    "display(HTML(html_progress))\n"
   ]
  },
  {
   "cell_type": "code",
   "execution_count": 16,
   "id": "b84a9a40-3851-4cad-9cfc-2fe91600faac",
   "metadata": {},
   "outputs": [
    {
     "data": {
      "text/html": [
       "\n",
       "<h3>Unordered List</h3>\n",
       "<ul>\n",
       "  <li>Apple</li>\n",
       "  <li>Banana</li>\n",
       "  <li>Cherry</li>\n",
       "</ul>\n",
       "\n",
       "<h3>Ordered List</h3>\n",
       "<ol>\n",
       "  <li>Wake up</li>\n",
       "  <li>Brush Teeth</li>\n",
       "  <li>Exercise</li>\n",
       "</ol>\n"
      ],
      "text/plain": [
       "<IPython.core.display.HTML object>"
      ]
     },
     "metadata": {},
     "output_type": "display_data"
    }
   ],
   "source": [
    "from IPython.display import display, HTML\n",
    "\n",
    "html_lists = \"\"\"\n",
    "<h3>Unordered List</h3>\n",
    "<ul>\n",
    "  <li>Apple</li>\n",
    "  <li>Banana</li>\n",
    "  <li>Cherry</li>\n",
    "</ul>\n",
    "\n",
    "<h3>Ordered List</h3>\n",
    "<ol>\n",
    "  <li>Wake up</li>\n",
    "  <li>Brush Teeth</li>\n",
    "  <li>Exercise</li>\n",
    "</ol>\n",
    "\"\"\"\n",
    "display(HTML(html_lists))\n"
   ]
  },
  {
   "cell_type": "code",
   "execution_count": 17,
   "id": "9c333d36-611a-4244-8720-05f00e93a705",
   "metadata": {},
   "outputs": [
    {
     "data": {
      "text/html": [
       "\n",
       "<h3>Student Marks</h3>\n",
       "<table border=\"1\" cellpadding=\"5\">\n",
       "  <tr>\n",
       "    <th>Name</th>\n",
       "    <th>Subject</th>\n",
       "    <th>Marks</th>\n",
       "  </tr>\n",
       "  <tr>\n",
       "    <td>Alice</td>\n",
       "    <td>Math</td>\n",
       "    <td>95</td>\n",
       "  </tr>\n",
       "  <tr>\n",
       "    <td>Bob</td>\n",
       "    <td>Science</td>\n",
       "    <td>89</td>\n",
       "  </tr>\n",
       "</table>\n"
      ],
      "text/plain": [
       "<IPython.core.display.HTML object>"
      ]
     },
     "metadata": {},
     "output_type": "display_data"
    }
   ],
   "source": [
    "html_table = \"\"\"\n",
    "<h3>Student Marks</h3>\n",
    "<table border=\"1\" cellpadding=\"5\">\n",
    "  <tr>\n",
    "    <th>Name</th>\n",
    "    <th>Subject</th>\n",
    "    <th>Marks</th>\n",
    "  </tr>\n",
    "  <tr>\n",
    "    <td>Alice</td>\n",
    "    <td>Math</td>\n",
    "    <td>95</td>\n",
    "  </tr>\n",
    "  <tr>\n",
    "    <td>Bob</td>\n",
    "    <td>Science</td>\n",
    "    <td>89</td>\n",
    "  </tr>\n",
    "</table>\n",
    "\"\"\"\n",
    "display(HTML(html_table))\n"
   ]
  },
  {
   "cell_type": "code",
   "execution_count": 18,
   "id": "e3c8405e-da4e-4c3e-ac56-32f6e3f8ed05",
   "metadata": {},
   "outputs": [
    {
     "data": {
      "text/html": [
       "\n",
       "<marquee behavior=\"scroll\" direction=\"left\" style=\"color: blue; font-weight: bold;\">\n",
       "  Welcome to HTML inside Python!\n",
       "</marquee>\n"
      ],
      "text/plain": [
       "<IPython.core.display.HTML object>"
      ]
     },
     "metadata": {},
     "output_type": "display_data"
    }
   ],
   "source": [
    "html_marquee = \"\"\"\n",
    "<marquee behavior=\"scroll\" direction=\"left\" style=\"color: blue; font-weight: bold;\">\n",
    "  Welcome to HTML inside Python!\n",
    "</marquee>\n",
    "\"\"\"\n",
    "display(HTML(html_marquee))\n"
   ]
  },
  {
   "cell_type": "code",
   "execution_count": 19,
   "id": "71a8548c-a7e2-4c33-aae7-dbba8ce2ad19",
   "metadata": {},
   "outputs": [
    {
     "data": {
      "text/html": [
       "\n",
       "<p style=\"color: darkgreen; font-size: 20px; font-family: Arial;\">\n",
       "  This is a styled paragraph with inline CSS!\n",
       "</p>\n"
      ],
      "text/plain": [
       "<IPython.core.display.HTML object>"
      ]
     },
     "metadata": {},
     "output_type": "display_data"
    }
   ],
   "source": [
    "html_styled_text = \"\"\"\n",
    "<p style=\"color: darkgreen; font-size: 20px; font-family: Arial;\">\n",
    "  This is a styled paragraph with inline CSS!\n",
    "</p>\n",
    "\"\"\"\n",
    "display(HTML(html_styled_text))\n"
   ]
  },
  {
   "cell_type": "code",
   "execution_count": 20,
   "id": "de4e76ff-f6e9-4351-baef-0c6e61e37f8e",
   "metadata": {},
   "outputs": [
    {
     "data": {
      "text/html": [
       "\n",
       "<h3>Play an Audio Clip</h3>\n",
       "<audio controls>\n",
       "  <source src=\"https://www.soundhelix.com/examples/mp3/SoundHelix-Song-1.mp3\" type=\"audio/mpeg\">\n",
       "  Your browser does not support the audio element.\n",
       "</audio>\n"
      ],
      "text/plain": [
       "<IPython.core.display.HTML object>"
      ]
     },
     "metadata": {},
     "output_type": "display_data"
    }
   ],
   "source": [
    "html_audio = \"\"\"\n",
    "<h3>Play an Audio Clip</h3>\n",
    "<audio controls>\n",
    "  <source src=\"https://www.soundhelix.com/examples/mp3/SoundHelix-Song-1.mp3\" type=\"audio/mpeg\">\n",
    "  Your browser does not support the audio element.\n",
    "</audio>\n",
    "\"\"\"\n",
    "display(HTML(html_audio))\n"
   ]
  },
  {
   "cell_type": "code",
   "execution_count": 21,
   "id": "83ebaf88-149c-46b9-999b-d12b973c0124",
   "metadata": {},
   "outputs": [
    {
     "data": {
      "text/html": [
       "\n",
       "<h3>Sample Video</h3>\n",
       "<video width=\"320\" height=\"240\" controls>\n",
       "  <source src=\"https://www.w3schools.com/html/mov_bbb.mp4\" type=\"video/mp4\">\n",
       "  Your browser does not support the video tag.\n",
       "</video>\n"
      ],
      "text/plain": [
       "<IPython.core.display.HTML object>"
      ]
     },
     "metadata": {},
     "output_type": "display_data"
    }
   ],
   "source": [
    "html_video = \"\"\"\n",
    "<h3>Sample Video</h3>\n",
    "<video width=\"320\" height=\"240\" controls>\n",
    "  <source src=\"https://www.w3schools.com/html/mov_bbb.mp4\" type=\"video/mp4\">\n",
    "  Your browser does not support the video tag.\n",
    "</video>\n",
    "\"\"\"\n",
    "display(HTML(html_video))\n"
   ]
  },
  {
   "cell_type": "code",
   "execution_count": 22,
   "id": "b832a8fc-6faf-4905-b835-c23000ffd23d",
   "metadata": {},
   "outputs": [
    {
     "data": {
      "text/html": [
       "\n",
       "<div style=\"display:flex; gap:20px;\">\n",
       "  <div style=\"flex:1; background-color:lightseagreen; padding:20px;\">Column 1</div>\n",
       "  <div style=\"flex:1; background-color:lightpink; padding:20px;\">Column 2</div>\n",
       "  <div style=\"flex:1; background-color:lightyellow; padding:20px;\">Column 3</div>\n",
       "</div>\n"
      ],
      "text/plain": [
       "<IPython.core.display.HTML object>"
      ]
     },
     "metadata": {},
     "output_type": "display_data"
    }
   ],
   "source": [
    "html_flex = \"\"\"\n",
    "<div style=\"display:flex; gap:20px;\">\n",
    "  <div style=\"flex:1; background-color:lightseagreen; padding:20px;\">Column 1</div>\n",
    "  <div style=\"flex:1; background-color:lightpink; padding:20px;\">Column 2</div>\n",
    "  <div style=\"flex:1; background-color:lightyellow; padding:20px;\">Column 3</div>\n",
    "</div>\n",
    "\"\"\"\n",
    "display(HTML(html_flex))\n"
   ]
  },
  {
   "cell_type": "code",
   "execution_count": 23,
   "id": "c62aab8a-9f59-430e-92eb-81e2e4b324ca",
   "metadata": {},
   "outputs": [
    {
     "data": {
      "text/html": [
       "\n",
       "<table border=\"1\" cellpadding=\"10\" style=\"border-collapse:collapse; text-align:center;\">\n",
       "  <tr style=\"background-color:lightgray;\">\n",
       "    <th>Name</th>\n",
       "    <th>Age</th>\n",
       "    <th>City</th>\n",
       "  </tr>\n",
       "  <tr>\n",
       "    <td>Alice</td>\n",
       "    <td>24</td>\n",
       "    <td>Delhi</td>\n",
       "  </tr>\n",
       "  <tr>\n",
       "    <td>Bob</td>\n",
       "    <td>28</td>\n",
       "    <td>Mumbai</td>\n",
       "  </tr>\n",
       "</table>\n"
      ],
      "text/plain": [
       "<IPython.core.display.HTML object>"
      ]
     },
     "metadata": {},
     "output_type": "display_data"
    }
   ],
   "source": [
    "from IPython.display import display, HTML\n",
    "\n",
    "html_table = \"\"\"\n",
    "<table border=\"1\" cellpadding=\"10\" style=\"border-collapse:collapse; text-align:center;\">\n",
    "  <tr style=\"background-color:lightgray;\">\n",
    "    <th>Name</th>\n",
    "    <th>Age</th>\n",
    "    <th>City</th>\n",
    "  </tr>\n",
    "  <tr>\n",
    "    <td>Alice</td>\n",
    "    <td>24</td>\n",
    "    <td>Delhi</td>\n",
    "  </tr>\n",
    "  <tr>\n",
    "    <td>Bob</td>\n",
    "    <td>28</td>\n",
    "    <td>Mumbai</td>\n",
    "  </tr>\n",
    "</table>\n",
    "\"\"\"\n",
    "display(HTML(html_table))\n"
   ]
  },
  {
   "cell_type": "code",
   "execution_count": 24,
   "id": "a1f14506-3cc6-45f5-b6d0-363de65886c4",
   "metadata": {},
   "outputs": [
    {
     "data": {
      "text/html": [
       "\n",
       "<div style=\"width:200px; padding:20px; border:1px solid #ccc; border-radius:8px; transition:0.3s; background:#fefefe;\"\n",
       "     onmouseover=\"this.style.boxShadow='4px 4px 10px rgba(0,0,0,0.2)'\" \n",
       "     onmouseout=\"this.style.boxShadow='none'\">\n",
       "  <h3>Hover Me</h3>\n",
       "  <p>I'm a hoverable card box!</p>\n",
       "</div>\n"
      ],
      "text/plain": [
       "<IPython.core.display.HTML object>"
      ]
     },
     "metadata": {},
     "output_type": "display_data"
    }
   ],
   "source": [
    "html_hover_card = \"\"\"\n",
    "<div style=\"width:200px; padding:20px; border:1px solid #ccc; border-radius:8px; transition:0.3s; background:#fefefe;\"\n",
    "     onmouseover=\"this.style.boxShadow='4px 4px 10px rgba(0,0,0,0.2)'\" \n",
    "     onmouseout=\"this.style.boxShadow='none'\">\n",
    "  <h3>Hover Me</h3>\n",
    "  <p>I'm a hoverable card box!</p>\n",
    "</div>\n",
    "\"\"\"\n",
    "display(HTML(html_hover_card))\n"
   ]
  },
  {
   "cell_type": "code",
   "execution_count": 25,
   "id": "95bc6988-8a87-4b6d-836c-ef3013b858d9",
   "metadata": {},
   "outputs": [
    {
     "data": {
      "text/html": [
       "\n",
       "<div style=\"width:100px; height:100px; background:crimson; border-radius:50%; position:relative; animation:bounce 1s infinite alternate;\"></div>\n",
       "<style>\n",
       "@keyframes bounce {\n",
       "  from { top: 0px; }\n",
       "  to { top: 100px; }\n",
       "}\n",
       "</style>\n"
      ],
      "text/plain": [
       "<IPython.core.display.HTML object>"
      ]
     },
     "metadata": {},
     "output_type": "display_data"
    }
   ],
   "source": [
    "html_animation = \"\"\"\n",
    "<div style=\"width:100px; height:100px; background:crimson; border-radius:50%; position:relative; animation:bounce 1s infinite alternate;\"></div>\n",
    "<style>\n",
    "@keyframes bounce {\n",
    "  from { top: 0px; }\n",
    "  to { top: 100px; }\n",
    "}\n",
    "</style>\n",
    "\"\"\"\n",
    "display(HTML(html_animation))\n"
   ]
  },
  {
   "cell_type": "code",
   "execution_count": 26,
   "id": "d0ac03c6-0b98-40fd-a0be-5b748cdeb586",
   "metadata": {},
   "outputs": [
    {
     "data": {
      "text/html": [
       "\n",
       "<label for=\"courses\">Choose a course:</label>\n",
       "<select id=\"courses\" name=\"courses\">\n",
       "  <option value=\"html\">HTML</option>\n",
       "  <option value=\"css\">CSS</option>\n",
       "  <option value=\"js\">JavaScript</option>\n",
       "  <option value=\"python\">Python</option>\n",
       "</select>\n"
      ],
      "text/plain": [
       "<IPython.core.display.HTML object>"
      ]
     },
     "metadata": {},
     "output_type": "display_data"
    }
   ],
   "source": [
    "from IPython.display import HTML, display\n",
    "\n",
    "html_dropdown = \"\"\"\n",
    "<label for=\"courses\">Choose a course:</label>\n",
    "<select id=\"courses\" name=\"courses\">\n",
    "  <option value=\"html\">HTML</option>\n",
    "  <option value=\"css\">CSS</option>\n",
    "  <option value=\"js\">JavaScript</option>\n",
    "  <option value=\"python\">Python</option>\n",
    "</select>\n",
    "\"\"\"\n",
    "display(HTML(html_dropdown))\n"
   ]
  },
  {
   "cell_type": "code",
   "execution_count": 27,
   "id": "734ec622-2e9f-4c14-ad25-cbd5a23390db",
   "metadata": {},
   "outputs": [
    {
     "data": {
      "text/html": [
       "\n",
       "<p>Hover over the word \n",
       "<span style=\"text-decoration:underline; cursor:help;\" title=\"HyperText Markup Language\">HTML</span> \n",
       "to see the tooltip.</p>\n"
      ],
      "text/plain": [
       "<IPython.core.display.HTML object>"
      ]
     },
     "metadata": {},
     "output_type": "display_data"
    }
   ],
   "source": [
    "html_tooltip = \"\"\"\n",
    "<p>Hover over the word \n",
    "<span style=\"text-decoration:underline; cursor:help;\" title=\"HyperText Markup Language\">HTML</span> \n",
    "to see the tooltip.</p>\n",
    "\"\"\"\n",
    "display(HTML(html_tooltip))\n"
   ]
  },
  {
   "cell_type": "code",
   "execution_count": 28,
   "id": "7282648a-d133-471f-b117-0d6972a5ccae",
   "metadata": {},
   "outputs": [
    {
     "data": {
      "text/html": [
       "\n",
       "<form>\n",
       "  <p>Select your gender:</p>\n",
       "  <input type=\"radio\" id=\"male\" name=\"gender\" value=\"male\">\n",
       "  <label for=\"male\">Male</label><br>\n",
       "  <input type=\"radio\" id=\"female\" name=\"gender\" value=\"female\">\n",
       "  <label for=\"female\">Female</label><br>\n",
       "</form>\n"
      ],
      "text/plain": [
       "<IPython.core.display.HTML object>"
      ]
     },
     "metadata": {},
     "output_type": "display_data"
    }
   ],
   "source": [
    "html_radio = \"\"\"\n",
    "<form>\n",
    "  <p>Select your gender:</p>\n",
    "  <input type=\"radio\" id=\"male\" name=\"gender\" value=\"male\">\n",
    "  <label for=\"male\">Male</label><br>\n",
    "  <input type=\"radio\" id=\"female\" name=\"gender\" value=\"female\">\n",
    "  <label for=\"female\">Female</label><br>\n",
    "</form>\n",
    "\"\"\"\n",
    "display(HTML(html_radio))\n"
   ]
  },
  {
   "cell_type": "code",
   "execution_count": 29,
   "id": "ba9fa845-4412-4223-a6bb-bc9c8580f3bc",
   "metadata": {},
   "outputs": [
    {
     "data": {
      "text/html": [
       "\n",
       "<p style=\"font-size:20px;\">\n",
       "  <span style=\"color:blue; transition: 0.3s;\" onmouseover=\"this.style.color='red'\" onmouseout=\"this.style.color='blue'\">\n",
       "    Hover over me!\n",
       "  </span>\n",
       "</p>\n"
      ],
      "text/plain": [
       "<IPython.core.display.HTML object>"
      ]
     },
     "metadata": {},
     "output_type": "display_data"
    }
   ],
   "source": [
    "from IPython.display import HTML, display\n",
    "\n",
    "html_hover = \"\"\"\n",
    "<p style=\"font-size:20px;\">\n",
    "  <span style=\"color:blue; transition: 0.3s;\" onmouseover=\"this.style.color='red'\" onmouseout=\"this.style.color='blue'\">\n",
    "    Hover over me!\n",
    "  </span>\n",
    "</p>\n",
    "\"\"\"\n",
    "display(HTML(html_hover))\n"
   ]
  },
  {
   "cell_type": "code",
   "execution_count": 30,
   "id": "16d48e08-2248-41ff-8a02-2c5c755e59f6",
   "metadata": {},
   "outputs": [
    {
     "data": {
      "text/html": [
       "\n",
       "<iframe src=\"https://www.example.com\" width=\"300\" height=\"200\" style=\"border:1px solid black;\">\n",
       "</iframe>\n"
      ],
      "text/plain": [
       "<IPython.core.display.HTML object>"
      ]
     },
     "metadata": {},
     "output_type": "display_data"
    }
   ],
   "source": [
    "html_iframe = \"\"\"\n",
    "<iframe src=\"https://www.example.com\" width=\"300\" height=\"200\" style=\"border:1px solid black;\">\n",
    "</iframe>\n",
    "\"\"\"\n",
    "display(HTML(html_iframe))\n"
   ]
  },
  {
   "cell_type": "code",
   "execution_count": 31,
   "id": "acb314af-4653-46ac-844e-dddd6118124d",
   "metadata": {},
   "outputs": [
    {
     "data": {
      "text/html": [
       "\n",
       "<button onclick=\"alert('You clicked the button!')\" style=\"padding:10px; background-color:orange; color:white; border:none;\">\n",
       "  Show Alert\n",
       "</button>\n"
      ],
      "text/plain": [
       "<IPython.core.display.HTML object>"
      ]
     },
     "metadata": {},
     "output_type": "display_data"
    }
   ],
   "source": [
    "html_alert = \"\"\"\n",
    "<button onclick=\"alert('You clicked the button!')\" style=\"padding:10px; background-color:orange; color:white; border:none;\">\n",
    "  Show Alert\n",
    "</button>\n",
    "\"\"\"\n",
    "display(HTML(html_alert))\n"
   ]
  },
  {
   "cell_type": "code",
   "execution_count": 1,
   "id": "4273ea0c-ac41-4d63-b68f-63c2fa259489",
   "metadata": {},
   "outputs": [
    {
     "data": {
      "text/html": [
       "\n",
       "<!DOCTYPE html>\n",
       "<html lang=\"en\">\n",
       "<head>\n",
       "  <meta charset=\"UTF-8\">\n",
       "  <title>Welcome to BGMI</title>\n",
       "  <style>\n",
       "    body {\n",
       "      background-color: #000;\n",
       "      color: #fff;\n",
       "      font-family: Arial, sans-serif;\n",
       "      margin: 0;\n",
       "      padding: 0;\n",
       "      display: flex;\n",
       "      justify-content: center;\n",
       "      align-items: center;\n",
       "      height: 100vh;\n",
       "      text-align: center;\n",
       "    }\n",
       "    .welcome-box {\n",
       "      max-width: 600px;\n",
       "      padding: 30px;\n",
       "      background-color: #111;\n",
       "      border-radius: 10px;\n",
       "      box-shadow: 0 0 10px #333;\n",
       "    }\n",
       "    h1 {\n",
       "      color: #28a745;\n",
       "    }\n",
       "    ul {\n",
       "      text-align: left;\n",
       "      margin-top: 20px;\n",
       "    }\n",
       "    li {\n",
       "      margin-bottom: 10px;\n",
       "    }\n",
       "    .start-game-btn {\n",
       "      margin-top: 30px;\n",
       "      padding: 10px 20px;\n",
       "      background-color: #28a745;\n",
       "      border: none;\n",
       "      color: white;\n",
       "      border-radius: 5px;\n",
       "      font-size: 16px;\n",
       "      cursor: pointer;\n",
       "    }\n",
       "    .start-game-btn:hover {\n",
       "      background-color: #218838;\n",
       "    }\n",
       "  </style>\n",
       "</head>\n",
       "<body>\n",
       "\n",
       "  <div class=\"welcome-box\">\n",
       "    <h1>Welcome to BGMI!</h1>\n",
       "    <p>Thanks for signing up. Before you drop into the battlefield, here are a few things you should know:</p>\n",
       "    \n",
       "    <ul>\n",
       "      <li>You will get to know all resources in BGMI.</li>\n",
       "      <li>You will get to know the attributes of a Gun.</li>\n",
       "      <li>You will be able to read all the maps available.</li>\n",
       "      <li>You will get updates on different tournaments and a chance to participate.</li>\n",
       "    </ul>\n",
       "\n",
       "    <button class=\"start-game-btn\" onclick=\"alert('Redirecting to game.html...')\">Start Game</button>\n",
       "  </div>\n",
       "\n",
       "</body>\n",
       "</html>\n"
      ],
      "text/plain": [
       "<IPython.core.display.HTML object>"
      ]
     },
     "metadata": {},
     "output_type": "display_data"
    }
   ],
   "source": [
    "from IPython.display import display, HTML\n",
    "\n",
    "bgmi_html = \"\"\"\n",
    "<!DOCTYPE html>\n",
    "<html lang=\"en\">\n",
    "<head>\n",
    "  <meta charset=\"UTF-8\">\n",
    "  <title>Welcome to BGMI</title>\n",
    "  <style>\n",
    "    body {\n",
    "      background-color: #000;\n",
    "      color: #fff;\n",
    "      font-family: Arial, sans-serif;\n",
    "      margin: 0;\n",
    "      padding: 0;\n",
    "      display: flex;\n",
    "      justify-content: center;\n",
    "      align-items: center;\n",
    "      height: 100vh;\n",
    "      text-align: center;\n",
    "    }\n",
    "    .welcome-box {\n",
    "      max-width: 600px;\n",
    "      padding: 30px;\n",
    "      background-color: #111;\n",
    "      border-radius: 10px;\n",
    "      box-shadow: 0 0 10px #333;\n",
    "    }\n",
    "    h1 {\n",
    "      color: #28a745;\n",
    "    }\n",
    "    ul {\n",
    "      text-align: left;\n",
    "      margin-top: 20px;\n",
    "    }\n",
    "    li {\n",
    "      margin-bottom: 10px;\n",
    "    }\n",
    "    .start-game-btn {\n",
    "      margin-top: 30px;\n",
    "      padding: 10px 20px;\n",
    "      background-color: #28a745;\n",
    "      border: none;\n",
    "      color: white;\n",
    "      border-radius: 5px;\n",
    "      font-size: 16px;\n",
    "      cursor: pointer;\n",
    "    }\n",
    "    .start-game-btn:hover {\n",
    "      background-color: #218838;\n",
    "    }\n",
    "  </style>\n",
    "</head>\n",
    "<body>\n",
    "\n",
    "  <div class=\"welcome-box\">\n",
    "    <h1>Welcome to BGMI!</h1>\n",
    "    <p>Thanks for signing up. Before you drop into the battlefield, here are a few things you should know:</p>\n",
    "    \n",
    "    <ul>\n",
    "      <li>You will get to know all resources in BGMI.</li>\n",
    "      <li>You will get to know the attributes of a Gun.</li>\n",
    "      <li>You will be able to read all the maps available.</li>\n",
    "      <li>You will get updates on different tournaments and a chance to participate.</li>\n",
    "    </ul>\n",
    "\n",
    "    <button class=\"start-game-btn\" onclick=\"alert('Redirecting to game.html...')\">Start Game</button>\n",
    "  </div>\n",
    "\n",
    "</body>\n",
    "</html>\n",
    "\"\"\"\n",
    "\n",
    "display(HTML(bgmi_html))\n"
   ]
  },
  {
   "cell_type": "code",
   "execution_count": 2,
   "id": "47008a7d-eb19-4185-8963-9b406f62bf3c",
   "metadata": {},
   "outputs": [
    {
     "data": {
      "text/html": [
       "\n",
       "<!DOCTYPE html>\n",
       "<html lang=\"en\">\n",
       "<head>\n",
       "    <meta charset=\"UTF-8\">\n",
       "    <meta name=\"viewport\" content=\"width=device-width, initial-scale=1.0\">\n",
       "    <title>Best Online Food Delivery Service in India | MyOnlineMeal.com</title>\n",
       "    <style>\n",
       "        body {\n",
       "            margin: 0;\n",
       "            font-family: Arial, sans-serif;\n",
       "            background-color: #f9f9f9;\n",
       "        }\n",
       "\n",
       "        #navbar {\n",
       "            display: flex;\n",
       "            align-items: center;\n",
       "            justify-content: space-between;\n",
       "            background-color: #ff4c4c;\n",
       "            padding: 10px 30px;\n",
       "            box-shadow: 0 2px 5px rgba(0,0,0,0.1);\n",
       "        }\n",
       "\n",
       "        #logo img {\n",
       "            height: 60px;\n",
       "        }\n",
       "\n",
       "        ul {\n",
       "            list-style-type: none;\n",
       "            display: flex;\n",
       "            margin: 0;\n",
       "            padding: 0;\n",
       "        }\n",
       "\n",
       "        li.item {\n",
       "            margin-left: 20px;\n",
       "        }\n",
       "\n",
       "        li.item a {\n",
       "            color: white;\n",
       "            text-decoration: none;\n",
       "            font-size: 18px;\n",
       "            transition: color 0.3s ease;\n",
       "        }\n",
       "\n",
       "        li.item a:hover {\n",
       "            color: #ffd700;\n",
       "        }\n",
       "    </style>\n",
       "</head>\n",
       "<body>\n",
       "    <nav id=\"navbar\">\n",
       "        <div id=\"logo\">\n",
       "            <img src=\"https://via.placeholder.com/150x100.png?text=Logo\" alt=\"MyOnlineMeal.com\">\n",
       "        </div>\n",
       "        <ul>\n",
       "            <li class=\"item\"><a href=\"#\">Home</a></li>\n",
       "            <li class=\"item\"><a href=\"#\">Services</a></li>\n",
       "            <li class=\"item\"><a href=\"#\">About Us</a></li>\n",
       "            <li class=\"item\"><a href=\"#\">Contact Us</a></li>\n",
       "        </ul>\n",
       "    </nav>\n",
       "</body>\n",
       "</html>\n"
      ],
      "text/plain": [
       "<IPython.core.display.HTML object>"
      ]
     },
     "metadata": {},
     "output_type": "display_data"
    }
   ],
   "source": [
    "from IPython.display import display, HTML\n",
    "\n",
    "html_code = \"\"\"\n",
    "<!DOCTYPE html>\n",
    "<html lang=\"en\">\n",
    "<head>\n",
    "    <meta charset=\"UTF-8\">\n",
    "    <meta name=\"viewport\" content=\"width=device-width, initial-scale=1.0\">\n",
    "    <title>Best Online Food Delivery Service in India | MyOnlineMeal.com</title>\n",
    "    <style>\n",
    "        body {\n",
    "            margin: 0;\n",
    "            font-family: Arial, sans-serif;\n",
    "            background-color: #f9f9f9;\n",
    "        }\n",
    "\n",
    "        #navbar {\n",
    "            display: flex;\n",
    "            align-items: center;\n",
    "            justify-content: space-between;\n",
    "            background-color: #ff4c4c;\n",
    "            padding: 10px 30px;\n",
    "            box-shadow: 0 2px 5px rgba(0,0,0,0.1);\n",
    "        }\n",
    "\n",
    "        #logo img {\n",
    "            height: 60px;\n",
    "        }\n",
    "\n",
    "        ul {\n",
    "            list-style-type: none;\n",
    "            display: flex;\n",
    "            margin: 0;\n",
    "            padding: 0;\n",
    "        }\n",
    "\n",
    "        li.item {\n",
    "            margin-left: 20px;\n",
    "        }\n",
    "\n",
    "        li.item a {\n",
    "            color: white;\n",
    "            text-decoration: none;\n",
    "            font-size: 18px;\n",
    "            transition: color 0.3s ease;\n",
    "        }\n",
    "\n",
    "        li.item a:hover {\n",
    "            color: #ffd700;\n",
    "        }\n",
    "    </style>\n",
    "</head>\n",
    "<body>\n",
    "    <nav id=\"navbar\">\n",
    "        <div id=\"logo\">\n",
    "            <img src=\"https://via.placeholder.com/150x100.png?text=Logo\" alt=\"MyOnlineMeal.com\">\n",
    "        </div>\n",
    "        <ul>\n",
    "            <li class=\"item\"><a href=\"#\">Home</a></li>\n",
    "            <li class=\"item\"><a href=\"#\">Services</a></li>\n",
    "            <li class=\"item\"><a href=\"#\">About Us</a></li>\n",
    "            <li class=\"item\"><a href=\"#\">Contact Us</a></li>\n",
    "        </ul>\n",
    "    </nav>\n",
    "</body>\n",
    "</html>\n",
    "\"\"\"\n",
    "\n",
    "display(HTML(html_code))\n"
   ]
  },
  {
   "cell_type": "code",
   "execution_count": null,
   "id": "e1f56b55-9e35-4ed2-b4cc-e063511a75cc",
   "metadata": {},
   "outputs": [],
   "source": []
  }
 ],
 "metadata": {
  "kernelspec": {
   "display_name": "Python 3 (ipykernel)",
   "language": "python",
   "name": "python3"
  },
  "language_info": {
   "codemirror_mode": {
    "name": "ipython",
    "version": 3
   },
   "file_extension": ".py",
   "mimetype": "text/x-python",
   "name": "python",
   "nbconvert_exporter": "python",
   "pygments_lexer": "ipython3",
   "version": "3.13.5"
  }
 },
 "nbformat": 4,
 "nbformat_minor": 5
}
